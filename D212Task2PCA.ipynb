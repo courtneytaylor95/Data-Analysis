{
 "cells": [
  {
   "cell_type": "code",
   "execution_count": 1,
   "id": "87ab55cd-63d2-40e8-8825-f6c41e12e942",
   "metadata": {},
   "outputs": [],
   "source": [
    "import pandas as pd\n",
    "from pandas import Series, DataFrame\n",
    "import numpy as np\n",
    "import matplotlib.pyplot as plt\n",
    "%matplotlib inline\n",
    "import seaborn as sns\n",
    "plt.style.use('ggplot')"
   ]
  },
  {
   "cell_type": "code",
   "execution_count": 2,
   "id": "ec628cbe-4a35-4da6-bac0-47c9cd06a68e",
   "metadata": {},
   "outputs": [],
   "source": [
    "import sklearn\n",
    "from sklearn import datasets\n",
    "from sklearn.preprocessing import StandardScaler\n",
    "from sklearn.decomposition import PCA"
   ]
  },
  {
   "cell_type": "code",
   "execution_count": 3,
   "id": "ea35bb9a-146b-476f-b9fa-daef7c185069",
   "metadata": {},
   "outputs": [],
   "source": [
    "df = pd.read_csv('/Users/CourtneyTaylor/Downloads/churn_clean.csv')"
   ]
  },
  {
   "cell_type": "code",
   "execution_count": 4,
   "id": "599e1bc8-feaf-42d0-bb71-9aaaac644502",
   "metadata": {},
   "outputs": [
    {
     "data": {
      "text/html": [
       "<div>\n",
       "<style scoped>\n",
       "    .dataframe tbody tr th:only-of-type {\n",
       "        vertical-align: middle;\n",
       "    }\n",
       "\n",
       "    .dataframe tbody tr th {\n",
       "        vertical-align: top;\n",
       "    }\n",
       "\n",
       "    .dataframe thead th {\n",
       "        text-align: right;\n",
       "    }\n",
       "</style>\n",
       "<table border=\"1\" class=\"dataframe\">\n",
       "  <thead>\n",
       "    <tr style=\"text-align: right;\">\n",
       "      <th></th>\n",
       "      <th>CaseOrder</th>\n",
       "      <th>Customer_id</th>\n",
       "      <th>Interaction</th>\n",
       "      <th>UID</th>\n",
       "      <th>City</th>\n",
       "      <th>State</th>\n",
       "      <th>County</th>\n",
       "      <th>Zip</th>\n",
       "      <th>Lat</th>\n",
       "      <th>Lng</th>\n",
       "      <th>...</th>\n",
       "      <th>MonthlyCharge</th>\n",
       "      <th>Bandwidth_GB_Year</th>\n",
       "      <th>Item1</th>\n",
       "      <th>Item2</th>\n",
       "      <th>Item3</th>\n",
       "      <th>Item4</th>\n",
       "      <th>Item5</th>\n",
       "      <th>Item6</th>\n",
       "      <th>Item7</th>\n",
       "      <th>Item8</th>\n",
       "    </tr>\n",
       "  </thead>\n",
       "  <tbody>\n",
       "    <tr>\n",
       "      <th>0</th>\n",
       "      <td>1</td>\n",
       "      <td>K409198</td>\n",
       "      <td>aa90260b-4141-4a24-8e36-b04ce1f4f77b</td>\n",
       "      <td>e885b299883d4f9fb18e39c75155d990</td>\n",
       "      <td>Point Baker</td>\n",
       "      <td>AK</td>\n",
       "      <td>Prince of Wales-Hyder</td>\n",
       "      <td>99927</td>\n",
       "      <td>56.25100</td>\n",
       "      <td>-133.37571</td>\n",
       "      <td>...</td>\n",
       "      <td>172.455519</td>\n",
       "      <td>904.536110</td>\n",
       "      <td>5</td>\n",
       "      <td>5</td>\n",
       "      <td>5</td>\n",
       "      <td>3</td>\n",
       "      <td>4</td>\n",
       "      <td>4</td>\n",
       "      <td>3</td>\n",
       "      <td>4</td>\n",
       "    </tr>\n",
       "    <tr>\n",
       "      <th>1</th>\n",
       "      <td>2</td>\n",
       "      <td>S120509</td>\n",
       "      <td>fb76459f-c047-4a9d-8af9-e0f7d4ac2524</td>\n",
       "      <td>f2de8bef964785f41a2959829830fb8a</td>\n",
       "      <td>West Branch</td>\n",
       "      <td>MI</td>\n",
       "      <td>Ogemaw</td>\n",
       "      <td>48661</td>\n",
       "      <td>44.32893</td>\n",
       "      <td>-84.24080</td>\n",
       "      <td>...</td>\n",
       "      <td>242.632554</td>\n",
       "      <td>800.982766</td>\n",
       "      <td>3</td>\n",
       "      <td>4</td>\n",
       "      <td>3</td>\n",
       "      <td>3</td>\n",
       "      <td>4</td>\n",
       "      <td>3</td>\n",
       "      <td>4</td>\n",
       "      <td>4</td>\n",
       "    </tr>\n",
       "    <tr>\n",
       "      <th>2</th>\n",
       "      <td>3</td>\n",
       "      <td>K191035</td>\n",
       "      <td>344d114c-3736-4be5-98f7-c72c281e2d35</td>\n",
       "      <td>f1784cfa9f6d92ae816197eb175d3c71</td>\n",
       "      <td>Yamhill</td>\n",
       "      <td>OR</td>\n",
       "      <td>Yamhill</td>\n",
       "      <td>97148</td>\n",
       "      <td>45.35589</td>\n",
       "      <td>-123.24657</td>\n",
       "      <td>...</td>\n",
       "      <td>159.947583</td>\n",
       "      <td>2054.706961</td>\n",
       "      <td>4</td>\n",
       "      <td>4</td>\n",
       "      <td>2</td>\n",
       "      <td>4</td>\n",
       "      <td>4</td>\n",
       "      <td>3</td>\n",
       "      <td>3</td>\n",
       "      <td>3</td>\n",
       "    </tr>\n",
       "    <tr>\n",
       "      <th>3</th>\n",
       "      <td>4</td>\n",
       "      <td>D90850</td>\n",
       "      <td>abfa2b40-2d43-4994-b15a-989b8c79e311</td>\n",
       "      <td>dc8a365077241bb5cd5ccd305136b05e</td>\n",
       "      <td>Del Mar</td>\n",
       "      <td>CA</td>\n",
       "      <td>San Diego</td>\n",
       "      <td>92014</td>\n",
       "      <td>32.96687</td>\n",
       "      <td>-117.24798</td>\n",
       "      <td>...</td>\n",
       "      <td>119.956840</td>\n",
       "      <td>2164.579412</td>\n",
       "      <td>4</td>\n",
       "      <td>4</td>\n",
       "      <td>4</td>\n",
       "      <td>2</td>\n",
       "      <td>5</td>\n",
       "      <td>4</td>\n",
       "      <td>3</td>\n",
       "      <td>3</td>\n",
       "    </tr>\n",
       "    <tr>\n",
       "      <th>4</th>\n",
       "      <td>5</td>\n",
       "      <td>K662701</td>\n",
       "      <td>68a861fd-0d20-4e51-a587-8a90407ee574</td>\n",
       "      <td>aabb64a116e83fdc4befc1fbab1663f9</td>\n",
       "      <td>Needville</td>\n",
       "      <td>TX</td>\n",
       "      <td>Fort Bend</td>\n",
       "      <td>77461</td>\n",
       "      <td>29.38012</td>\n",
       "      <td>-95.80673</td>\n",
       "      <td>...</td>\n",
       "      <td>149.948316</td>\n",
       "      <td>271.493436</td>\n",
       "      <td>4</td>\n",
       "      <td>4</td>\n",
       "      <td>4</td>\n",
       "      <td>3</td>\n",
       "      <td>4</td>\n",
       "      <td>4</td>\n",
       "      <td>4</td>\n",
       "      <td>5</td>\n",
       "    </tr>\n",
       "    <tr>\n",
       "      <th>...</th>\n",
       "      <td>...</td>\n",
       "      <td>...</td>\n",
       "      <td>...</td>\n",
       "      <td>...</td>\n",
       "      <td>...</td>\n",
       "      <td>...</td>\n",
       "      <td>...</td>\n",
       "      <td>...</td>\n",
       "      <td>...</td>\n",
       "      <td>...</td>\n",
       "      <td>...</td>\n",
       "      <td>...</td>\n",
       "      <td>...</td>\n",
       "      <td>...</td>\n",
       "      <td>...</td>\n",
       "      <td>...</td>\n",
       "      <td>...</td>\n",
       "      <td>...</td>\n",
       "      <td>...</td>\n",
       "      <td>...</td>\n",
       "      <td>...</td>\n",
       "    </tr>\n",
       "    <tr>\n",
       "      <th>9995</th>\n",
       "      <td>9996</td>\n",
       "      <td>M324793</td>\n",
       "      <td>45deb5a2-ae04-4518-bf0b-c82db8dbe4a4</td>\n",
       "      <td>9499fb4de537af195d16d046b79fd20a</td>\n",
       "      <td>Mount Holly</td>\n",
       "      <td>VT</td>\n",
       "      <td>Rutland</td>\n",
       "      <td>5758</td>\n",
       "      <td>43.43391</td>\n",
       "      <td>-72.78734</td>\n",
       "      <td>...</td>\n",
       "      <td>159.979400</td>\n",
       "      <td>6511.252601</td>\n",
       "      <td>3</td>\n",
       "      <td>2</td>\n",
       "      <td>3</td>\n",
       "      <td>3</td>\n",
       "      <td>4</td>\n",
       "      <td>3</td>\n",
       "      <td>2</td>\n",
       "      <td>3</td>\n",
       "    </tr>\n",
       "    <tr>\n",
       "      <th>9996</th>\n",
       "      <td>9997</td>\n",
       "      <td>D861732</td>\n",
       "      <td>6e96b921-0c09-4993-bbda-a1ac6411061a</td>\n",
       "      <td>c09a841117fa81b5c8e19afec2760104</td>\n",
       "      <td>Clarksville</td>\n",
       "      <td>TN</td>\n",
       "      <td>Montgomery</td>\n",
       "      <td>37042</td>\n",
       "      <td>36.56907</td>\n",
       "      <td>-87.41694</td>\n",
       "      <td>...</td>\n",
       "      <td>207.481100</td>\n",
       "      <td>5695.951810</td>\n",
       "      <td>4</td>\n",
       "      <td>5</td>\n",
       "      <td>5</td>\n",
       "      <td>4</td>\n",
       "      <td>4</td>\n",
       "      <td>5</td>\n",
       "      <td>2</td>\n",
       "      <td>5</td>\n",
       "    </tr>\n",
       "    <tr>\n",
       "      <th>9997</th>\n",
       "      <td>9998</td>\n",
       "      <td>I243405</td>\n",
       "      <td>e8307ddf-9a01-4fff-bc59-4742e03fd24f</td>\n",
       "      <td>9c41f212d1e04dca84445019bbc9b41c</td>\n",
       "      <td>Mobeetie</td>\n",
       "      <td>TX</td>\n",
       "      <td>Wheeler</td>\n",
       "      <td>79061</td>\n",
       "      <td>35.52039</td>\n",
       "      <td>-100.44180</td>\n",
       "      <td>...</td>\n",
       "      <td>169.974100</td>\n",
       "      <td>4159.305799</td>\n",
       "      <td>4</td>\n",
       "      <td>4</td>\n",
       "      <td>4</td>\n",
       "      <td>4</td>\n",
       "      <td>4</td>\n",
       "      <td>4</td>\n",
       "      <td>4</td>\n",
       "      <td>5</td>\n",
       "    </tr>\n",
       "    <tr>\n",
       "      <th>9998</th>\n",
       "      <td>9999</td>\n",
       "      <td>I641617</td>\n",
       "      <td>3775ccfc-0052-4107-81ae-9657f81ecdf3</td>\n",
       "      <td>3e1f269b40c235a1038863ecf6b7a0df</td>\n",
       "      <td>Carrollton</td>\n",
       "      <td>GA</td>\n",
       "      <td>Carroll</td>\n",
       "      <td>30117</td>\n",
       "      <td>33.58016</td>\n",
       "      <td>-85.13241</td>\n",
       "      <td>...</td>\n",
       "      <td>252.624000</td>\n",
       "      <td>6468.456752</td>\n",
       "      <td>4</td>\n",
       "      <td>4</td>\n",
       "      <td>6</td>\n",
       "      <td>4</td>\n",
       "      <td>3</td>\n",
       "      <td>3</td>\n",
       "      <td>5</td>\n",
       "      <td>4</td>\n",
       "    </tr>\n",
       "    <tr>\n",
       "      <th>9999</th>\n",
       "      <td>10000</td>\n",
       "      <td>T38070</td>\n",
       "      <td>9de5fb6e-bd33-4995-aec8-f01d0172a499</td>\n",
       "      <td>0ea683a03a3cd544aefe8388aab16176</td>\n",
       "      <td>Clarkesville</td>\n",
       "      <td>GA</td>\n",
       "      <td>Habersham</td>\n",
       "      <td>30523</td>\n",
       "      <td>34.70783</td>\n",
       "      <td>-83.53648</td>\n",
       "      <td>...</td>\n",
       "      <td>217.484000</td>\n",
       "      <td>5857.586167</td>\n",
       "      <td>2</td>\n",
       "      <td>2</td>\n",
       "      <td>3</td>\n",
       "      <td>3</td>\n",
       "      <td>3</td>\n",
       "      <td>3</td>\n",
       "      <td>4</td>\n",
       "      <td>1</td>\n",
       "    </tr>\n",
       "  </tbody>\n",
       "</table>\n",
       "<p>10000 rows × 50 columns</p>\n",
       "</div>"
      ],
      "text/plain": [
       "      CaseOrder Customer_id                           Interaction  \\\n",
       "0             1     K409198  aa90260b-4141-4a24-8e36-b04ce1f4f77b   \n",
       "1             2     S120509  fb76459f-c047-4a9d-8af9-e0f7d4ac2524   \n",
       "2             3     K191035  344d114c-3736-4be5-98f7-c72c281e2d35   \n",
       "3             4      D90850  abfa2b40-2d43-4994-b15a-989b8c79e311   \n",
       "4             5     K662701  68a861fd-0d20-4e51-a587-8a90407ee574   \n",
       "...         ...         ...                                   ...   \n",
       "9995       9996     M324793  45deb5a2-ae04-4518-bf0b-c82db8dbe4a4   \n",
       "9996       9997     D861732  6e96b921-0c09-4993-bbda-a1ac6411061a   \n",
       "9997       9998     I243405  e8307ddf-9a01-4fff-bc59-4742e03fd24f   \n",
       "9998       9999     I641617  3775ccfc-0052-4107-81ae-9657f81ecdf3   \n",
       "9999      10000      T38070  9de5fb6e-bd33-4995-aec8-f01d0172a499   \n",
       "\n",
       "                                   UID          City State  \\\n",
       "0     e885b299883d4f9fb18e39c75155d990   Point Baker    AK   \n",
       "1     f2de8bef964785f41a2959829830fb8a   West Branch    MI   \n",
       "2     f1784cfa9f6d92ae816197eb175d3c71       Yamhill    OR   \n",
       "3     dc8a365077241bb5cd5ccd305136b05e       Del Mar    CA   \n",
       "4     aabb64a116e83fdc4befc1fbab1663f9     Needville    TX   \n",
       "...                                ...           ...   ...   \n",
       "9995  9499fb4de537af195d16d046b79fd20a   Mount Holly    VT   \n",
       "9996  c09a841117fa81b5c8e19afec2760104   Clarksville    TN   \n",
       "9997  9c41f212d1e04dca84445019bbc9b41c      Mobeetie    TX   \n",
       "9998  3e1f269b40c235a1038863ecf6b7a0df    Carrollton    GA   \n",
       "9999  0ea683a03a3cd544aefe8388aab16176  Clarkesville    GA   \n",
       "\n",
       "                     County    Zip       Lat        Lng  ...  MonthlyCharge  \\\n",
       "0     Prince of Wales-Hyder  99927  56.25100 -133.37571  ...     172.455519   \n",
       "1                    Ogemaw  48661  44.32893  -84.24080  ...     242.632554   \n",
       "2                   Yamhill  97148  45.35589 -123.24657  ...     159.947583   \n",
       "3                 San Diego  92014  32.96687 -117.24798  ...     119.956840   \n",
       "4                 Fort Bend  77461  29.38012  -95.80673  ...     149.948316   \n",
       "...                     ...    ...       ...        ...  ...            ...   \n",
       "9995                Rutland   5758  43.43391  -72.78734  ...     159.979400   \n",
       "9996             Montgomery  37042  36.56907  -87.41694  ...     207.481100   \n",
       "9997                Wheeler  79061  35.52039 -100.44180  ...     169.974100   \n",
       "9998                Carroll  30117  33.58016  -85.13241  ...     252.624000   \n",
       "9999              Habersham  30523  34.70783  -83.53648  ...     217.484000   \n",
       "\n",
       "     Bandwidth_GB_Year Item1 Item2  Item3  Item4  Item5 Item6 Item7 Item8  \n",
       "0           904.536110     5     5      5      3      4     4     3     4  \n",
       "1           800.982766     3     4      3      3      4     3     4     4  \n",
       "2          2054.706961     4     4      2      4      4     3     3     3  \n",
       "3          2164.579412     4     4      4      2      5     4     3     3  \n",
       "4           271.493436     4     4      4      3      4     4     4     5  \n",
       "...                ...   ...   ...    ...    ...    ...   ...   ...   ...  \n",
       "9995       6511.252601     3     2      3      3      4     3     2     3  \n",
       "9996       5695.951810     4     5      5      4      4     5     2     5  \n",
       "9997       4159.305799     4     4      4      4      4     4     4     5  \n",
       "9998       6468.456752     4     4      6      4      3     3     5     4  \n",
       "9999       5857.586167     2     2      3      3      3     3     4     1  \n",
       "\n",
       "[10000 rows x 50 columns]"
      ]
     },
     "execution_count": 4,
     "metadata": {},
     "output_type": "execute_result"
    }
   ],
   "source": [
    "df"
   ]
  },
  {
   "cell_type": "code",
   "execution_count": 5,
   "id": "ccd87199-159c-4dd4-a96a-db7aa8d5d36d",
   "metadata": {},
   "outputs": [
    {
     "data": {
      "text/plain": [
       "CaseOrder               0\n",
       "Customer_id             0\n",
       "Interaction             0\n",
       "UID                     0\n",
       "City                    0\n",
       "State                   0\n",
       "County                  0\n",
       "Zip                     0\n",
       "Lat                     0\n",
       "Lng                     0\n",
       "Population              0\n",
       "Area                    0\n",
       "TimeZone                0\n",
       "Job                     0\n",
       "Children                0\n",
       "Age                     0\n",
       "Income                  0\n",
       "Marital                 0\n",
       "Gender                  0\n",
       "Churn                   0\n",
       "Outage_sec_perweek      0\n",
       "Email                   0\n",
       "Contacts                0\n",
       "Yearly_equip_failure    0\n",
       "Techie                  0\n",
       "Contract                0\n",
       "Port_modem              0\n",
       "Tablet                  0\n",
       "InternetService         0\n",
       "Phone                   0\n",
       "Multiple                0\n",
       "OnlineSecurity          0\n",
       "OnlineBackup            0\n",
       "DeviceProtection        0\n",
       "TechSupport             0\n",
       "StreamingTV             0\n",
       "StreamingMovies         0\n",
       "PaperlessBilling        0\n",
       "PaymentMethod           0\n",
       "Tenure                  0\n",
       "MonthlyCharge           0\n",
       "Bandwidth_GB_Year       0\n",
       "Item1                   0\n",
       "Item2                   0\n",
       "Item3                   0\n",
       "Item4                   0\n",
       "Item5                   0\n",
       "Item6                   0\n",
       "Item7                   0\n",
       "Item8                   0\n",
       "dtype: int64"
      ]
     },
     "execution_count": 5,
     "metadata": {},
     "output_type": "execute_result"
    }
   ],
   "source": [
    "df.isnull().sum()"
   ]
  },
  {
   "cell_type": "code",
   "execution_count": 6,
   "id": "eba72331-fba8-4fae-a1d6-b0954bc35760",
   "metadata": {},
   "outputs": [
    {
     "data": {
      "text/plain": [
       "0"
      ]
     },
     "execution_count": 6,
     "metadata": {},
     "output_type": "execute_result"
    }
   ],
   "source": [
    "df.duplicated().sum()"
   ]
  },
  {
   "cell_type": "code",
   "execution_count": 7,
   "id": "3e56c23b-41f9-4ed6-8e0a-3bcadb9b5c94",
   "metadata": {},
   "outputs": [
    {
     "data": {
      "text/plain": [
       "Index(['CaseOrder', 'Customer_id', 'Interaction', 'UID', 'City', 'State',\n",
       "       'County', 'Zip', 'Lat', 'Lng', 'Population', 'Area', 'TimeZone', 'Job',\n",
       "       'Children', 'Age', 'Income', 'Marital', 'Gender', 'Churn',\n",
       "       'Outage_sec_perweek', 'Email', 'Contacts', 'Yearly_equip_failure',\n",
       "       'Techie', 'Contract', 'Port_modem', 'Tablet', 'InternetService',\n",
       "       'Phone', 'Multiple', 'OnlineSecurity', 'OnlineBackup',\n",
       "       'DeviceProtection', 'TechSupport', 'StreamingTV', 'StreamingMovies',\n",
       "       'PaperlessBilling', 'PaymentMethod', 'Tenure', 'MonthlyCharge',\n",
       "       'Bandwidth_GB_Year', 'Item1', 'Item2', 'Item3', 'Item4', 'Item5',\n",
       "       'Item6', 'Item7', 'Item8'],\n",
       "      dtype='object')"
      ]
     },
     "execution_count": 7,
     "metadata": {},
     "output_type": "execute_result"
    }
   ],
   "source": [
    "df.columns"
   ]
  },
  {
   "cell_type": "code",
   "execution_count": 8,
   "id": "c9915515-aa89-4e4a-87da-7a3a1402b3fb",
   "metadata": {},
   "outputs": [],
   "source": [
    "df = df.drop(columns=['CaseOrder', 'Customer_id', 'Interaction', 'UID', 'City', 'State',\n",
    "       'County', 'Zip', 'Lat', 'Lng', 'Area', 'TimeZone', 'Job',\n",
    "        'Marital', 'Gender', 'Churn',\n",
    "        'Email', 'Contacts', \n",
    "       'Techie', 'Contract', 'Port_modem', 'Tablet', 'InternetService',\n",
    "       'Phone', 'Multiple', 'OnlineSecurity', 'OnlineBackup',\n",
    "       'DeviceProtection', 'TechSupport', 'StreamingTV', 'StreamingMovies',\n",
    "       'PaperlessBilling', 'PaymentMethod', 'Item1', 'Item2', 'Item3', 'Item4', 'Item5',\n",
    "       'Item6', 'Item7', 'Item8'])"
   ]
  },
  {
   "cell_type": "code",
   "execution_count": 9,
   "id": "cf219dbb-b0b2-4c44-ae93-421c12a2f1bf",
   "metadata": {},
   "outputs": [
    {
     "data": {
      "text/html": [
       "<div>\n",
       "<style scoped>\n",
       "    .dataframe tbody tr th:only-of-type {\n",
       "        vertical-align: middle;\n",
       "    }\n",
       "\n",
       "    .dataframe tbody tr th {\n",
       "        vertical-align: top;\n",
       "    }\n",
       "\n",
       "    .dataframe thead th {\n",
       "        text-align: right;\n",
       "    }\n",
       "</style>\n",
       "<table border=\"1\" class=\"dataframe\">\n",
       "  <thead>\n",
       "    <tr style=\"text-align: right;\">\n",
       "      <th></th>\n",
       "      <th>Population</th>\n",
       "      <th>Children</th>\n",
       "      <th>Age</th>\n",
       "      <th>Income</th>\n",
       "      <th>Outage_sec_perweek</th>\n",
       "      <th>Yearly_equip_failure</th>\n",
       "      <th>Tenure</th>\n",
       "      <th>MonthlyCharge</th>\n",
       "      <th>Bandwidth_GB_Year</th>\n",
       "    </tr>\n",
       "  </thead>\n",
       "  <tbody>\n",
       "    <tr>\n",
       "      <th>0</th>\n",
       "      <td>38</td>\n",
       "      <td>0</td>\n",
       "      <td>68</td>\n",
       "      <td>28561.99</td>\n",
       "      <td>7.978323</td>\n",
       "      <td>1</td>\n",
       "      <td>6.795513</td>\n",
       "      <td>172.455519</td>\n",
       "      <td>904.536110</td>\n",
       "    </tr>\n",
       "    <tr>\n",
       "      <th>1</th>\n",
       "      <td>10446</td>\n",
       "      <td>1</td>\n",
       "      <td>27</td>\n",
       "      <td>21704.77</td>\n",
       "      <td>11.699080</td>\n",
       "      <td>1</td>\n",
       "      <td>1.156681</td>\n",
       "      <td>242.632554</td>\n",
       "      <td>800.982766</td>\n",
       "    </tr>\n",
       "    <tr>\n",
       "      <th>2</th>\n",
       "      <td>3735</td>\n",
       "      <td>4</td>\n",
       "      <td>50</td>\n",
       "      <td>9609.57</td>\n",
       "      <td>10.752800</td>\n",
       "      <td>1</td>\n",
       "      <td>15.754144</td>\n",
       "      <td>159.947583</td>\n",
       "      <td>2054.706961</td>\n",
       "    </tr>\n",
       "    <tr>\n",
       "      <th>3</th>\n",
       "      <td>13863</td>\n",
       "      <td>1</td>\n",
       "      <td>48</td>\n",
       "      <td>18925.23</td>\n",
       "      <td>14.913540</td>\n",
       "      <td>0</td>\n",
       "      <td>17.087227</td>\n",
       "      <td>119.956840</td>\n",
       "      <td>2164.579412</td>\n",
       "    </tr>\n",
       "    <tr>\n",
       "      <th>4</th>\n",
       "      <td>11352</td>\n",
       "      <td>0</td>\n",
       "      <td>83</td>\n",
       "      <td>40074.19</td>\n",
       "      <td>8.147417</td>\n",
       "      <td>1</td>\n",
       "      <td>1.670972</td>\n",
       "      <td>149.948316</td>\n",
       "      <td>271.493436</td>\n",
       "    </tr>\n",
       "  </tbody>\n",
       "</table>\n",
       "</div>"
      ],
      "text/plain": [
       "   Population  Children  Age    Income  Outage_sec_perweek  \\\n",
       "0          38         0   68  28561.99            7.978323   \n",
       "1       10446         1   27  21704.77           11.699080   \n",
       "2        3735         4   50   9609.57           10.752800   \n",
       "3       13863         1   48  18925.23           14.913540   \n",
       "4       11352         0   83  40074.19            8.147417   \n",
       "\n",
       "   Yearly_equip_failure     Tenure  MonthlyCharge  Bandwidth_GB_Year  \n",
       "0                     1   6.795513     172.455519         904.536110  \n",
       "1                     1   1.156681     242.632554         800.982766  \n",
       "2                     1  15.754144     159.947583        2054.706961  \n",
       "3                     0  17.087227     119.956840        2164.579412  \n",
       "4                     1   1.670972     149.948316         271.493436  "
      ]
     },
     "execution_count": 9,
     "metadata": {},
     "output_type": "execute_result"
    }
   ],
   "source": [
    "df.head()"
   ]
  },
  {
   "cell_type": "code",
   "execution_count": 10,
   "id": "23d08ad4-1498-4d2f-b894-b1e767216d72",
   "metadata": {},
   "outputs": [
    {
     "data": {
      "text/plain": [
       "Index(['Population', 'Children', 'Age', 'Income', 'Outage_sec_perweek',\n",
       "       'Yearly_equip_failure', 'Tenure', 'MonthlyCharge', 'Bandwidth_GB_Year'],\n",
       "      dtype='object')"
      ]
     },
     "execution_count": 10,
     "metadata": {},
     "output_type": "execute_result"
    }
   ],
   "source": [
    "df.columns"
   ]
  },
  {
   "cell_type": "code",
   "execution_count": 11,
   "id": "1372fb9e-033b-4c1c-9171-a7499c156cec",
   "metadata": {},
   "outputs": [
    {
     "name": "stderr",
     "output_type": "stream",
     "text": [
      "/Users/courtneytaylor/opt/anaconda3/lib/python3.9/site-packages/seaborn/_decorators.py:36: FutureWarning: Pass the following variable as a keyword arg: x. From version 0.12, the only valid positional argument will be `data`, and passing other arguments without an explicit keyword will result in an error or misinterpretation.\n",
      "  warnings.warn(\n"
     ]
    },
    {
     "data": {
      "text/plain": [
       "<AxesSubplot:xlabel='Bandwidth_GB_Year'>"
      ]
     },
     "execution_count": 11,
     "metadata": {},
     "output_type": "execute_result"
    },
    {
     "data": {
      "image/png": "[encoded data removed]",
      "text/plain": [
       "<Figure size 432x288 with 1 Axes>"
      ]
     },
     "metadata": {},
     "output_type": "display_data"
    }
   ],
   "source": [
    "sns.boxplot('Bandwidth_GB_Year', data = df)"
   ]
  },
  {
   "cell_type": "code",
   "execution_count": 12,
   "id": "31641e3c-eb6a-4ac3-ac2b-0d20f345add8",
   "metadata": {},
   "outputs": [
    {
     "name": "stderr",
     "output_type": "stream",
     "text": [
      "/Users/courtneytaylor/opt/anaconda3/lib/python3.9/site-packages/seaborn/_decorators.py:36: FutureWarning: Pass the following variable as a keyword arg: x. From version 0.12, the only valid positional argument will be `data`, and passing other arguments without an explicit keyword will result in an error or misinterpretation.\n",
      "  warnings.warn(\n"
     ]
    },
    {
     "data": {
      "text/plain": [
       "<AxesSubplot:xlabel='Age'>"
      ]
     },
     "execution_count": 12,
     "metadata": {},
     "output_type": "execute_result"
    },
    {
     "data": {
      "image/png": "[encoded data removed]",
      "text/plain": [
       "<Figure size 432x288 with 1 Axes>"
      ]
     },
     "metadata": {},
     "output_type": "display_data"
    }
   ],
   "source": [
    "sns.boxplot('Age', data = df)"
   ]
  },
  {
   "cell_type": "code",
   "execution_count": 13,
   "id": "bf70b2eb-c1bf-4d5b-a92c-dd6ba9966d99",
   "metadata": {},
   "outputs": [
    {
     "name": "stderr",
     "output_type": "stream",
     "text": [
      "/Users/courtneytaylor/opt/anaconda3/lib/python3.9/site-packages/seaborn/_decorators.py:36: FutureWarning: Pass the following variable as a keyword arg: x. From version 0.12, the only valid positional argument will be `data`, and passing other arguments without an explicit keyword will result in an error or misinterpretation.\n",
      "  warnings.warn(\n"
     ]
    },
    {
     "data": {
      "text/plain": [
       "<AxesSubplot:xlabel='Tenure'>"
      ]
     },
     "execution_count": 13,
     "metadata": {},
     "output_type": "execute_result"
    },
    {
     "data": {
      "image/png": "[encoded data removed]",
      "text/plain": [
       "<Figure size 432x288 with 1 Axes>"
      ]
     },
     "metadata": {},
     "output_type": "display_data"
    }
   ],
   "source": [
    "sns.boxplot('Tenure', data = df)"
   ]
  },
  {
   "cell_type": "code",
   "execution_count": 14,
   "id": "d74f6b08-503f-4fe1-8f6c-0bfff89b15ef",
   "metadata": {},
   "outputs": [
    {
     "name": "stderr",
     "output_type": "stream",
     "text": [
      "/Users/courtneytaylor/opt/anaconda3/lib/python3.9/site-packages/seaborn/_decorators.py:36: FutureWarning: Pass the following variable as a keyword arg: x. From version 0.12, the only valid positional argument will be `data`, and passing other arguments without an explicit keyword will result in an error or misinterpretation.\n",
      "  warnings.warn(\n"
     ]
    },
    {
     "data": {
      "text/plain": [
       "<AxesSubplot:xlabel='MonthlyCharge'>"
      ]
     },
     "execution_count": 14,
     "metadata": {},
     "output_type": "execute_result"
    },
    {
     "data": {
      "image/png": "[encoded data removed]",
      "text/plain": [
       "<Figure size 432x288 with 1 Axes>"
      ]
     },
     "metadata": {},
     "output_type": "display_data"
    }
   ],
   "source": [
    "sns.boxplot('MonthlyCharge', data = df)"
   ]
  },
  {
   "cell_type": "code",
   "execution_count": 15,
   "id": "d55d2882-2527-4c96-9712-e7055617ac18",
   "metadata": {},
   "outputs": [],
   "source": [
    "df.to_csv('D212Task2.csv')"
   ]
  },
  {
   "cell_type": "code",
   "execution_count": 16,
   "id": "68848c3d-a9d3-4c28-af33-ab18373551c8",
   "metadata": {},
   "outputs": [],
   "source": [
    "df = pd.read_csv('D212Task2.csv')"
   ]
  },
  {
   "cell_type": "code",
   "execution_count": 17,
   "id": "58ff2d50-9bd3-4b06-83bd-2df269838a1d",
   "metadata": {},
   "outputs": [],
   "source": [
    "df = df.drop(columns=['Unnamed: 0'])"
   ]
  },
  {
   "cell_type": "code",
   "execution_count": 18,
   "id": "fec9ce82-8f98-4d35-972d-1fdc0af45f0f",
   "metadata": {},
   "outputs": [],
   "source": [
    "#Scaling data to avoid dominance\n",
    "scaler = StandardScaler()\n",
    "\n",
    "#Mean & std\n",
    "scaler.fit(df)\n",
    "d_scaled = scaler.transform(df)"
   ]
  },
  {
   "cell_type": "code",
   "execution_count": 19,
   "id": "ba283a76-c110-44cb-98ef-92040cdabed0",
   "metadata": {},
   "outputs": [
    {
     "name": "stdout",
     "output_type": "stream",
     "text": [
      "[[-1.54341667 -0.73808053  1.00464836 ...  0.01183477 -0.38664247\n",
      "  -0.02741151]\n",
      " [-1.65545496 -0.34631085 -1.54685781 ...  0.19254679 -1.73126074\n",
      "  -0.03929885]\n",
      " [-0.91745069  0.5600758  -0.3690249  ...  0.53176668  0.20701812\n",
      "   0.06015675]\n",
      " ...\n",
      " [ 0.56899935  0.18935792  0.72843057 ... -0.0285666  -0.37402655\n",
      "  -0.08772523]\n",
      " [ 2.01795035 -1.47070763 -1.76277937 ...  0.51999806 -1.2365076\n",
      "  -0.06958081]\n",
      " [ 1.58699908 -0.51917733 -1.63318148 ... -0.10208727 -0.95290996\n",
      "  -0.03423982]]\n"
     ]
    }
   ],
   "source": [
    "#Apply PCA to explain 100% variance\n",
    "pca_9 = PCA(n_components=9)\n",
    "pca_9.fit(d_scaled)\n",
    "pc = pca_9.transform(d_scaled)\n",
    "print(pc)"
   ]
  },
  {
   "cell_type": "code",
   "execution_count": 20,
   "id": "5ba14119-1b97-4952-ab67-5b34df1aac3c",
   "metadata": {},
   "outputs": [
    {
     "name": "stdout",
     "output_type": "stream",
     "text": [
      "           PC1       PC2       PC3       PC4       PC5       PC6       PC7  \\\n",
      "0    -1.543417 -0.738081  1.004648  0.845836  0.227888 -0.989074  0.011835   \n",
      "1    -1.655455 -0.346311 -1.546858  0.679083  0.499660 -0.370050  0.192547   \n",
      "2    -0.917451  0.560076 -0.369025 -0.016230  1.084847 -1.124273  0.531767   \n",
      "3    -0.925791 -0.354424 -0.837400 -1.143586  0.460865 -0.379396 -1.533369   \n",
      "4    -1.907428 -1.062163  1.625070  0.512162  0.663450 -0.252758 -0.098475   \n",
      "...        ...       ...       ...       ...       ...       ...       ...   \n",
      "9995  1.893468  1.489617 -0.364413 -0.231430 -0.938723 -0.006242 -0.458083   \n",
      "9996  1.453659 -0.879628  0.069211 -3.019407  0.799304  2.891294  2.063552   \n",
      "9997  0.568999  0.189358  0.728431  0.038348 -1.301272 -0.348316 -0.028567   \n",
      "9998  2.017950 -1.470708 -1.762779 -0.944236 -0.030529  0.891432  0.519998   \n",
      "9999  1.586999 -0.519177 -1.633181 -0.606680 -0.506807 -0.487032 -0.102087   \n",
      "\n",
      "           PC8       PC9  \n",
      "0    -0.386642 -0.027412  \n",
      "1    -1.731261 -0.039299  \n",
      "2     0.207018  0.060157  \n",
      "3     0.775038  0.130699  \n",
      "4     0.090067 -0.055934  \n",
      "...        ...       ...  \n",
      "9995 -0.312345  0.082215  \n",
      "9996 -1.347076 -0.025612  \n",
      "9997 -0.374027 -0.087725  \n",
      "9998 -1.236508 -0.069581  \n",
      "9999 -0.952910 -0.034240  \n",
      "\n",
      "[10000 rows x 9 columns]\n"
     ]
    }
   ],
   "source": [
    "pc_df = pd.DataFrame(pc, columns=['PC1', 'PC2', 'PC3' ,'PC4', \n",
    "                                  'PC5', 'PC6', 'PC7', 'PC8',\n",
    "                                  'PC9'])\n",
    "print(pc_df)"
   ]
  },
  {
   "cell_type": "code",
   "execution_count": 21,
   "id": "b20dd533-edad-4b2c-bdcd-ffd0f36f4caf",
   "metadata": {},
   "outputs": [
    {
     "data": {
      "text/html": [
       "<div>\n",
       "<style scoped>\n",
       "    .dataframe tbody tr th:only-of-type {\n",
       "        vertical-align: middle;\n",
       "    }\n",
       "\n",
       "    .dataframe tbody tr th {\n",
       "        vertical-align: top;\n",
       "    }\n",
       "\n",
       "    .dataframe thead th {\n",
       "        text-align: right;\n",
       "    }\n",
       "</style>\n",
       "<table border=\"1\" class=\"dataframe\">\n",
       "  <thead>\n",
       "    <tr style=\"text-align: right;\">\n",
       "      <th></th>\n",
       "      <th>PC1</th>\n",
       "      <th>PC2</th>\n",
       "      <th>PC3</th>\n",
       "      <th>PC4</th>\n",
       "      <th>PC5</th>\n",
       "      <th>PC6</th>\n",
       "      <th>PC7</th>\n",
       "      <th>PC8</th>\n",
       "      <th>PC9</th>\n",
       "    </tr>\n",
       "  </thead>\n",
       "  <tbody>\n",
       "    <tr>\n",
       "      <th>Population</th>\n",
       "      <td>-0.005648</td>\n",
       "      <td>-0.276915</td>\n",
       "      <td>0.034972</td>\n",
       "      <td>-0.590085</td>\n",
       "      <td>0.360911</td>\n",
       "      <td>0.605521</td>\n",
       "      <td>0.140596</td>\n",
       "      <td>-0.239128</td>\n",
       "      <td>-0.000346</td>\n",
       "    </tr>\n",
       "    <tr>\n",
       "      <th>Children</th>\n",
       "      <td>0.014357</td>\n",
       "      <td>0.600471</td>\n",
       "      <td>-0.213902</td>\n",
       "      <td>-0.080223</td>\n",
       "      <td>0.197833</td>\n",
       "      <td>0.116769</td>\n",
       "      <td>0.599427</td>\n",
       "      <td>0.417717</td>\n",
       "      <td>-0.021567</td>\n",
       "    </tr>\n",
       "    <tr>\n",
       "      <th>Age</th>\n",
       "      <td>0.001611</td>\n",
       "      <td>-0.561312</td>\n",
       "      <td>0.389730</td>\n",
       "      <td>0.238096</td>\n",
       "      <td>0.125560</td>\n",
       "      <td>0.071567</td>\n",
       "      <td>0.239097</td>\n",
       "      <td>0.630708</td>\n",
       "      <td>0.022356</td>\n",
       "    </tr>\n",
       "    <tr>\n",
       "      <th>Income</th>\n",
       "      <td>0.004214</td>\n",
       "      <td>0.319552</td>\n",
       "      <td>0.244733</td>\n",
       "      <td>0.441076</td>\n",
       "      <td>-0.166468</td>\n",
       "      <td>0.733881</td>\n",
       "      <td>-0.276894</td>\n",
       "      <td>0.021514</td>\n",
       "      <td>-0.000942</td>\n",
       "    </tr>\n",
       "    <tr>\n",
       "      <th>Outage_sec_perweek</th>\n",
       "      <td>0.005879</td>\n",
       "      <td>-0.133707</td>\n",
       "      <td>-0.676154</td>\n",
       "      <td>0.098398</td>\n",
       "      <td>0.365076</td>\n",
       "      <td>0.112417</td>\n",
       "      <td>-0.488549</td>\n",
       "      <td>0.361418</td>\n",
       "      <td>0.000269</td>\n",
       "    </tr>\n",
       "    <tr>\n",
       "      <th>Yearly_equip_failure</th>\n",
       "      <td>0.017285</td>\n",
       "      <td>0.108758</td>\n",
       "      <td>0.217818</td>\n",
       "      <td>0.419104</td>\n",
       "      <td>0.783008</td>\n",
       "      <td>-0.168371</td>\n",
       "      <td>0.041815</td>\n",
       "      <td>-0.348685</td>\n",
       "      <td>-0.000095</td>\n",
       "    </tr>\n",
       "    <tr>\n",
       "      <th>Tenure</th>\n",
       "      <td>0.705566</td>\n",
       "      <td>-0.005760</td>\n",
       "      <td>0.040055</td>\n",
       "      <td>-0.031699</td>\n",
       "      <td>0.000002</td>\n",
       "      <td>-0.012117</td>\n",
       "      <td>-0.039050</td>\n",
       "      <td>0.021464</td>\n",
       "      <td>-0.705267</td>\n",
       "    </tr>\n",
       "    <tr>\n",
       "      <th>MonthlyCharge</th>\n",
       "      <td>0.040499</td>\n",
       "      <td>-0.340226</td>\n",
       "      <td>-0.484677</td>\n",
       "      <td>0.455689</td>\n",
       "      <td>-0.201553</td>\n",
       "      <td>0.186725</td>\n",
       "      <td>0.495091</td>\n",
       "      <td>-0.342552</td>\n",
       "      <td>-0.045759</td>\n",
       "    </tr>\n",
       "    <tr>\n",
       "      <th>Bandwidth_GB_Year</th>\n",
       "      <td>0.707067</td>\n",
       "      <td>0.008659</td>\n",
       "      <td>-0.009635</td>\n",
       "      <td>-0.011789</td>\n",
       "      <td>-0.011062</td>\n",
       "      <td>0.002507</td>\n",
       "      <td>0.003707</td>\n",
       "      <td>-0.008236</td>\n",
       "      <td>0.706781</td>\n",
       "    </tr>\n",
       "  </tbody>\n",
       "</table>\n",
       "</div>"
      ],
      "text/plain": [
       "                           PC1       PC2       PC3       PC4       PC5  \\\n",
       "Population           -0.005648 -0.276915  0.034972 -0.590085  0.360911   \n",
       "Children              0.014357  0.600471 -0.213902 -0.080223  0.197833   \n",
       "Age                   0.001611 -0.561312  0.389730  0.238096  0.125560   \n",
       "Income                0.004214  0.319552  0.244733  0.441076 -0.166468   \n",
       "Outage_sec_perweek    0.005879 -0.133707 -0.676154  0.098398  0.365076   \n",
       "Yearly_equip_failure  0.017285  0.108758  0.217818  0.419104  0.783008   \n",
       "Tenure                0.705566 -0.005760  0.040055 -0.031699  0.000002   \n",
       "MonthlyCharge         0.040499 -0.340226 -0.484677  0.455689 -0.201553   \n",
       "Bandwidth_GB_Year     0.707067  0.008659 -0.009635 -0.011789 -0.011062   \n",
       "\n",
       "                           PC6       PC7       PC8       PC9  \n",
       "Population            0.605521  0.140596 -0.239128 -0.000346  \n",
       "Children              0.116769  0.599427  0.417717 -0.021567  \n",
       "Age                   0.071567  0.239097  0.630708  0.022356  \n",
       "Income                0.733881 -0.276894  0.021514 -0.000942  \n",
       "Outage_sec_perweek    0.112417 -0.488549  0.361418  0.000269  \n",
       "Yearly_equip_failure -0.168371  0.041815 -0.348685 -0.000095  \n",
       "Tenure               -0.012117 -0.039050  0.021464 -0.705267  \n",
       "MonthlyCharge         0.186725  0.495091 -0.342552 -0.045759  \n",
       "Bandwidth_GB_Year     0.002507  0.003707 -0.008236  0.706781  "
      ]
     },
     "execution_count": 21,
     "metadata": {},
     "output_type": "execute_result"
    }
   ],
   "source": [
    "#Load into dataframe\n",
    "Load = pd.DataFrame(pca_9.components_.T,\n",
    "                    columns=['PC1', 'PC2', 'PC3' ,'PC4', \n",
    "                                  'PC5', 'PC6', 'PC7', 'PC8',\n",
    "                                  'PC9'],\n",
    "                    index=df.columns)\n",
    "Load"
   ]
  },
  {
   "cell_type": "code",
   "execution_count": 22,
   "id": "1c17be7b-4a0a-4685-a3cc-bc47493c58f6",
   "metadata": {},
   "outputs": [
    {
     "name": "stdout",
     "output_type": "stream",
     "text": [
      "                           PC1       PC2       PC3       PC4       PC5  \\\n",
      "Population           -0.005648 -0.276915  0.034972 -0.590085  0.360911   \n",
      "Children              0.014357  0.600471 -0.213902 -0.080223  0.197833   \n",
      "Age                   0.001611 -0.561312  0.389730  0.238096  0.125560   \n",
      "Income                0.004214  0.319552  0.244733  0.441076 -0.166468   \n",
      "Outage_sec_perweek    0.005879 -0.133707 -0.676154  0.098398  0.365076   \n",
      "Yearly_equip_failure  0.017285  0.108758  0.217818  0.419104  0.783008   \n",
      "Tenure                0.705566 -0.005760  0.040055 -0.031699  0.000002   \n",
      "MonthlyCharge         0.040499 -0.340226 -0.484677  0.455689 -0.201553   \n",
      "Bandwidth_GB_Year     0.707067  0.008659 -0.009635 -0.011789 -0.011062   \n",
      "\n",
      "                           PC6       PC7       PC8       PC9  \n",
      "Population            0.605521  0.140596 -0.239128 -0.000346  \n",
      "Children              0.116769  0.599427  0.417717 -0.021567  \n",
      "Age                   0.071567  0.239097  0.630708  0.022356  \n",
      "Income                0.733881 -0.276894  0.021514 -0.000942  \n",
      "Outage_sec_perweek    0.112417 -0.488549  0.361418  0.000269  \n",
      "Yearly_equip_failure -0.168371  0.041815 -0.348685 -0.000095  \n",
      "Tenure               -0.012117 -0.039050  0.021464 -0.705267  \n",
      "MonthlyCharge         0.186725  0.495091 -0.342552 -0.045759  \n",
      "Bandwidth_GB_Year     0.002507  0.003707 -0.008236  0.706781  \n"
     ]
    }
   ],
   "source": [
    "print(Load)"
   ]
  },
  {
   "cell_type": "code",
   "execution_count": 23,
   "id": "dd1c37a3-37b8-4a9f-8c1c-87a88aa5dc26",
   "metadata": {},
   "outputs": [
    {
     "name": "stdout",
     "output_type": "stream",
     "text": [
      "Variance explained by the components= 100.00000000000001\n"
     ]
    }
   ],
   "source": [
    "print('Variance explained by the components=', sum(pca_9.explained_variance_ratio_ * 100))"
   ]
  },
  {
   "cell_type": "code",
   "execution_count": 24,
   "id": "a0c412ce-4cd1-4a20-b55f-fb763002ea05",
   "metadata": {},
   "outputs": [
    {
     "data": {
      "text/plain": [
       "array([22.15242508, 11.58509911, 11.35795688, 11.18996104, 11.14486833,\n",
       "       11.00542773, 10.8172401 , 10.68626647,  0.06075526])"
      ]
     },
     "execution_count": 24,
     "metadata": {},
     "output_type": "execute_result"
    }
   ],
   "source": [
    "pca_9.explained_variance_ratio_ * 100"
   ]
  },
  {
   "cell_type": "code",
   "execution_count": 25,
   "id": "97cec263-f8bc-429c-a50a-98257b18969d",
   "metadata": {},
   "outputs": [
    {
     "data": {
      "text/html": [
       "<div>\n",
       "<style scoped>\n",
       "    .dataframe tbody tr th:only-of-type {\n",
       "        vertical-align: middle;\n",
       "    }\n",
       "\n",
       "    .dataframe tbody tr th {\n",
       "        vertical-align: top;\n",
       "    }\n",
       "\n",
       "    .dataframe thead th {\n",
       "        text-align: right;\n",
       "    }\n",
       "</style>\n",
       "<table border=\"1\" class=\"dataframe\">\n",
       "  <thead>\n",
       "    <tr style=\"text-align: right;\">\n",
       "      <th></th>\n",
       "      <th>Captured Variance per PC</th>\n",
       "    </tr>\n",
       "  </thead>\n",
       "  <tbody>\n",
       "    <tr>\n",
       "      <th>PC1</th>\n",
       "      <td>22.15</td>\n",
       "    </tr>\n",
       "    <tr>\n",
       "      <th>PC2</th>\n",
       "      <td>11.59</td>\n",
       "    </tr>\n",
       "    <tr>\n",
       "      <th>PC3</th>\n",
       "      <td>11.36</td>\n",
       "    </tr>\n",
       "    <tr>\n",
       "      <th>PC4</th>\n",
       "      <td>11.19</td>\n",
       "    </tr>\n",
       "    <tr>\n",
       "      <th>PC5</th>\n",
       "      <td>11.14</td>\n",
       "    </tr>\n",
       "    <tr>\n",
       "      <th>PC6</th>\n",
       "      <td>11.01</td>\n",
       "    </tr>\n",
       "    <tr>\n",
       "      <th>PC7</th>\n",
       "      <td>10.82</td>\n",
       "    </tr>\n",
       "    <tr>\n",
       "      <th>PC8</th>\n",
       "      <td>10.69</td>\n",
       "    </tr>\n",
       "    <tr>\n",
       "      <th>PC9</th>\n",
       "      <td>0.06</td>\n",
       "    </tr>\n",
       "  </tbody>\n",
       "</table>\n",
       "</div>"
      ],
      "text/plain": [
       "     Captured Variance per PC\n",
       "PC1                     22.15\n",
       "PC2                     11.59\n",
       "PC3                     11.36\n",
       "PC4                     11.19\n",
       "PC5                     11.14\n",
       "PC6                     11.01\n",
       "PC7                     10.82\n",
       "PC8                     10.69\n",
       "PC9                      0.06"
      ]
     },
     "execution_count": 25,
     "metadata": {},
     "output_type": "execute_result"
    }
   ],
   "source": [
    "#Variance per PC\n",
    "varex1 = pca_9.explained_variance_ratio_ * 100\n",
    "var_df1 = pd.DataFrame(varex1.round(2), columns=['Captured Variance per PC'],\n",
    "                       index=['PC1', 'PC2', 'PC3' ,'PC4', \n",
    "                                  'PC5', 'PC6', 'PC7', 'PC8',\n",
    "                                  'PC9'])\n",
    "var_df1"
   ]
  },
  {
   "cell_type": "code",
   "execution_count": 26,
   "id": "be5af931-6ec6-47da-8b97-8d0f857f56e3",
   "metadata": {},
   "outputs": [
    {
     "data": {
      "text/html": [
       "<div>\n",
       "<style scoped>\n",
       "    .dataframe tbody tr th:only-of-type {\n",
       "        vertical-align: middle;\n",
       "    }\n",
       "\n",
       "    .dataframe tbody tr th {\n",
       "        vertical-align: top;\n",
       "    }\n",
       "\n",
       "    .dataframe thead th {\n",
       "        text-align: right;\n",
       "    }\n",
       "</style>\n",
       "<table border=\"1\" class=\"dataframe\">\n",
       "  <thead>\n",
       "    <tr style=\"text-align: right;\">\n",
       "      <th></th>\n",
       "      <th>Eigenvalues per PC</th>\n",
       "    </tr>\n",
       "  </thead>\n",
       "  <tbody>\n",
       "    <tr>\n",
       "      <th>PC1</th>\n",
       "      <td>0.2215</td>\n",
       "    </tr>\n",
       "    <tr>\n",
       "      <th>PC2</th>\n",
       "      <td>0.1159</td>\n",
       "    </tr>\n",
       "    <tr>\n",
       "      <th>PC3</th>\n",
       "      <td>0.1136</td>\n",
       "    </tr>\n",
       "    <tr>\n",
       "      <th>PC4</th>\n",
       "      <td>0.1119</td>\n",
       "    </tr>\n",
       "    <tr>\n",
       "      <th>PC5</th>\n",
       "      <td>0.1114</td>\n",
       "    </tr>\n",
       "    <tr>\n",
       "      <th>PC6</th>\n",
       "      <td>0.1101</td>\n",
       "    </tr>\n",
       "    <tr>\n",
       "      <th>PC7</th>\n",
       "      <td>0.1082</td>\n",
       "    </tr>\n",
       "    <tr>\n",
       "      <th>PC8</th>\n",
       "      <td>0.1069</td>\n",
       "    </tr>\n",
       "    <tr>\n",
       "      <th>PC9</th>\n",
       "      <td>0.0006</td>\n",
       "    </tr>\n",
       "  </tbody>\n",
       "</table>\n",
       "</div>"
      ],
      "text/plain": [
       "     Eigenvalues per PC\n",
       "PC1              0.2215\n",
       "PC2              0.1159\n",
       "PC3              0.1136\n",
       "PC4              0.1119\n",
       "PC5              0.1114\n",
       "PC6              0.1101\n",
       "PC7              0.1082\n",
       "PC8              0.1069\n",
       "PC9              0.0006"
      ]
     },
     "execution_count": 26,
     "metadata": {},
     "output_type": "execute_result"
    }
   ],
   "source": [
    "#Eigenvalues\n",
    "eigenvalues = pca_9.explained_variance_ratio_\n",
    "eigen_df = pd.DataFrame(eigenvalues.round(4), columns=['Eigenvalues per PC'], \n",
    "                        index=['PC1', 'PC2', 'PC3' ,'PC4', \n",
    "                                  'PC5', 'PC6', 'PC7', 'PC8',\n",
    "                                  'PC9'])\n",
    "eigen_df"
   ]
  },
  {
   "cell_type": "code",
   "execution_count": 27,
   "id": "8f1d1d49-b222-403f-8bf9-d031a1f75a24",
   "metadata": {},
   "outputs": [
    {
     "data": {
      "text/plain": [
       "array([ 22.15242508,  33.73752419,  45.09548107,  56.28544212,\n",
       "        67.43031044,  78.43573817,  89.25297827,  99.93924474,\n",
       "       100.        ])"
      ]
     },
     "execution_count": 27,
     "metadata": {},
     "output_type": "execute_result"
    }
   ],
   "source": [
    "#explanation of cumulative sum of array\n",
    "np.cumsum(pca_9.explained_variance_ratio_ * 100)"
   ]
  },
  {
   "cell_type": "code",
   "execution_count": 28,
   "id": "3c30a7a9-3247-4005-97aa-241877e002da",
   "metadata": {},
   "outputs": [
    {
     "data": {
      "image/png": "[encoded data removed]",
      "text/plain": [
       "<Figure size 432x288 with 1 Axes>"
      ]
     },
     "metadata": {},
     "output_type": "display_data"
    }
   ],
   "source": [
    "#Scree Plot\n",
    "plt.plot(np.cumsum(pca_9.explained_variance_ratio_))\n",
    "plt.xlabel('Number of Components')\n",
    "plt.ylabel('Explained Variance')\n",
    "plt.savefig('elbow_plot.png', dpi=100)"
   ]
  },
  {
   "cell_type": "code",
   "execution_count": 29,
   "id": "aecd7150-0962-4159-9e12-b6ac8e4d70eb",
   "metadata": {},
   "outputs": [],
   "source": [
    "#Scree Plot above shows 7 components capture majority of the variance"
   ]
  },
  {
   "cell_type": "code",
   "execution_count": 30,
   "id": "e5c135b8-495c-424d-b3c1-2d284503a42f",
   "metadata": {},
   "outputs": [
    {
     "name": "stdout",
     "output_type": "stream",
     "text": [
      "Variance explained by the first principal component = 22.152425082239493\n",
      "Variance explained by the first 2 principal component = 33.73752418843068\n",
      "Variance explained by the first 3 principal component = 45.09548107182724\n",
      "Variance explained by the first 7 principal component = 89.25297826826991\n"
     ]
    }
   ],
   "source": [
    "print('Variance explained by the first principal component =',\n",
    "      np.cumsum(pca_9.explained_variance_ratio_ * 100)[0])\n",
    "print('Variance explained by the first 2 principal component =',\n",
    "      np.cumsum(pca_9.explained_variance_ratio_ * 100)[1])\n",
    "print('Variance explained by the first 3 principal component =',\n",
    "      np.cumsum(pca_9.explained_variance_ratio_ * 100)[2])\n",
    "print('Variance explained by the first 7 principal component =',\n",
    "      np.cumsum(pca_9.explained_variance_ratio_ * 100)[6])"
   ]
  },
  {
   "cell_type": "code",
   "execution_count": 31,
   "id": "b54eac80-9a49-47ab-bbfa-abf81b80d2f3",
   "metadata": {},
   "outputs": [],
   "source": [
    "#The first 7 PCs explain 89.25% of the variance"
   ]
  },
  {
   "cell_type": "code",
   "execution_count": 32,
   "id": "f9c04866-f5f1-4025-ad47-1d6d0e472a9a",
   "metadata": {},
   "outputs": [],
   "source": [
    "#Use 7 components\n",
    "pc7 = PCA(n_components=7)\n",
    "pc7.fit(d_scaled)\n",
    "var_pca7 = pc7.transform(d_scaled)"
   ]
  },
  {
   "cell_type": "code",
   "execution_count": 33,
   "id": "1fad0ffa-66d0-48b0-ae96-7cad88d494b9",
   "metadata": {},
   "outputs": [
    {
     "data": {
      "text/html": [
       "<div>\n",
       "<style scoped>\n",
       "    .dataframe tbody tr th:only-of-type {\n",
       "        vertical-align: middle;\n",
       "    }\n",
       "\n",
       "    .dataframe tbody tr th {\n",
       "        vertical-align: top;\n",
       "    }\n",
       "\n",
       "    .dataframe thead th {\n",
       "        text-align: right;\n",
       "    }\n",
       "</style>\n",
       "<table border=\"1\" class=\"dataframe\">\n",
       "  <thead>\n",
       "    <tr style=\"text-align: right;\">\n",
       "      <th></th>\n",
       "      <th>Captured Variance per PC</th>\n",
       "    </tr>\n",
       "  </thead>\n",
       "  <tbody>\n",
       "    <tr>\n",
       "      <th>PC1</th>\n",
       "      <td>22.15</td>\n",
       "    </tr>\n",
       "    <tr>\n",
       "      <th>PC2</th>\n",
       "      <td>11.59</td>\n",
       "    </tr>\n",
       "    <tr>\n",
       "      <th>PC3</th>\n",
       "      <td>11.36</td>\n",
       "    </tr>\n",
       "    <tr>\n",
       "      <th>PC4</th>\n",
       "      <td>11.19</td>\n",
       "    </tr>\n",
       "    <tr>\n",
       "      <th>PC5</th>\n",
       "      <td>11.14</td>\n",
       "    </tr>\n",
       "    <tr>\n",
       "      <th>PC6</th>\n",
       "      <td>11.01</td>\n",
       "    </tr>\n",
       "    <tr>\n",
       "      <th>PC7</th>\n",
       "      <td>10.82</td>\n",
       "    </tr>\n",
       "  </tbody>\n",
       "</table>\n",
       "</div>"
      ],
      "text/plain": [
       "     Captured Variance per PC\n",
       "PC1                     22.15\n",
       "PC2                     11.59\n",
       "PC3                     11.36\n",
       "PC4                     11.19\n",
       "PC5                     11.14\n",
       "PC6                     11.01\n",
       "PC7                     10.82"
      ]
     },
     "execution_count": 33,
     "metadata": {},
     "output_type": "execute_result"
    }
   ],
   "source": [
    "#Variance for the 7 PCs\n",
    "pca_7 = pc7.explained_variance_ratio_ * 100\n",
    "var_df1 = pd.DataFrame(pca_7.round(2), columns=['Captured Variance per PC'],\n",
    "                       index = ['PC1', 'PC2', 'PC3' ,'PC4', \n",
    "                                  'PC5', 'PC6', 'PC7'])\n",
    "var_df1                         "
   ]
  },
  {
   "cell_type": "code",
   "execution_count": 34,
   "id": "59ebd73c-060c-4336-b542-af20cfed407f",
   "metadata": {},
   "outputs": [
    {
     "data": {
      "image/png": "[encoded data removed]",
      "text/plain": [
       "<Figure size 432x288 with 2 Axes>"
      ]
     },
     "metadata": {},
     "output_type": "display_data"
    }
   ],
   "source": [
    "#heatmap\n",
    "sns.heatmap(var_df1, annot=True, linewidth=1, fmt='.1g')\n",
    "plt.show()"
   ]
  },
  {
   "cell_type": "code",
   "execution_count": 35,
   "id": "bb3f9050-9001-4d32-af1b-7d8578f6d8e4",
   "metadata": {},
   "outputs": [],
   "source": [
    "#The first component accounts for 22% of the variance\n",
    "#The first two components account for 33% of the variance\n",
    "#All 7 components 89% of the variance"
   ]
  },
  {
   "cell_type": "code",
   "execution_count": 36,
   "id": "89478d4c-6447-4fc9-ad59-8266163ce9de",
   "metadata": {},
   "outputs": [
    {
     "data": {
      "text/html": [
       "<div>\n",
       "<style scoped>\n",
       "    .dataframe tbody tr th:only-of-type {\n",
       "        vertical-align: middle;\n",
       "    }\n",
       "\n",
       "    .dataframe tbody tr th {\n",
       "        vertical-align: top;\n",
       "    }\n",
       "\n",
       "    .dataframe thead th {\n",
       "        text-align: right;\n",
       "    }\n",
       "</style>\n",
       "<table border=\"1\" class=\"dataframe\">\n",
       "  <thead>\n",
       "    <tr style=\"text-align: right;\">\n",
       "      <th></th>\n",
       "      <th>PC1</th>\n",
       "      <th>PC2</th>\n",
       "    </tr>\n",
       "  </thead>\n",
       "  <tbody>\n",
       "    <tr>\n",
       "      <th>0</th>\n",
       "      <td>-1.543417</td>\n",
       "      <td>-0.738081</td>\n",
       "    </tr>\n",
       "    <tr>\n",
       "      <th>1</th>\n",
       "      <td>-1.655455</td>\n",
       "      <td>-0.346311</td>\n",
       "    </tr>\n",
       "    <tr>\n",
       "      <th>2</th>\n",
       "      <td>-0.917451</td>\n",
       "      <td>0.560076</td>\n",
       "    </tr>\n",
       "    <tr>\n",
       "      <th>3</th>\n",
       "      <td>-0.925791</td>\n",
       "      <td>-0.354424</td>\n",
       "    </tr>\n",
       "    <tr>\n",
       "      <th>4</th>\n",
       "      <td>-1.907428</td>\n",
       "      <td>-1.062163</td>\n",
       "    </tr>\n",
       "    <tr>\n",
       "      <th>...</th>\n",
       "      <td>...</td>\n",
       "      <td>...</td>\n",
       "    </tr>\n",
       "    <tr>\n",
       "      <th>9995</th>\n",
       "      <td>1.893468</td>\n",
       "      <td>1.489617</td>\n",
       "    </tr>\n",
       "    <tr>\n",
       "      <th>9996</th>\n",
       "      <td>1.453659</td>\n",
       "      <td>-0.879628</td>\n",
       "    </tr>\n",
       "    <tr>\n",
       "      <th>9997</th>\n",
       "      <td>0.568999</td>\n",
       "      <td>0.189358</td>\n",
       "    </tr>\n",
       "    <tr>\n",
       "      <th>9998</th>\n",
       "      <td>2.017950</td>\n",
       "      <td>-1.470708</td>\n",
       "    </tr>\n",
       "    <tr>\n",
       "      <th>9999</th>\n",
       "      <td>1.586999</td>\n",
       "      <td>-0.519177</td>\n",
       "    </tr>\n",
       "  </tbody>\n",
       "</table>\n",
       "<p>10000 rows × 2 columns</p>\n",
       "</div>"
      ],
      "text/plain": [
       "           PC1       PC2\n",
       "0    -1.543417 -0.738081\n",
       "1    -1.655455 -0.346311\n",
       "2    -0.917451  0.560076\n",
       "3    -0.925791 -0.354424\n",
       "4    -1.907428 -1.062163\n",
       "...        ...       ...\n",
       "9995  1.893468  1.489617\n",
       "9996  1.453659 -0.879628\n",
       "9997  0.568999  0.189358\n",
       "9998  2.017950 -1.470708\n",
       "9999  1.586999 -0.519177\n",
       "\n",
       "[10000 rows x 2 columns]"
      ]
     },
     "execution_count": 36,
     "metadata": {},
     "output_type": "execute_result"
    }
   ],
   "source": [
    "#First two components\n",
    "pca2 = PCA(n_components=2)\n",
    "pca2.fit(d_scaled)\n",
    "trans_pca2 = pca2.transform(d_scaled)\n",
    "\n",
    "PC2 = pd.DataFrame(data = trans_pca2, columns=['PC1', 'PC2'])\n",
    "PC2"
   ]
  },
  {
   "cell_type": "code",
   "execution_count": 37,
   "id": "096c11b6-799b-488b-b46f-cba312f5279b",
   "metadata": {},
   "outputs": [
    {
     "data": {
      "image/png": "[encoded data removed]",
      "text/plain": [
       "<Figure size 720x504 with 1 Axes>"
      ]
     },
     "metadata": {},
     "output_type": "display_data"
    }
   ],
   "source": [
    "#2-dimensional scatterplot\n",
    "plt.figure(figsize=(10,7))\n",
    "sns.scatterplot(x=trans_pca2[:, 0], y=trans_pca2[:, 1], s=70)\n",
    "plt.title('2D: Scatterplot: 34% of the variance', pad=15)\n",
    "plt.xlabel('First Principal Component')\n",
    "plt.ylabel('Second Principal Component')\n",
    "plt.savefig('2D_scatterplot.png')"
   ]
  },
  {
   "cell_type": "code",
   "execution_count": 38,
   "id": "2434648b-c2f5-492c-8c86-b7c64fba1eda",
   "metadata": {},
   "outputs": [
    {
     "data": {
      "text/html": [
       "<div>\n",
       "<style scoped>\n",
       "    .dataframe tbody tr th:only-of-type {\n",
       "        vertical-align: middle;\n",
       "    }\n",
       "\n",
       "    .dataframe tbody tr th {\n",
       "        vertical-align: top;\n",
       "    }\n",
       "\n",
       "    .dataframe thead th {\n",
       "        text-align: right;\n",
       "    }\n",
       "</style>\n",
       "<table border=\"1\" class=\"dataframe\">\n",
       "  <thead>\n",
       "    <tr style=\"text-align: right;\">\n",
       "      <th></th>\n",
       "      <th>Explained Variance</th>\n",
       "    </tr>\n",
       "  </thead>\n",
       "  <tbody>\n",
       "    <tr>\n",
       "      <th>PC1</th>\n",
       "      <td>22.15</td>\n",
       "    </tr>\n",
       "    <tr>\n",
       "      <th>PC2</th>\n",
       "      <td>11.59</td>\n",
       "    </tr>\n",
       "    <tr>\n",
       "      <th>PC3</th>\n",
       "      <td>11.36</td>\n",
       "    </tr>\n",
       "  </tbody>\n",
       "</table>\n",
       "</div>"
      ],
      "text/plain": [
       "     Explained Variance\n",
       "PC1               22.15\n",
       "PC2               11.59\n",
       "PC3               11.36"
      ]
     },
     "execution_count": 38,
     "metadata": {},
     "output_type": "execute_result"
    }
   ],
   "source": [
    "#Below, you can see 3 components captured 48.36% of the variance\n",
    "pca3 = PCA(n_components=3)\n",
    "pca3.fit(d_scaled)\n",
    "trans_pca3 = pca3.transform(d_scaled)\n",
    "\n",
    "var = pca3.explained_variance_ratio_ * 100\n",
    "var_df = pd.DataFrame(var.round(2), columns=['Explained Variance'],\n",
    "                       index = ['PC1', 'PC2', 'PC3'])\n",
    "var_df"
   ]
  },
  {
   "cell_type": "code",
   "execution_count": 39,
   "id": "60eeee09-859f-4f90-943c-6a0abbdb0009",
   "metadata": {},
   "outputs": [],
   "source": [
    "from mpl_toolkits import mplot3d"
   ]
  },
  {
   "cell_type": "code",
   "execution_count": 40,
   "id": "40666897-e387-40b0-8697-2d75e3f4c6c2",
   "metadata": {},
   "outputs": [
    {
     "data": {
      "image/png": "[encoded data removed]",
      "text/plain": [
       "<Figure size 864x576 with 1 Axes>"
      ]
     },
     "metadata": {},
     "output_type": "display_data"
    }
   ],
   "source": [
    "#Plotting the 3D Scatterplot for 45% variance\n",
    "fig = plt.figure(figsize = (12,8))\n",
    "ax = plt.axes(projection='3d')\n",
    "\n",
    "scatt = ax.scatter3D(trans_pca3[:, 1], trans_pca3[:, 2],\n",
    "                     s=70, alpha=0.90)\n",
    "\n",
    "plt.title('3D Scatterplot: 45% of variance', pad=15)\n",
    "ax.set_xlabel('First Principal Component')\n",
    "ax.set_ylabel('Second Principal Component')\n",
    "ax.set_zlabel('Third Principal Component')\n",
    "plt.savefig('3D_scatterplot.png')"
   ]
  },
  {
   "cell_type": "code",
   "execution_count": null,
   "id": "dc53868e-4af2-4bc3-8098-78ef46f3bd59",
   "metadata": {},
   "outputs": [],
   "source": []
  }
 ],
 "metadata": {
  "kernelspec": {
   "display_name": "Python 3 (ipykernel)",
   "language": "python",
   "name": "python3"
  },
  "language_info": {
   "codemirror_mode": {
    "name": "ipython",
    "version": 3
   },
   "file_extension": ".py",
   "mimetype": "text/x-python",
   "name": "python",
   "nbconvert_exporter": "python",
   "pygments_lexer": "ipython3",
   "version": "3.9.12"
  }
 },
 "nbformat": 4,
 "nbformat_minor": 5
}
