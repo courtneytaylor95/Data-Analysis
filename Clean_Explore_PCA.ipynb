{
 "cells": [
  {
   "cell_type": "code",
   "execution_count": 1,
   "id": "8a04e7f4-403b-475e-8c41-ae1642382b7b",
   "metadata": {},
   "outputs": [],
   "source": [
    "#First, we need to import the packages we will be using.\n",
    "import pandas as pd"
   ]
  },
  {
   "cell_type": "code",
   "execution_count": 2,
   "id": "d4cc4afb-4c6a-45da-83e8-9c28aa3cb2f1",
   "metadata": {},
   "outputs": [],
   "source": [
    "import numpy as np"
   ]
  },
  {
   "cell_type": "code",
   "execution_count": 3,
   "id": "6fbf50bf-4bdf-479b-a951-cbc36178540f",
   "metadata": {},
   "outputs": [],
   "source": [
    "import matplotlib.pyplot as plt"
   ]
  },
  {
   "cell_type": "code",
   "execution_count": 4,
   "id": "13a247e5-969a-43fb-bf08-cfca265c1105",
   "metadata": {},
   "outputs": [],
   "source": [
    "%matplotlib inline"
   ]
  },
  {
   "cell_type": "code",
   "execution_count": 5,
   "id": "b663caed-b7e8-45cf-ba9b-4c5c67c2cf21",
   "metadata": {},
   "outputs": [],
   "source": [
    "import seaborn as sns"
   ]
  },
  {
   "cell_type": "code",
   "execution_count": 6,
   "id": "d5bd4ee0-0782-47ed-93b8-32bad98f5a8e",
   "metadata": {},
   "outputs": [],
   "source": [
    "from sklearn.preprocessing import scale"
   ]
  },
  {
   "cell_type": "code",
   "execution_count": 7,
   "id": "2b7c33da-16ee-436a-a24d-11d1cbff79b8",
   "metadata": {},
   "outputs": [],
   "source": [
    "from sklearn.decomposition import PCA"
   ]
  },
  {
   "cell_type": "code",
   "execution_count": 8,
   "id": "0d54d734-37e8-4433-b3f0-ec948a325f7a",
   "metadata": {},
   "outputs": [],
   "source": [
    "#Loading the Data Set.\n",
    "med_df = pd.read_csv('/Users/CourtneyTaylor/Downloads/medical_raw_data.csv')"
   ]
  },
  {
   "cell_type": "markdown",
   "id": "00c1cff9-fe7b-43b6-b99d-e792ffa315c8",
   "metadata": {},
   "source": [
    "EXAMINING THE DATA SET"
   ]
  },
  {
   "cell_type": "code",
   "execution_count": 9,
   "id": "4e840eeb-0e31-44bb-a333-faafb912ccd8",
   "metadata": {
    "scrolled": true
   },
   "outputs": [
    {
     "data": {
      "text/html": [
       "<div>\n",
       "<style scoped>\n",
       "    .dataframe tbody tr th:only-of-type {\n",
       "        vertical-align: middle;\n",
       "    }\n",
       "\n",
       "    .dataframe tbody tr th {\n",
       "        vertical-align: top;\n",
       "    }\n",
       "\n",
       "    .dataframe thead th {\n",
       "        text-align: right;\n",
       "    }\n",
       "</style>\n",
       "<table border=\"1\" class=\"dataframe\">\n",
       "  <thead>\n",
       "    <tr style=\"text-align: right;\">\n",
       "      <th></th>\n",
       "      <th>Unnamed: 0</th>\n",
       "      <th>CaseOrder</th>\n",
       "      <th>Customer_id</th>\n",
       "      <th>Interaction</th>\n",
       "      <th>UID</th>\n",
       "      <th>City</th>\n",
       "      <th>State</th>\n",
       "      <th>County</th>\n",
       "      <th>Zip</th>\n",
       "      <th>Lat</th>\n",
       "      <th>...</th>\n",
       "      <th>TotalCharge</th>\n",
       "      <th>Additional_charges</th>\n",
       "      <th>Item1</th>\n",
       "      <th>Item2</th>\n",
       "      <th>Item3</th>\n",
       "      <th>Item4</th>\n",
       "      <th>Item5</th>\n",
       "      <th>Item6</th>\n",
       "      <th>Item7</th>\n",
       "      <th>Item8</th>\n",
       "    </tr>\n",
       "  </thead>\n",
       "  <tbody>\n",
       "    <tr>\n",
       "      <th>0</th>\n",
       "      <td>1</td>\n",
       "      <td>1</td>\n",
       "      <td>C412403</td>\n",
       "      <td>8cd49b13-f45a-4b47-a2bd-173ffa932c2f</td>\n",
       "      <td>3a83ddb66e2ae73798bdf1d705dc0932</td>\n",
       "      <td>Eva</td>\n",
       "      <td>AL</td>\n",
       "      <td>Morgan</td>\n",
       "      <td>35621</td>\n",
       "      <td>34.34960</td>\n",
       "      <td>...</td>\n",
       "      <td>3191.048774</td>\n",
       "      <td>17939.403420</td>\n",
       "      <td>3</td>\n",
       "      <td>3</td>\n",
       "      <td>2</td>\n",
       "      <td>2</td>\n",
       "      <td>4</td>\n",
       "      <td>3</td>\n",
       "      <td>3</td>\n",
       "      <td>4</td>\n",
       "    </tr>\n",
       "    <tr>\n",
       "      <th>1</th>\n",
       "      <td>2</td>\n",
       "      <td>2</td>\n",
       "      <td>Z919181</td>\n",
       "      <td>d2450b70-0337-4406-bdbb-bc1037f1734c</td>\n",
       "      <td>176354c5eef714957d486009feabf195</td>\n",
       "      <td>Marianna</td>\n",
       "      <td>FL</td>\n",
       "      <td>Jackson</td>\n",
       "      <td>32446</td>\n",
       "      <td>30.84513</td>\n",
       "      <td>...</td>\n",
       "      <td>4214.905346</td>\n",
       "      <td>17612.998120</td>\n",
       "      <td>3</td>\n",
       "      <td>4</td>\n",
       "      <td>3</td>\n",
       "      <td>4</td>\n",
       "      <td>4</td>\n",
       "      <td>4</td>\n",
       "      <td>3</td>\n",
       "      <td>3</td>\n",
       "    </tr>\n",
       "    <tr>\n",
       "      <th>2</th>\n",
       "      <td>3</td>\n",
       "      <td>3</td>\n",
       "      <td>F995323</td>\n",
       "      <td>a2057123-abf5-4a2c-abad-8ffe33512562</td>\n",
       "      <td>e19a0fa00aeda885b8a436757e889bc9</td>\n",
       "      <td>Sioux Falls</td>\n",
       "      <td>SD</td>\n",
       "      <td>Minnehaha</td>\n",
       "      <td>57110</td>\n",
       "      <td>43.54321</td>\n",
       "      <td>...</td>\n",
       "      <td>2177.586768</td>\n",
       "      <td>17505.192460</td>\n",
       "      <td>2</td>\n",
       "      <td>4</td>\n",
       "      <td>4</td>\n",
       "      <td>4</td>\n",
       "      <td>3</td>\n",
       "      <td>4</td>\n",
       "      <td>3</td>\n",
       "      <td>3</td>\n",
       "    </tr>\n",
       "    <tr>\n",
       "      <th>3</th>\n",
       "      <td>4</td>\n",
       "      <td>4</td>\n",
       "      <td>A879973</td>\n",
       "      <td>1dec528d-eb34-4079-adce-0d7a40e82205</td>\n",
       "      <td>cd17d7b6d152cb6f23957346d11c3f07</td>\n",
       "      <td>New Richland</td>\n",
       "      <td>MN</td>\n",
       "      <td>Waseca</td>\n",
       "      <td>56072</td>\n",
       "      <td>43.89744</td>\n",
       "      <td>...</td>\n",
       "      <td>2465.118965</td>\n",
       "      <td>12993.437350</td>\n",
       "      <td>3</td>\n",
       "      <td>5</td>\n",
       "      <td>5</td>\n",
       "      <td>3</td>\n",
       "      <td>4</td>\n",
       "      <td>5</td>\n",
       "      <td>5</td>\n",
       "      <td>5</td>\n",
       "    </tr>\n",
       "    <tr>\n",
       "      <th>4</th>\n",
       "      <td>5</td>\n",
       "      <td>5</td>\n",
       "      <td>C544523</td>\n",
       "      <td>5885f56b-d6da-43a3-8760-83583af94266</td>\n",
       "      <td>d2f0425877b10ed6bb381f3e2579424a</td>\n",
       "      <td>West Point</td>\n",
       "      <td>VA</td>\n",
       "      <td>King William</td>\n",
       "      <td>23181</td>\n",
       "      <td>37.59894</td>\n",
       "      <td>...</td>\n",
       "      <td>1885.655137</td>\n",
       "      <td>3716.525786</td>\n",
       "      <td>2</td>\n",
       "      <td>1</td>\n",
       "      <td>3</td>\n",
       "      <td>3</td>\n",
       "      <td>5</td>\n",
       "      <td>3</td>\n",
       "      <td>4</td>\n",
       "      <td>3</td>\n",
       "    </tr>\n",
       "  </tbody>\n",
       "</table>\n",
       "<p>5 rows × 53 columns</p>\n",
       "</div>"
      ],
      "text/plain": [
       "   Unnamed: 0  CaseOrder Customer_id                           Interaction  \\\n",
       "0           1          1     C412403  8cd49b13-f45a-4b47-a2bd-173ffa932c2f   \n",
       "1           2          2     Z919181  d2450b70-0337-4406-bdbb-bc1037f1734c   \n",
       "2           3          3     F995323  a2057123-abf5-4a2c-abad-8ffe33512562   \n",
       "3           4          4     A879973  1dec528d-eb34-4079-adce-0d7a40e82205   \n",
       "4           5          5     C544523  5885f56b-d6da-43a3-8760-83583af94266   \n",
       "\n",
       "                                UID          City State        County    Zip  \\\n",
       "0  3a83ddb66e2ae73798bdf1d705dc0932           Eva    AL        Morgan  35621   \n",
       "1  176354c5eef714957d486009feabf195      Marianna    FL       Jackson  32446   \n",
       "2  e19a0fa00aeda885b8a436757e889bc9   Sioux Falls    SD     Minnehaha  57110   \n",
       "3  cd17d7b6d152cb6f23957346d11c3f07  New Richland    MN        Waseca  56072   \n",
       "4  d2f0425877b10ed6bb381f3e2579424a    West Point    VA  King William  23181   \n",
       "\n",
       "        Lat  ...  TotalCharge  Additional_charges Item1 Item2 Item3  Item4  \\\n",
       "0  34.34960  ...  3191.048774        17939.403420     3     3     2      2   \n",
       "1  30.84513  ...  4214.905346        17612.998120     3     4     3      4   \n",
       "2  43.54321  ...  2177.586768        17505.192460     2     4     4      4   \n",
       "3  43.89744  ...  2465.118965        12993.437350     3     5     5      3   \n",
       "4  37.59894  ...  1885.655137         3716.525786     2     1     3      3   \n",
       "\n",
       "   Item5 Item6 Item7  Item8  \n",
       "0      4     3     3      4  \n",
       "1      4     4     3      3  \n",
       "2      3     4     3      3  \n",
       "3      4     5     5      5  \n",
       "4      5     3     4      3  \n",
       "\n",
       "[5 rows x 53 columns]"
      ]
     },
     "execution_count": 9,
     "metadata": {},
     "output_type": "execute_result"
    }
   ],
   "source": [
    "#Displaying the Medical Data Set.\n",
    "med_df.head()"
   ]
  },
  {
   "cell_type": "code",
   "execution_count": 10,
   "id": "0605a8ad-765a-4add-9f99-064dc7888191",
   "metadata": {},
   "outputs": [
    {
     "data": {
      "text/html": [
       "<div>\n",
       "<style scoped>\n",
       "    .dataframe tbody tr th:only-of-type {\n",
       "        vertical-align: middle;\n",
       "    }\n",
       "\n",
       "    .dataframe tbody tr th {\n",
       "        vertical-align: top;\n",
       "    }\n",
       "\n",
       "    .dataframe thead th {\n",
       "        text-align: right;\n",
       "    }\n",
       "</style>\n",
       "<table border=\"1\" class=\"dataframe\">\n",
       "  <thead>\n",
       "    <tr style=\"text-align: right;\">\n",
       "      <th></th>\n",
       "      <th>Unnamed: 0</th>\n",
       "      <th>CaseOrder</th>\n",
       "      <th>Zip</th>\n",
       "      <th>Lat</th>\n",
       "      <th>Lng</th>\n",
       "      <th>Population</th>\n",
       "      <th>Children</th>\n",
       "      <th>Age</th>\n",
       "      <th>Income</th>\n",
       "      <th>VitD_levels</th>\n",
       "      <th>...</th>\n",
       "      <th>TotalCharge</th>\n",
       "      <th>Additional_charges</th>\n",
       "      <th>Item1</th>\n",
       "      <th>Item2</th>\n",
       "      <th>Item3</th>\n",
       "      <th>Item4</th>\n",
       "      <th>Item5</th>\n",
       "      <th>Item6</th>\n",
       "      <th>Item7</th>\n",
       "      <th>Item8</th>\n",
       "    </tr>\n",
       "  </thead>\n",
       "  <tbody>\n",
       "    <tr>\n",
       "      <th>count</th>\n",
       "      <td>10000.00000</td>\n",
       "      <td>10000.00000</td>\n",
       "      <td>10000.000000</td>\n",
       "      <td>10000.000000</td>\n",
       "      <td>10000.000000</td>\n",
       "      <td>10000.000000</td>\n",
       "      <td>7412.000000</td>\n",
       "      <td>7586.000000</td>\n",
       "      <td>7536.000000</td>\n",
       "      <td>10000.000000</td>\n",
       "      <td>...</td>\n",
       "      <td>10000.000000</td>\n",
       "      <td>10000.000000</td>\n",
       "      <td>10000.000000</td>\n",
       "      <td>10000.000000</td>\n",
       "      <td>10000.000000</td>\n",
       "      <td>10000.000000</td>\n",
       "      <td>10000.000000</td>\n",
       "      <td>10000.000000</td>\n",
       "      <td>10000.000000</td>\n",
       "      <td>10000.000000</td>\n",
       "    </tr>\n",
       "    <tr>\n",
       "      <th>mean</th>\n",
       "      <td>5000.50000</td>\n",
       "      <td>5000.50000</td>\n",
       "      <td>50159.323900</td>\n",
       "      <td>38.751099</td>\n",
       "      <td>-91.243080</td>\n",
       "      <td>9965.253800</td>\n",
       "      <td>2.098219</td>\n",
       "      <td>53.295676</td>\n",
       "      <td>40484.438268</td>\n",
       "      <td>19.412675</td>\n",
       "      <td>...</td>\n",
       "      <td>5891.538261</td>\n",
       "      <td>12934.528586</td>\n",
       "      <td>3.518800</td>\n",
       "      <td>3.506700</td>\n",
       "      <td>3.511100</td>\n",
       "      <td>3.515100</td>\n",
       "      <td>3.496900</td>\n",
       "      <td>3.522500</td>\n",
       "      <td>3.494000</td>\n",
       "      <td>3.509700</td>\n",
       "    </tr>\n",
       "    <tr>\n",
       "      <th>std</th>\n",
       "      <td>2886.89568</td>\n",
       "      <td>2886.89568</td>\n",
       "      <td>27469.588208</td>\n",
       "      <td>5.403085</td>\n",
       "      <td>15.205998</td>\n",
       "      <td>14824.758614</td>\n",
       "      <td>2.155427</td>\n",
       "      <td>20.659182</td>\n",
       "      <td>28664.861050</td>\n",
       "      <td>6.723277</td>\n",
       "      <td>...</td>\n",
       "      <td>3377.558136</td>\n",
       "      <td>6542.601544</td>\n",
       "      <td>1.031966</td>\n",
       "      <td>1.034825</td>\n",
       "      <td>1.032755</td>\n",
       "      <td>1.036282</td>\n",
       "      <td>1.030192</td>\n",
       "      <td>1.032376</td>\n",
       "      <td>1.021405</td>\n",
       "      <td>1.042312</td>\n",
       "    </tr>\n",
       "    <tr>\n",
       "      <th>min</th>\n",
       "      <td>1.00000</td>\n",
       "      <td>1.00000</td>\n",
       "      <td>610.000000</td>\n",
       "      <td>17.967190</td>\n",
       "      <td>-174.209690</td>\n",
       "      <td>0.000000</td>\n",
       "      <td>0.000000</td>\n",
       "      <td>18.000000</td>\n",
       "      <td>154.080000</td>\n",
       "      <td>9.519012</td>\n",
       "      <td>...</td>\n",
       "      <td>1256.751699</td>\n",
       "      <td>3125.702716</td>\n",
       "      <td>1.000000</td>\n",
       "      <td>1.000000</td>\n",
       "      <td>1.000000</td>\n",
       "      <td>1.000000</td>\n",
       "      <td>1.000000</td>\n",
       "      <td>1.000000</td>\n",
       "      <td>1.000000</td>\n",
       "      <td>1.000000</td>\n",
       "    </tr>\n",
       "    <tr>\n",
       "      <th>25%</th>\n",
       "      <td>2500.75000</td>\n",
       "      <td>2500.75000</td>\n",
       "      <td>27592.000000</td>\n",
       "      <td>35.255120</td>\n",
       "      <td>-97.352982</td>\n",
       "      <td>694.750000</td>\n",
       "      <td>0.000000</td>\n",
       "      <td>35.000000</td>\n",
       "      <td>19450.792500</td>\n",
       "      <td>16.513171</td>\n",
       "      <td>...</td>\n",
       "      <td>3253.239465</td>\n",
       "      <td>7986.487642</td>\n",
       "      <td>3.000000</td>\n",
       "      <td>3.000000</td>\n",
       "      <td>3.000000</td>\n",
       "      <td>3.000000</td>\n",
       "      <td>3.000000</td>\n",
       "      <td>3.000000</td>\n",
       "      <td>3.000000</td>\n",
       "      <td>3.000000</td>\n",
       "    </tr>\n",
       "    <tr>\n",
       "      <th>50%</th>\n",
       "      <td>5000.50000</td>\n",
       "      <td>5000.50000</td>\n",
       "      <td>50207.000000</td>\n",
       "      <td>39.419355</td>\n",
       "      <td>-88.397230</td>\n",
       "      <td>2769.000000</td>\n",
       "      <td>1.000000</td>\n",
       "      <td>53.000000</td>\n",
       "      <td>33942.280000</td>\n",
       "      <td>18.080560</td>\n",
       "      <td>...</td>\n",
       "      <td>5852.250564</td>\n",
       "      <td>11573.979365</td>\n",
       "      <td>4.000000</td>\n",
       "      <td>3.000000</td>\n",
       "      <td>4.000000</td>\n",
       "      <td>4.000000</td>\n",
       "      <td>3.000000</td>\n",
       "      <td>4.000000</td>\n",
       "      <td>3.000000</td>\n",
       "      <td>3.000000</td>\n",
       "    </tr>\n",
       "    <tr>\n",
       "      <th>75%</th>\n",
       "      <td>7500.25000</td>\n",
       "      <td>7500.25000</td>\n",
       "      <td>72411.750000</td>\n",
       "      <td>42.044175</td>\n",
       "      <td>-80.438050</td>\n",
       "      <td>13945.000000</td>\n",
       "      <td>3.000000</td>\n",
       "      <td>71.000000</td>\n",
       "      <td>54075.235000</td>\n",
       "      <td>19.789740</td>\n",
       "      <td>...</td>\n",
       "      <td>7614.989701</td>\n",
       "      <td>15626.491033</td>\n",
       "      <td>4.000000</td>\n",
       "      <td>4.000000</td>\n",
       "      <td>4.000000</td>\n",
       "      <td>4.000000</td>\n",
       "      <td>4.000000</td>\n",
       "      <td>4.000000</td>\n",
       "      <td>4.000000</td>\n",
       "      <td>4.000000</td>\n",
       "    </tr>\n",
       "    <tr>\n",
       "      <th>max</th>\n",
       "      <td>10000.00000</td>\n",
       "      <td>10000.00000</td>\n",
       "      <td>99929.000000</td>\n",
       "      <td>70.560990</td>\n",
       "      <td>-65.290170</td>\n",
       "      <td>122814.000000</td>\n",
       "      <td>10.000000</td>\n",
       "      <td>89.000000</td>\n",
       "      <td>207249.130000</td>\n",
       "      <td>53.019124</td>\n",
       "      <td>...</td>\n",
       "      <td>21524.224210</td>\n",
       "      <td>30566.073130</td>\n",
       "      <td>8.000000</td>\n",
       "      <td>7.000000</td>\n",
       "      <td>8.000000</td>\n",
       "      <td>7.000000</td>\n",
       "      <td>7.000000</td>\n",
       "      <td>7.000000</td>\n",
       "      <td>7.000000</td>\n",
       "      <td>7.000000</td>\n",
       "    </tr>\n",
       "  </tbody>\n",
       "</table>\n",
       "<p>8 rows × 26 columns</p>\n",
       "</div>"
      ],
      "text/plain": [
       "        Unnamed: 0    CaseOrder           Zip           Lat           Lng  \\\n",
       "count  10000.00000  10000.00000  10000.000000  10000.000000  10000.000000   \n",
       "mean    5000.50000   5000.50000  50159.323900     38.751099    -91.243080   \n",
       "std     2886.89568   2886.89568  27469.588208      5.403085     15.205998   \n",
       "min        1.00000      1.00000    610.000000     17.967190   -174.209690   \n",
       "25%     2500.75000   2500.75000  27592.000000     35.255120    -97.352982   \n",
       "50%     5000.50000   5000.50000  50207.000000     39.419355    -88.397230   \n",
       "75%     7500.25000   7500.25000  72411.750000     42.044175    -80.438050   \n",
       "max    10000.00000  10000.00000  99929.000000     70.560990    -65.290170   \n",
       "\n",
       "          Population     Children          Age         Income   VitD_levels  \\\n",
       "count   10000.000000  7412.000000  7586.000000    7536.000000  10000.000000   \n",
       "mean     9965.253800     2.098219    53.295676   40484.438268     19.412675   \n",
       "std     14824.758614     2.155427    20.659182   28664.861050      6.723277   \n",
       "min         0.000000     0.000000    18.000000     154.080000      9.519012   \n",
       "25%       694.750000     0.000000    35.000000   19450.792500     16.513171   \n",
       "50%      2769.000000     1.000000    53.000000   33942.280000     18.080560   \n",
       "75%     13945.000000     3.000000    71.000000   54075.235000     19.789740   \n",
       "max    122814.000000    10.000000    89.000000  207249.130000     53.019124   \n",
       "\n",
       "       ...   TotalCharge  Additional_charges         Item1         Item2  \\\n",
       "count  ...  10000.000000        10000.000000  10000.000000  10000.000000   \n",
       "mean   ...   5891.538261        12934.528586      3.518800      3.506700   \n",
       "std    ...   3377.558136         6542.601544      1.031966      1.034825   \n",
       "min    ...   1256.751699         3125.702716      1.000000      1.000000   \n",
       "25%    ...   3253.239465         7986.487642      3.000000      3.000000   \n",
       "50%    ...   5852.250564        11573.979365      4.000000      3.000000   \n",
       "75%    ...   7614.989701        15626.491033      4.000000      4.000000   \n",
       "max    ...  21524.224210        30566.073130      8.000000      7.000000   \n",
       "\n",
       "              Item3         Item4         Item5         Item6         Item7  \\\n",
       "count  10000.000000  10000.000000  10000.000000  10000.000000  10000.000000   \n",
       "mean       3.511100      3.515100      3.496900      3.522500      3.494000   \n",
       "std        1.032755      1.036282      1.030192      1.032376      1.021405   \n",
       "min        1.000000      1.000000      1.000000      1.000000      1.000000   \n",
       "25%        3.000000      3.000000      3.000000      3.000000      3.000000   \n",
       "50%        4.000000      4.000000      3.000000      4.000000      3.000000   \n",
       "75%        4.000000      4.000000      4.000000      4.000000      4.000000   \n",
       "max        8.000000      7.000000      7.000000      7.000000      7.000000   \n",
       "\n",
       "              Item8  \n",
       "count  10000.000000  \n",
       "mean       3.509700  \n",
       "std        1.042312  \n",
       "min        1.000000  \n",
       "25%        3.000000  \n",
       "50%        3.000000  \n",
       "75%        4.000000  \n",
       "max        7.000000  \n",
       "\n",
       "[8 rows x 26 columns]"
      ]
     },
     "execution_count": 10,
     "metadata": {},
     "output_type": "execute_result"
    }
   ],
   "source": [
    "#Describing and examining the Data Set.\n",
    "#Here, we can view the unique statistics of the data set.\n",
    "med_df.describe()"
   ]
  },
  {
   "cell_type": "code",
   "execution_count": 11,
   "id": "26c4da2f-cf9d-4dec-a8b2-3b1a32802b0f",
   "metadata": {},
   "outputs": [
    {
     "name": "stdout",
     "output_type": "stream",
     "text": [
      "<class 'pandas.core.frame.DataFrame'>\n",
      "RangeIndex: 10000 entries, 0 to 9999\n",
      "Data columns (total 53 columns):\n",
      " #   Column              Non-Null Count  Dtype  \n",
      "---  ------              --------------  -----  \n",
      " 0   Unnamed: 0          10000 non-null  int64  \n",
      " 1   CaseOrder           10000 non-null  int64  \n",
      " 2   Customer_id         10000 non-null  object \n",
      " 3   Interaction         10000 non-null  object \n",
      " 4   UID                 10000 non-null  object \n",
      " 5   City                10000 non-null  object \n",
      " 6   State               10000 non-null  object \n",
      " 7   County              10000 non-null  object \n",
      " 8   Zip                 10000 non-null  int64  \n",
      " 9   Lat                 10000 non-null  float64\n",
      " 10  Lng                 10000 non-null  float64\n",
      " 11  Population          10000 non-null  int64  \n",
      " 12  Area                10000 non-null  object \n",
      " 13  Timezone            10000 non-null  object \n",
      " 14  Job                 10000 non-null  object \n",
      " 15  Children            7412 non-null   float64\n",
      " 16  Age                 7586 non-null   float64\n",
      " 17  Education           10000 non-null  object \n",
      " 18  Employment          10000 non-null  object \n",
      " 19  Income              7536 non-null   float64\n",
      " 20  Marital             10000 non-null  object \n",
      " 21  Gender              10000 non-null  object \n",
      " 22  ReAdmis             10000 non-null  object \n",
      " 23  VitD_levels         10000 non-null  float64\n",
      " 24  Doc_visits          10000 non-null  int64  \n",
      " 25  Full_meals_eaten    10000 non-null  int64  \n",
      " 26  VitD_supp           10000 non-null  int64  \n",
      " 27  Soft_drink          7533 non-null   object \n",
      " 28  Initial_admin       10000 non-null  object \n",
      " 29  HighBlood           10000 non-null  object \n",
      " 30  Stroke              10000 non-null  object \n",
      " 31  Complication_risk   10000 non-null  object \n",
      " 32  Overweight          9018 non-null   float64\n",
      " 33  Arthritis           10000 non-null  object \n",
      " 34  Diabetes            10000 non-null  object \n",
      " 35  Hyperlipidemia      10000 non-null  object \n",
      " 36  BackPain            10000 non-null  object \n",
      " 37  Anxiety             9016 non-null   float64\n",
      " 38  Allergic_rhinitis   10000 non-null  object \n",
      " 39  Reflux_esophagitis  10000 non-null  object \n",
      " 40  Asthma              10000 non-null  object \n",
      " 41  Services            10000 non-null  object \n",
      " 42  Initial_days        8944 non-null   float64\n",
      " 43  TotalCharge         10000 non-null  float64\n",
      " 44  Additional_charges  10000 non-null  float64\n",
      " 45  Item1               10000 non-null  int64  \n",
      " 46  Item2               10000 non-null  int64  \n",
      " 47  Item3               10000 non-null  int64  \n",
      " 48  Item4               10000 non-null  int64  \n",
      " 49  Item5               10000 non-null  int64  \n",
      " 50  Item6               10000 non-null  int64  \n",
      " 51  Item7               10000 non-null  int64  \n",
      " 52  Item8               10000 non-null  int64  \n",
      "dtypes: float64(11), int64(15), object(27)\n",
      "memory usage: 4.0+ MB\n"
     ]
    }
   ],
   "source": [
    "#Displaying data types and counts\n",
    "med_df.info()"
   ]
  },
  {
   "cell_type": "code",
   "execution_count": 12,
   "id": "0ae8f6b4-063c-46e6-a2b4-88de1dc47795",
   "metadata": {},
   "outputs": [
    {
     "name": "stdout",
     "output_type": "stream",
     "text": [
      "<class 'pandas.core.frame.DataFrame'>\n",
      "RangeIndex: 10000 entries, 0 to 9999\n",
      "Data columns (total 26 columns):\n",
      " #   Column              Non-Null Count  Dtype  \n",
      "---  ------              --------------  -----  \n",
      " 0   Unnamed: 0          10000 non-null  int64  \n",
      " 1   CaseOrder           10000 non-null  int64  \n",
      " 2   Zip                 10000 non-null  int64  \n",
      " 3   Lat                 10000 non-null  float64\n",
      " 4   Lng                 10000 non-null  float64\n",
      " 5   Population          10000 non-null  int64  \n",
      " 6   Children            7412 non-null   float64\n",
      " 7   Age                 7586 non-null   float64\n",
      " 8   Income              7536 non-null   float64\n",
      " 9   VitD_levels         10000 non-null  float64\n",
      " 10  Doc_visits          10000 non-null  int64  \n",
      " 11  Full_meals_eaten    10000 non-null  int64  \n",
      " 12  VitD_supp           10000 non-null  int64  \n",
      " 13  Overweight          9018 non-null   float64\n",
      " 14  Anxiety             9016 non-null   float64\n",
      " 15  Initial_days        8944 non-null   float64\n",
      " 16  TotalCharge         10000 non-null  float64\n",
      " 17  Additional_charges  10000 non-null  float64\n",
      " 18  Item1               10000 non-null  int64  \n",
      " 19  Item2               10000 non-null  int64  \n",
      " 20  Item3               10000 non-null  int64  \n",
      " 21  Item4               10000 non-null  int64  \n",
      " 22  Item5               10000 non-null  int64  \n",
      " 23  Item6               10000 non-null  int64  \n",
      " 24  Item7               10000 non-null  int64  \n",
      " 25  Item8               10000 non-null  int64  \n",
      "dtypes: float64(11), int64(15)\n",
      "memory usage: 2.0 MB\n"
     ]
    }
   ],
   "source": [
    "#There are two types of data in this data frame: Numerical and Categorical.\n",
    "#Let's first look at the numerical data\n",
    "med_df_num = med_df.select_dtypes(include='number')\n",
    "med_df_num.info()"
   ]
  },
  {
   "cell_type": "code",
   "execution_count": 13,
   "id": "6738c96c-86f2-468b-bd75-98a019d78324",
   "metadata": {
    "scrolled": true
   },
   "outputs": [
    {
     "name": "stdout",
     "output_type": "stream",
     "text": [
      "<class 'pandas.core.frame.DataFrame'>\n",
      "RangeIndex: 10000 entries, 0 to 9999\n",
      "Data columns (total 27 columns):\n",
      " #   Column              Non-Null Count  Dtype \n",
      "---  ------              --------------  ----- \n",
      " 0   Customer_id         10000 non-null  object\n",
      " 1   Interaction         10000 non-null  object\n",
      " 2   UID                 10000 non-null  object\n",
      " 3   City                10000 non-null  object\n",
      " 4   State               10000 non-null  object\n",
      " 5   County              10000 non-null  object\n",
      " 6   Area                10000 non-null  object\n",
      " 7   Timezone            10000 non-null  object\n",
      " 8   Job                 10000 non-null  object\n",
      " 9   Education           10000 non-null  object\n",
      " 10  Employment          10000 non-null  object\n",
      " 11  Marital             10000 non-null  object\n",
      " 12  Gender              10000 non-null  object\n",
      " 13  ReAdmis             10000 non-null  object\n",
      " 14  Soft_drink          7533 non-null   object\n",
      " 15  Initial_admin       10000 non-null  object\n",
      " 16  HighBlood           10000 non-null  object\n",
      " 17  Stroke              10000 non-null  object\n",
      " 18  Complication_risk   10000 non-null  object\n",
      " 19  Arthritis           10000 non-null  object\n",
      " 20  Diabetes            10000 non-null  object\n",
      " 21  Hyperlipidemia      10000 non-null  object\n",
      " 22  BackPain            10000 non-null  object\n",
      " 23  Allergic_rhinitis   10000 non-null  object\n",
      " 24  Reflux_esophagitis  10000 non-null  object\n",
      " 25  Asthma              10000 non-null  object\n",
      " 26  Services            10000 non-null  object\n",
      "dtypes: object(27)\n",
      "memory usage: 2.1+ MB\n"
     ]
    }
   ],
   "source": [
    "#Next, we will look at Categorical data\n",
    "med_df_cat = med_df.select_dtypes(include='object')\n",
    "med_df_cat.info()"
   ]
  },
  {
   "cell_type": "code",
   "execution_count": 14,
   "id": "532e6420-44b2-49a0-be33-5af83714f57e",
   "metadata": {
    "scrolled": true
   },
   "outputs": [
    {
     "name": "stdout",
     "output_type": "stream",
     "text": [
      "      Unnamed: 0  CaseOrder Customer_id                           Interaction  \\\n",
      "0              1          1     C412403  8cd49b13-f45a-4b47-a2bd-173ffa932c2f   \n",
      "1              2          2     Z919181  d2450b70-0337-4406-bdbb-bc1037f1734c   \n",
      "2              3          3     F995323  a2057123-abf5-4a2c-abad-8ffe33512562   \n",
      "3              4          4     A879973  1dec528d-eb34-4079-adce-0d7a40e82205   \n",
      "4              5          5     C544523  5885f56b-d6da-43a3-8760-83583af94266   \n",
      "...          ...        ...         ...                                   ...   \n",
      "9995        9996       9996     B863060  a25b594d-0328-486f-a9b9-0567eb0f9723   \n",
      "9996        9997       9997     P712040  70711574-f7b1-4a17-b15f-48c54564b70f   \n",
      "9997        9998       9998     R778890  1d79569d-8e0f-4180-a207-d67ee4527d26   \n",
      "9998        9999       9999     E344109  f5a68e69-2a60-409b-a92f-ac0847b27db0   \n",
      "9999       10000      10000     I569847  bc482c02-f8c9-4423-99de-3db5e62a18d5   \n",
      "\n",
      "                                   UID          City State        County  \\\n",
      "0     3a83ddb66e2ae73798bdf1d705dc0932           Eva    AL        Morgan   \n",
      "1     176354c5eef714957d486009feabf195      Marianna    FL       Jackson   \n",
      "2     e19a0fa00aeda885b8a436757e889bc9   Sioux Falls    SD     Minnehaha   \n",
      "3     cd17d7b6d152cb6f23957346d11c3f07  New Richland    MN        Waseca   \n",
      "4     d2f0425877b10ed6bb381f3e2579424a    West Point    VA  King William   \n",
      "...                                ...           ...   ...           ...   \n",
      "9995  39184dc28cc038871912ccc4500049e5       Norlina    NC        Warren   \n",
      "9996  3cd124ccd43147404292e883bf9ec55c        Milmay    NJ      Atlantic   \n",
      "9997  41b770aeee97a5b9e7f69c906a8119d7     Southside    TN    Montgomery   \n",
      "9998  2bb491ef5b1beb1fed758cc6885c167a         Quinn    SD    Pennington   \n",
      "9999  95663a202338000abdf7e09311c2a8a1    Coraopolis    PA     Allegheny   \n",
      "\n",
      "        Zip       Lat  ...  TotalCharge  Additional_charges Item1 Item2 Item3  \\\n",
      "0     35621  34.34960  ...  3191.048774        17939.403420     3     3     2   \n",
      "1     32446  30.84513  ...  4214.905346        17612.998120     3     4     3   \n",
      "2     57110  43.54321  ...  2177.586768        17505.192460     2     4     4   \n",
      "3     56072  43.89744  ...  2465.118965        12993.437350     3     5     5   \n",
      "4     23181  37.59894  ...  1885.655137         3716.525786     2     1     3   \n",
      "...     ...       ...  ...          ...                 ...   ...   ...   ...   \n",
      "9995  27563  36.42886  ...  6651.241294         8927.642189     3     2     2   \n",
      "9996   8340  39.43609  ...  7851.522660        28507.147340     3     3     4   \n",
      "9997  37171  36.36655  ...  7725.953391        15281.214660     3     3     3   \n",
      "9998  57775  44.10354  ...  8462.831883         7781.678412     5     5     3   \n",
      "9999  15108  40.49998  ...  8700.856021        11643.189930     4     3     3   \n",
      "\n",
      "      Item4  Item5 Item6 Item7  Item8  \n",
      "0         2      4     3     3      4  \n",
      "1         4      4     4     3      3  \n",
      "2         4      3     4     3      3  \n",
      "3         3      4     5     5      5  \n",
      "4         3      5     3     4      3  \n",
      "...     ...    ...   ...   ...    ...  \n",
      "9995      3      4     3     4      2  \n",
      "9996      2      5     3     4      4  \n",
      "9997      4      4     2     3      2  \n",
      "9998      4      4     3     4      3  \n",
      "9999      2      3     6     4      3  \n",
      "\n",
      "[10000 rows x 53 columns]\n"
     ]
    }
   ],
   "source": [
    "#Next, let's check for duplicates.\n",
    "med_df.duplicated\n",
    "print(med_df)"
   ]
  },
  {
   "cell_type": "code",
   "execution_count": 15,
   "id": "91acef40-83d1-46a4-9193-975baf642f3d",
   "metadata": {
    "scrolled": true
   },
   "outputs": [
    {
     "name": "stdout",
     "output_type": "stream",
     "text": [
      "      CaseOrder Customer_id                           Interaction  \\\n",
      "0             1     C412403  8cd49b13-f45a-4b47-a2bd-173ffa932c2f   \n",
      "1             2     Z919181  d2450b70-0337-4406-bdbb-bc1037f1734c   \n",
      "2             3     F995323  a2057123-abf5-4a2c-abad-8ffe33512562   \n",
      "3             4     A879973  1dec528d-eb34-4079-adce-0d7a40e82205   \n",
      "4             5     C544523  5885f56b-d6da-43a3-8760-83583af94266   \n",
      "...         ...         ...                                   ...   \n",
      "9995       9996     B863060  a25b594d-0328-486f-a9b9-0567eb0f9723   \n",
      "9996       9997     P712040  70711574-f7b1-4a17-b15f-48c54564b70f   \n",
      "9997       9998     R778890  1d79569d-8e0f-4180-a207-d67ee4527d26   \n",
      "9998       9999     E344109  f5a68e69-2a60-409b-a92f-ac0847b27db0   \n",
      "9999      10000     I569847  bc482c02-f8c9-4423-99de-3db5e62a18d5   \n",
      "\n",
      "                                   UID          City State        County  \\\n",
      "0     3a83ddb66e2ae73798bdf1d705dc0932           Eva    AL        Morgan   \n",
      "1     176354c5eef714957d486009feabf195      Marianna    FL       Jackson   \n",
      "2     e19a0fa00aeda885b8a436757e889bc9   Sioux Falls    SD     Minnehaha   \n",
      "3     cd17d7b6d152cb6f23957346d11c3f07  New Richland    MN        Waseca   \n",
      "4     d2f0425877b10ed6bb381f3e2579424a    West Point    VA  King William   \n",
      "...                                ...           ...   ...           ...   \n",
      "9995  39184dc28cc038871912ccc4500049e5       Norlina    NC        Warren   \n",
      "9996  3cd124ccd43147404292e883bf9ec55c        Milmay    NJ      Atlantic   \n",
      "9997  41b770aeee97a5b9e7f69c906a8119d7     Southside    TN    Montgomery   \n",
      "9998  2bb491ef5b1beb1fed758cc6885c167a         Quinn    SD    Pennington   \n",
      "9999  95663a202338000abdf7e09311c2a8a1    Coraopolis    PA     Allegheny   \n",
      "\n",
      "        Zip       Lat        Lng  ...  TotalCharge Additional_charges Item1  \\\n",
      "0     35621  34.34960  -86.72508  ...  3191.048774       17939.403420     3   \n",
      "1     32446  30.84513  -85.22907  ...  4214.905346       17612.998120     3   \n",
      "2     57110  43.54321  -96.63772  ...  2177.586768       17505.192460     2   \n",
      "3     56072  43.89744  -93.51479  ...  2465.118965       12993.437350     3   \n",
      "4     23181  37.59894  -76.88958  ...  1885.655137        3716.525786     2   \n",
      "...     ...       ...        ...  ...          ...                ...   ...   \n",
      "9995  27563  36.42886  -78.23716  ...  6651.241294        8927.642189     3   \n",
      "9996   8340  39.43609  -74.87302  ...  7851.522660       28507.147340     3   \n",
      "9997  37171  36.36655  -87.29988  ...  7725.953391       15281.214660     3   \n",
      "9998  57775  44.10354 -102.01593  ...  8462.831883        7781.678412     5   \n",
      "9999  15108  40.49998  -80.19959  ...  8700.856021       11643.189930     4   \n",
      "\n",
      "     Item2  Item3  Item4 Item5 Item6  Item7 Item8  \n",
      "0        3      2      2     4     3      3     4  \n",
      "1        4      3      4     4     4      3     3  \n",
      "2        4      4      4     3     4      3     3  \n",
      "3        5      5      3     4     5      5     5  \n",
      "4        1      3      3     5     3      4     3  \n",
      "...    ...    ...    ...   ...   ...    ...   ...  \n",
      "9995     2      2      3     4     3      4     2  \n",
      "9996     3      4      2     5     3      4     4  \n",
      "9997     3      3      4     4     2      3     2  \n",
      "9998     5      3      4     4     3      4     3  \n",
      "9999     3      3      2     3     6      4     3  \n",
      "\n",
      "[10000 rows x 52 columns]\n"
     ]
    }
   ],
   "source": [
    "#It shows a duplicate column (Unnamed:0), which is identical to 'CaseOrder'\n",
    "#We will drop the duplicate column 'Unnamed.'\n",
    "med_df.drop (columns = {'Unnamed: 0' \n",
    "                        },\n",
    "           inplace=True)\n",
    "print(med_df)"
   ]
  },
  {
   "cell_type": "code",
   "execution_count": 16,
   "id": "4703279b-a8e7-406a-907c-90b793c8b401",
   "metadata": {},
   "outputs": [],
   "source": [
    "#The \"Unnamed\" column has been successfully dropped."
   ]
  },
  {
   "cell_type": "code",
   "execution_count": 17,
   "id": "787b6e75-791f-4ea7-8be8-0ac42cc84aa9",
   "metadata": {},
   "outputs": [
    {
     "data": {
      "text/plain": [
       "<AxesSubplot:>"
      ]
     },
     "execution_count": 17,
     "metadata": {},
     "output_type": "execute_result"
    },
    {
     "data": {
      "image/png": "[encoded data removed]",
      "text/plain": [
       "<Figure size 1800x720 with 2 Axes>"
      ]
     },
     "metadata": {
      "needs_background": "light"
     },
     "output_type": "display_data"
    }
   ],
   "source": [
    "#Next, let's check for missing values.\n",
    "#First we need to import missingno to visualize the null values. \n",
    "import missingno as msno\n",
    "#We will be using the code below as we are working with more than 50 columns.\n",
    "msno.matrix(med_df, fontsize = 12, labels=True)"
   ]
  },
  {
   "cell_type": "code",
   "execution_count": 18,
   "id": "f9f3dc45-6b4f-4f83-beaf-691d9a94e8d2",
   "metadata": {},
   "outputs": [
    {
     "data": {
      "text/plain": [
       "CaseOrder                0\n",
       "Customer_id              0\n",
       "Interaction              0\n",
       "UID                      0\n",
       "City                     0\n",
       "State                    0\n",
       "County                   0\n",
       "Zip                      0\n",
       "Lat                      0\n",
       "Lng                      0\n",
       "Population               0\n",
       "Area                     0\n",
       "Timezone                 0\n",
       "Job                      0\n",
       "Children              2588\n",
       "Age                   2414\n",
       "Education                0\n",
       "Employment               0\n",
       "Income                2464\n",
       "Marital                  0\n",
       "Gender                   0\n",
       "ReAdmis                  0\n",
       "VitD_levels              0\n",
       "Doc_visits               0\n",
       "Full_meals_eaten         0\n",
       "VitD_supp                0\n",
       "Soft_drink            2467\n",
       "Initial_admin            0\n",
       "HighBlood                0\n",
       "Stroke                   0\n",
       "Complication_risk        0\n",
       "Overweight             982\n",
       "Arthritis                0\n",
       "Diabetes                 0\n",
       "Hyperlipidemia           0\n",
       "BackPain                 0\n",
       "Anxiety                984\n",
       "Allergic_rhinitis        0\n",
       "Reflux_esophagitis       0\n",
       "Asthma                   0\n",
       "Services                 0\n",
       "Initial_days          1056\n",
       "TotalCharge              0\n",
       "Additional_charges       0\n",
       "Item1                    0\n",
       "Item2                    0\n",
       "Item3                    0\n",
       "Item4                    0\n",
       "Item5                    0\n",
       "Item6                    0\n",
       "Item7                    0\n",
       "Item8                    0\n",
       "dtype: int64"
      ]
     },
     "execution_count": 18,
     "metadata": {},
     "output_type": "execute_result"
    }
   ],
   "source": [
    "#Let's gather a sum of how many values are missing from each variable.\n",
    "med_df.isnull().sum()"
   ]
  },
  {
   "cell_type": "code",
   "execution_count": 19,
   "id": "bdc6347f-684b-4bfe-a283-e03a4d2cba47",
   "metadata": {},
   "outputs": [],
   "source": [
    "#It appears the data set has numerous missing values in multiple variables. \n",
    "#The missing values also look like they are not inherently related.\n",
    "#Children, Age, Income, Soft_drink, Overweight, Anxiety, and Initial_days all have missing values.\n",
    "#We will be fixing these variables by imputing the median and mean for the numerical columns.\n",
    "#We will also be imputing the mode for the categorical columns."
   ]
  },
  {
   "cell_type": "code",
   "execution_count": 20,
   "id": "efcf1521-e377-4d0d-9fa1-ac19b5231509",
   "metadata": {},
   "outputs": [
    {
     "data": {
      "image/png": "[encoded data removed]",
      "text/plain": [
       "<Figure size 432x288 with 6 Axes>"
      ]
     },
     "metadata": {
      "needs_background": "light"
     },
     "output_type": "display_data"
    }
   ],
   "source": [
    "#Let's see the distribution for the numerical data\n",
    "med_df[['Children', 'Age', 'Income', 'Initial_days', 'Overweight', 'Anxiety']].hist()\n",
    "plt.savefig('med_df_pyplot.jpg')\n",
    "plt.tight_layout()"
   ]
  },
  {
   "cell_type": "code",
   "execution_count": 21,
   "id": "71990a5b-30c5-4acd-aa4f-bf0b6c5f34c1",
   "metadata": {},
   "outputs": [],
   "source": [
    "#It looks like 'Children' and 'Income' are positively skewed.\n",
    "#'Age' appears to have a uniform distribution.\n",
    "#Lastly,'Initial_days' appear to have a bimodal distribution."
   ]
  },
  {
   "cell_type": "code",
   "execution_count": 22,
   "id": "1136c02a-2987-40fd-b050-b35cd4facc63",
   "metadata": {
    "scrolled": true
   },
   "outputs": [
    {
     "data": {
      "text/plain": [
       "CaseOrder                0\n",
       "Customer_id              0\n",
       "Interaction              0\n",
       "UID                      0\n",
       "City                     0\n",
       "State                    0\n",
       "County                   0\n",
       "Zip                      0\n",
       "Lat                      0\n",
       "Lng                      0\n",
       "Population               0\n",
       "Area                     0\n",
       "Timezone                 0\n",
       "Job                      0\n",
       "Children                 0\n",
       "Age                   2414\n",
       "Education                0\n",
       "Employment               0\n",
       "Income                   0\n",
       "Marital                  0\n",
       "Gender                   0\n",
       "ReAdmis                  0\n",
       "VitD_levels              0\n",
       "Doc_visits               0\n",
       "Full_meals_eaten         0\n",
       "VitD_supp                0\n",
       "Soft_drink            2467\n",
       "Initial_admin            0\n",
       "HighBlood                0\n",
       "Stroke                   0\n",
       "Complication_risk        0\n",
       "Overweight               0\n",
       "Arthritis                0\n",
       "Diabetes                 0\n",
       "Hyperlipidemia           0\n",
       "BackPain                 0\n",
       "Anxiety                  0\n",
       "Allergic_rhinitis        0\n",
       "Reflux_esophagitis       0\n",
       "Asthma                   0\n",
       "Services                 0\n",
       "Initial_days             0\n",
       "TotalCharge              0\n",
       "Additional_charges       0\n",
       "Item1                    0\n",
       "Item2                    0\n",
       "Item3                    0\n",
       "Item4                    0\n",
       "Item5                    0\n",
       "Item6                    0\n",
       "Item7                    0\n",
       "Item8                    0\n",
       "dtype: int64"
      ]
     },
     "execution_count": 22,
     "metadata": {},
     "output_type": "execute_result"
    }
   ],
   "source": [
    "#Let's impute the median for the numerical columns.\n",
    "med_df['Children'].fillna(med_df['Children'].median(), inplace=True)\n",
    "med_df['Income'].fillna(med_df['Income'].median(), inplace=True)\n",
    "med_df['Initial_days'].fillna(med_df['Initial_days'].median(), inplace=True)\n",
    "med_df['Overweight'].fillna(med_df['Overweight'].median(), inplace=True)\n",
    "med_df['Anxiety'].fillna(med_df['Anxiety'].median(), inplace=True)\n",
    "#And, let's check and make sure all of the values were imputing by using the below code.\n",
    "med_df.isnull().sum()"
   ]
  },
  {
   "cell_type": "code",
   "execution_count": 23,
   "id": "02e9a58c-70c3-47ed-ac54-4da6e34bd16b",
   "metadata": {},
   "outputs": [
    {
     "data": {
      "text/plain": [
       "CaseOrder                0\n",
       "Customer_id              0\n",
       "Interaction              0\n",
       "UID                      0\n",
       "City                     0\n",
       "State                    0\n",
       "County                   0\n",
       "Zip                      0\n",
       "Lat                      0\n",
       "Lng                      0\n",
       "Population               0\n",
       "Area                     0\n",
       "Timezone                 0\n",
       "Job                      0\n",
       "Children                 0\n",
       "Age                      0\n",
       "Education                0\n",
       "Employment               0\n",
       "Income                   0\n",
       "Marital                  0\n",
       "Gender                   0\n",
       "ReAdmis                  0\n",
       "VitD_levels              0\n",
       "Doc_visits               0\n",
       "Full_meals_eaten         0\n",
       "VitD_supp                0\n",
       "Soft_drink            2467\n",
       "Initial_admin            0\n",
       "HighBlood                0\n",
       "Stroke                   0\n",
       "Complication_risk        0\n",
       "Overweight               0\n",
       "Arthritis                0\n",
       "Diabetes                 0\n",
       "Hyperlipidemia           0\n",
       "BackPain                 0\n",
       "Anxiety                  0\n",
       "Allergic_rhinitis        0\n",
       "Reflux_esophagitis       0\n",
       "Asthma                   0\n",
       "Services                 0\n",
       "Initial_days             0\n",
       "TotalCharge              0\n",
       "Additional_charges       0\n",
       "Item1                    0\n",
       "Item2                    0\n",
       "Item3                    0\n",
       "Item4                    0\n",
       "Item5                    0\n",
       "Item6                    0\n",
       "Item7                    0\n",
       "Item8                    0\n",
       "dtype: int64"
      ]
     },
     "execution_count": 23,
     "metadata": {},
     "output_type": "execute_result"
    }
   ],
   "source": [
    "med_df['Age'].fillna(med_df['Age'].mean(), inplace=True)\n",
    "med_df.isnull().sum()"
   ]
  },
  {
   "cell_type": "code",
   "execution_count": 24,
   "id": "8ea53779-90d0-4033-8557-8d5ac4c3a6f0",
   "metadata": {
    "scrolled": true
   },
   "outputs": [
    {
     "data": {
      "text/plain": [
       "CaseOrder             0\n",
       "Customer_id           0\n",
       "Interaction           0\n",
       "UID                   0\n",
       "City                  0\n",
       "State                 0\n",
       "County                0\n",
       "Zip                   0\n",
       "Lat                   0\n",
       "Lng                   0\n",
       "Population            0\n",
       "Area                  0\n",
       "Timezone              0\n",
       "Job                   0\n",
       "Children              0\n",
       "Age                   0\n",
       "Education             0\n",
       "Employment            0\n",
       "Income                0\n",
       "Marital               0\n",
       "Gender                0\n",
       "ReAdmis               0\n",
       "VitD_levels           0\n",
       "Doc_visits            0\n",
       "Full_meals_eaten      0\n",
       "VitD_supp             0\n",
       "Soft_drink            0\n",
       "Initial_admin         0\n",
       "HighBlood             0\n",
       "Stroke                0\n",
       "Complication_risk     0\n",
       "Overweight            0\n",
       "Arthritis             0\n",
       "Diabetes              0\n",
       "Hyperlipidemia        0\n",
       "BackPain              0\n",
       "Anxiety               0\n",
       "Allergic_rhinitis     0\n",
       "Reflux_esophagitis    0\n",
       "Asthma                0\n",
       "Services              0\n",
       "Initial_days          0\n",
       "TotalCharge           0\n",
       "Additional_charges    0\n",
       "Item1                 0\n",
       "Item2                 0\n",
       "Item3                 0\n",
       "Item4                 0\n",
       "Item5                 0\n",
       "Item6                 0\n",
       "Item7                 0\n",
       "Item8                 0\n",
       "dtype: int64"
      ]
     },
     "execution_count": 24,
     "metadata": {},
     "output_type": "execute_result"
    }
   ],
   "source": [
    "#It looks like all of the numerical data is complete.\n",
    "#Let's move onto the categorical column that is missing values. \n",
    "#Soft_drink is missing values.\n",
    "#Since it is a categorical variable, we will be using the mode.\n",
    "med_df['Soft_drink'] = med_df['Soft_drink'].fillna(med_df['Soft_drink'].mode() [0])\n",
    "#We will also confirming all null values were remedied.\n",
    "med_df.isnull().sum()"
   ]
  },
  {
   "cell_type": "code",
   "execution_count": 25,
   "id": "fc23e76e-3c30-4fec-ba89-dc26c5b97dbc",
   "metadata": {},
   "outputs": [
    {
     "data": {
      "image/png": "[encoded data removed]",
      "text/plain": [
       "<Figure size 432x288 with 6 Axes>"
      ]
     },
     "metadata": {
      "needs_background": "light"
     },
     "output_type": "display_data"
    }
   ],
   "source": [
    "#Now that all null values are treated, let's check the distributions.\n",
    "med_df[['Children', 'Age', 'Income', 'Initial_days', 'Anxiety', 'Overweight']].hist()\n",
    "plt.savefig('med_df_pyplot.jpg')\n",
    "plt.tight_layout()"
   ]
  },
  {
   "cell_type": "code",
   "execution_count": 26,
   "id": "34c9ce96-047c-44fb-8ea1-ae43a743b2f9",
   "metadata": {},
   "outputs": [
    {
     "data": {
      "image/png": "[encoded data removed]",
      "text/plain": [
       "<Figure size 432x288 with 1 Axes>"
      ]
     },
     "metadata": {
      "needs_background": "light"
     },
     "output_type": "display_data"
    }
   ],
   "source": [
    "#Now let's tackle the outliers.\n",
    "#We will be using boxplots to identify outliers.\n",
    "#Note: Boxplots will only work on numerical data.\n",
    "boxplot=sns.boxplot(x='Children',data=med_df)"
   ]
  },
  {
   "cell_type": "code",
   "execution_count": 27,
   "id": "d3c2fa59-454d-46f0-991f-efcd55f7dfc2",
   "metadata": {
    "scrolled": true
   },
   "outputs": [
    {
     "data": {
      "image/png": "[encoded data removed]",
      "text/plain": [
       "<Figure size 432x288 with 1 Axes>"
      ]
     },
     "metadata": {
      "needs_background": "light"
     },
     "output_type": "display_data"
    }
   ],
   "source": [
    "boxplot=sns.boxplot(x='Income',data=med_df)"
   ]
  },
  {
   "cell_type": "code",
   "execution_count": 28,
   "id": "2f5009a9-9a2e-4a31-9226-4823f6923501",
   "metadata": {},
   "outputs": [
    {
     "data": {
      "image/png": "[encoded data removed]",
      "text/plain": [
       "<Figure size 432x288 with 1 Axes>"
      ]
     },
     "metadata": {
      "needs_background": "light"
     },
     "output_type": "display_data"
    }
   ],
   "source": [
    "boxplot=sns.boxplot(x='Age',data=med_df)"
   ]
  },
  {
   "cell_type": "code",
   "execution_count": 29,
   "id": "14cc0fac-1b13-4a05-9e3e-7e113cfbd7ff",
   "metadata": {},
   "outputs": [
    {
     "data": {
      "image/png": "[encoded data removed]",
      "text/plain": [
       "<Figure size 432x288 with 1 Axes>"
      ]
     },
     "metadata": {
      "needs_background": "light"
     },
     "output_type": "display_data"
    }
   ],
   "source": [
    "boxplot=sns.boxplot(x='Initial_days',data=med_df)"
   ]
  },
  {
   "cell_type": "code",
   "execution_count": 30,
   "id": "50ea2527-6909-4721-92d4-520834130b65",
   "metadata": {},
   "outputs": [],
   "source": [
    "#So, it looks like 'Children' and 'Income' contain outliers.\n",
    "#The outliers will remain in the data set as they do not appear to be errors, but legitimate entries.\n",
    "#Plus, excluding the outliers will remove a large portion of data in the data set."
   ]
  },
  {
   "cell_type": "code",
   "execution_count": 31,
   "id": "62ff3677-8b73-4755-9f1f-ac7007ba2acc",
   "metadata": {},
   "outputs": [],
   "source": [
    "#Now let's extract the clean data\n",
    "med_df.to_csv('med_df_clean.csv')"
   ]
  },
  {
   "cell_type": "code",
   "execution_count": 32,
   "id": "148429ff-3bb0-4f0f-99f1-0e6c9ffc1006",
   "metadata": {},
   "outputs": [],
   "source": [
    "#Let's reload the clean data\n",
    "med_df = pd.read_csv('med_df_clean.csv',index_col=0)"
   ]
  },
  {
   "cell_type": "markdown",
   "id": "ad43f165-2dc5-4239-9225-6afba4c9da68",
   "metadata": {},
   "source": [
    "Principal Component Analysis (PCA)"
   ]
  },
  {
   "cell_type": "code",
   "execution_count": 33,
   "id": "f19b3363-a70b-45f5-a77e-07ae1bd75649",
   "metadata": {},
   "outputs": [
    {
     "data": {
      "text/html": [
       "<div>\n",
       "<style scoped>\n",
       "    .dataframe tbody tr th:only-of-type {\n",
       "        vertical-align: middle;\n",
       "    }\n",
       "\n",
       "    .dataframe tbody tr th {\n",
       "        vertical-align: top;\n",
       "    }\n",
       "\n",
       "    .dataframe thead th {\n",
       "        text-align: right;\n",
       "    }\n",
       "</style>\n",
       "<table border=\"1\" class=\"dataframe\">\n",
       "  <thead>\n",
       "    <tr style=\"text-align: right;\">\n",
       "      <th></th>\n",
       "      <th>TotalCharge</th>\n",
       "      <th>Additional_charges</th>\n",
       "      <th>Age</th>\n",
       "      <th>Children</th>\n",
       "      <th>Income</th>\n",
       "    </tr>\n",
       "  </thead>\n",
       "  <tbody>\n",
       "    <tr>\n",
       "      <th>0</th>\n",
       "      <td>3191.048774</td>\n",
       "      <td>17939.403420</td>\n",
       "      <td>53.0</td>\n",
       "      <td>1.0</td>\n",
       "      <td>86575.93</td>\n",
       "    </tr>\n",
       "    <tr>\n",
       "      <th>1</th>\n",
       "      <td>4214.905346</td>\n",
       "      <td>17612.998120</td>\n",
       "      <td>51.0</td>\n",
       "      <td>3.0</td>\n",
       "      <td>46805.99</td>\n",
       "    </tr>\n",
       "    <tr>\n",
       "      <th>2</th>\n",
       "      <td>2177.586768</td>\n",
       "      <td>17505.192460</td>\n",
       "      <td>53.0</td>\n",
       "      <td>3.0</td>\n",
       "      <td>14370.14</td>\n",
       "    </tr>\n",
       "    <tr>\n",
       "      <th>3</th>\n",
       "      <td>2465.118965</td>\n",
       "      <td>12993.437350</td>\n",
       "      <td>78.0</td>\n",
       "      <td>0.0</td>\n",
       "      <td>39741.49</td>\n",
       "    </tr>\n",
       "    <tr>\n",
       "      <th>4</th>\n",
       "      <td>1885.655137</td>\n",
       "      <td>3716.525786</td>\n",
       "      <td>22.0</td>\n",
       "      <td>1.0</td>\n",
       "      <td>1209.56</td>\n",
       "    </tr>\n",
       "  </tbody>\n",
       "</table>\n",
       "</div>"
      ],
      "text/plain": [
       "   TotalCharge  Additional_charges   Age  Children    Income\n",
       "0  3191.048774        17939.403420  53.0       1.0  86575.93\n",
       "1  4214.905346        17612.998120  51.0       3.0  46805.99\n",
       "2  2177.586768        17505.192460  53.0       3.0  14370.14\n",
       "3  2465.118965        12993.437350  78.0       0.0  39741.49\n",
       "4  1885.655137         3716.525786  22.0       1.0   1209.56"
      ]
     },
     "execution_count": 33,
     "metadata": {},
     "output_type": "execute_result"
    }
   ],
   "source": [
    "#Now, let's choose which variables will be included in the PCA.\n",
    "#NOTE: They must be numeric.\n",
    "med_df = med_df[['TotalCharge', 'Additional_charges', 'Age', 'Children', 'Income']]\n",
    "#To assess the result, we will use the code below.\n",
    "med_df.head()"
   ]
  },
  {
   "cell_type": "code",
   "execution_count": 34,
   "id": "848fb3a0-0eca-45dc-a25c-3a9e90d92a53",
   "metadata": {},
   "outputs": [],
   "source": [
    "#To run the PCA, we will be utilizing the scikit learn package we imported at the beginning.\n",
    "#First we need to normalize the data. \n",
    "#We do this because there could have different scales, which may cause large loadings w/ high variance.\n",
    "med_df_normalized = (med_df - med_df.mean()) / med_df.std()"
   ]
  },
  {
   "cell_type": "code",
   "execution_count": 35,
   "id": "fe245ee2-7acb-4804-87dd-1e6dd86082f9",
   "metadata": {},
   "outputs": [
    {
     "data": {
      "text/plain": [
       "PCA(n_components=5)"
      ]
     },
     "execution_count": 35,
     "metadata": {},
     "output_type": "execute_result"
    }
   ],
   "source": [
    "#Then we select how many components we want extracted.\n",
    "pca = PCA(n_components = med_df.shape[1])\n",
    "pca.fit(med_df_normalized)\n",
    "PCA(n_components=5)"
   ]
  },
  {
   "cell_type": "code",
   "execution_count": 42,
   "id": "a53b7f90-905a-4deb-a234-0046b86ed431",
   "metadata": {},
   "outputs": [],
   "source": [
    "#Now, we will call the PCA application that will convert the data set of 5 variables into 5 principal components.\n",
    "pca.fit(med_df_normalized)\n",
    "med_df = pd.DataFrame(pca.transform(med_df_normalized),columns=['PC1', 'PC2', 'PC3', 'PC4', 'PC5'])"
   ]
  },
  {
   "cell_type": "code",
   "execution_count": 37,
   "id": "6fa4c8e3-81a8-4633-97b4-fb329b1728c2",
   "metadata": {},
   "outputs": [
    {
     "data": {
      "text/html": [
       "<div>\n",
       "<style scoped>\n",
       "    .dataframe tbody tr th:only-of-type {\n",
       "        vertical-align: middle;\n",
       "    }\n",
       "\n",
       "    .dataframe tbody tr th {\n",
       "        vertical-align: top;\n",
       "    }\n",
       "\n",
       "    .dataframe thead th {\n",
       "        text-align: right;\n",
       "    }\n",
       "</style>\n",
       "<table border=\"1\" class=\"dataframe\">\n",
       "  <thead>\n",
       "    <tr style=\"text-align: right;\">\n",
       "      <th></th>\n",
       "      <th>PC1</th>\n",
       "      <th>PC2</th>\n",
       "      <th>PC3</th>\n",
       "      <th>PC4</th>\n",
       "      <th>PC5</th>\n",
       "    </tr>\n",
       "  </thead>\n",
       "  <tbody>\n",
       "    <tr>\n",
       "      <th>TotalCharge</th>\n",
       "      <td>0.056283</td>\n",
       "      <td>-0.336226</td>\n",
       "      <td>0.802835</td>\n",
       "      <td>0.488982</td>\n",
       "      <td>-0.011675</td>\n",
       "    </tr>\n",
       "    <tr>\n",
       "      <th>Additional_charges</th>\n",
       "      <td>0.706159</td>\n",
       "      <td>0.016971</td>\n",
       "      <td>-0.028052</td>\n",
       "      <td>-0.006668</td>\n",
       "      <td>0.707262</td>\n",
       "    </tr>\n",
       "    <tr>\n",
       "      <th>Age</th>\n",
       "      <td>0.705658</td>\n",
       "      <td>0.006787</td>\n",
       "      <td>-0.047640</td>\n",
       "      <td>-0.015214</td>\n",
       "      <td>-0.706753</td>\n",
       "    </tr>\n",
       "    <tr>\n",
       "      <th>Children</th>\n",
       "      <td>0.012661</td>\n",
       "      <td>0.604487</td>\n",
       "      <td>0.582785</td>\n",
       "      <td>-0.542875</td>\n",
       "      <td>-0.009151</td>\n",
       "    </tr>\n",
       "    <tr>\n",
       "      <th>Income</th>\n",
       "      <td>-0.007623</td>\n",
       "      <td>0.721951</td>\n",
       "      <td>-0.112961</td>\n",
       "      <td>0.682575</td>\n",
       "      <td>-0.007758</td>\n",
       "    </tr>\n",
       "  </tbody>\n",
       "</table>\n",
       "</div>"
      ],
      "text/plain": [
       "                         PC1       PC2       PC3       PC4       PC5\n",
       "TotalCharge         0.056283 -0.336226  0.802835  0.488982 -0.011675\n",
       "Additional_charges  0.706159  0.016971 -0.028052 -0.006668  0.707262\n",
       "Age                 0.705658  0.006787 -0.047640 -0.015214 -0.706753\n",
       "Children            0.012661  0.604487  0.582785 -0.542875 -0.009151\n",
       "Income             -0.007623  0.721951 -0.112961  0.682575 -0.007758"
      ]
     },
     "execution_count": 37,
     "metadata": {},
     "output_type": "execute_result"
    }
   ],
   "source": [
    "#Loadings\n",
    "#These are the correlation coefficients between the rows and columns.\n",
    "#This measures how strong the relationship is between two variables.\n",
    "#This will aid in identifying strengths the columns add to the principal components\n",
    "loadings = pd.DataFrame(pca.components_.T,\n",
    "                        columns=['PC1', 'PC2', 'PC3', 'PC4', 'PC5'],\n",
    "                        index=med_df_normalized.columns)\n",
    "loadings"
   ]
  },
  {
   "cell_type": "code",
   "execution_count": 38,
   "id": "8233623d-cee6-4f87-b2f3-e46e6085d542",
   "metadata": {},
   "outputs": [
    {
     "data": {
      "image/png": "[encoded data removed]",
      "text/plain": [
       "<Figure size 432x288 with 1 Axes>"
      ]
     },
     "metadata": {
      "needs_background": "light"
     },
     "output_type": "display_data"
    }
   ],
   "source": [
    "#TotalCharge, Additional_charges, and Age all have the highest coefficients\n",
    "#Making a Scree Plot\n",
    "#Explained Variance\n",
    "plt.plot(pca.explained_variance_ratio_)\n",
    "plt.xlabel('number of components')\n",
    "plt.ylabel('explained variance')\n",
    "plt.show()"
   ]
  },
  {
   "cell_type": "code",
   "execution_count": 39,
   "id": "f1be2b1b-41ab-4351-8f2c-6d7c494cc192",
   "metadata": {},
   "outputs": [],
   "source": [
    "#Extracting the Eigenvalues\n",
    "cov_matrix = np.dot(med_df_normalized.T, med_df_normalized) / med_df.shape[0]\n",
    "eigenvalues = [np.dot(eigenvector.T, np.dot(cov_matrix, eigenvector)) for eigenvector in pca.components_]"
   ]
  },
  {
   "cell_type": "code",
   "execution_count": 40,
   "id": "832ad756-7122-47a1-9875-cf9e2d319744",
   "metadata": {},
   "outputs": [
    {
     "data": {
      "image/png": "[encoded data removed]",
      "text/plain": [
       "<Figure size 432x288 with 1 Axes>"
      ]
     },
     "metadata": {
      "needs_background": "light"
     },
     "output_type": "display_data"
    }
   ],
   "source": [
    "#Scree Plot\n",
    "#Eigenvalues\n",
    "#We use the Kaiser rule to retain PCs that have an eigenvalue of >1.\n",
    "plt.plot(eigenvalues)\n",
    "plt.xlabel('number of components')\n",
    "plt.ylabel('eigenvalues')\n",
    "plt.axhline(y=1, color=\"red\")\n",
    "plt.show()"
   ]
  },
  {
   "cell_type": "code",
   "execution_count": 41,
   "id": "20abccf5-2896-4103-aa84-aa6095892e93",
   "metadata": {},
   "outputs": [],
   "source": [
    "#With that, it is useless using more than 3 components as the eigenvalue is <1 past 3.0 components.\n",
    "#So we should retain 3 components according to the Kaiser rule and Scree Plot.\n",
    "#Regarding the coefficients in PC1, \"TotalCharge, \"Additional_charges,\" and \"Age\" have the strongest relationship.\n",
    "#By thinking logically with PC1, the higher the age, the higher the total and additional costs of medical care.\n",
    "#In conclusion, according to the Kaiser Rule, we will be focusing on PC1, PC2, PC3."
   ]
  }
 ],
 "metadata": {
  "kernelspec": {
   "display_name": "Python 3 (ipykernel)",
   "language": "python",
   "name": "python3"
  },
  "language_info": {
   "codemirror_mode": {
    "name": "ipython",
    "version": 3
   },
   "file_extension": ".py",
   "mimetype": "text/x-python",
   "name": "python",
   "nbconvert_exporter": "python",
   "pygments_lexer": "ipython3",
   "version": "3.9.12"
  }
 },
 "nbformat": 4,
 "nbformat_minor": 5
}
