{
 "cells": [
  {
   "cell_type": "code",
   "execution_count": 1,
   "id": "23fac158-6cdc-4ffe-b5bd-ae80a21b73f0",
   "metadata": {},
   "outputs": [],
   "source": [
    "import pandas as pd\n",
    "import numpy as np\n",
    "import matplotlib.pyplot as plt\n",
    "%matplotlib inline\n",
    "import seaborn as sns\n",
    "import warnings\n",
    "warnings.filterwarnings('ignore')"
   ]
  },
  {
   "cell_type": "code",
   "execution_count": 2,
   "id": "220fa1a3-8dad-4853-a8c7-68a179efa314",
   "metadata": {},
   "outputs": [],
   "source": [
    "import os\n",
    "from numpy import cumsum\n",
    "from statsmodels.tsa.seasonal import seasonal_decompose\n",
    "from scipy import signal\n",
    "from datetime import datetime\n",
    "from statsmodels.tsa.stattools import adfuller\n",
    "from statsmodels.graphics.tsaplots import plot_acf, plot_pacf\n",
    "from pandas.plotting import autocorrelation_plot\n",
    "import pmdarima as pm\n",
    "from statsmodels.tsa.arima_model import ARIMA\n",
    "from statsmodels.tsa.statespace.sarimax import SARIMAX\n",
    "import joblib"
   ]
  },
  {
   "cell_type": "code",
   "execution_count": 3,
   "id": "36d8ace7-8d8b-4f08-b01e-19eeb5e4e844",
   "metadata": {},
   "outputs": [],
   "source": [
    "df = pd.read_csv('/Users/CourtneyTaylor/Downloads/medical_time_series .csv')"
   ]
  },
  {
   "cell_type": "code",
   "execution_count": 4,
   "id": "94a1a8e4-9a96-49d3-ab3b-1f964b5c5e0d",
   "metadata": {},
   "outputs": [
    {
     "data": {
      "text/plain": [
       "Index(['Day', 'Revenue'], dtype='object')"
      ]
     },
     "execution_count": 4,
     "metadata": {},
     "output_type": "execute_result"
    }
   ],
   "source": [
    "df.columns"
   ]
  },
  {
   "cell_type": "code",
   "execution_count": 5,
   "id": "7cb22c72-cf2b-4b8e-aa77-46d39331eb99",
   "metadata": {},
   "outputs": [
    {
     "data": {
      "text/html": [
       "<div>\n",
       "<style scoped>\n",
       "    .dataframe tbody tr th:only-of-type {\n",
       "        vertical-align: middle;\n",
       "    }\n",
       "\n",
       "    .dataframe tbody tr th {\n",
       "        vertical-align: top;\n",
       "    }\n",
       "\n",
       "    .dataframe thead th {\n",
       "        text-align: right;\n",
       "    }\n",
       "</style>\n",
       "<table border=\"1\" class=\"dataframe\">\n",
       "  <thead>\n",
       "    <tr style=\"text-align: right;\">\n",
       "      <th></th>\n",
       "      <th>Day</th>\n",
       "      <th>Revenue</th>\n",
       "    </tr>\n",
       "  </thead>\n",
       "  <tbody>\n",
       "    <tr>\n",
       "      <th>0</th>\n",
       "      <td>1</td>\n",
       "      <td>0.000000</td>\n",
       "    </tr>\n",
       "    <tr>\n",
       "      <th>1</th>\n",
       "      <td>2</td>\n",
       "      <td>-0.292356</td>\n",
       "    </tr>\n",
       "    <tr>\n",
       "      <th>2</th>\n",
       "      <td>3</td>\n",
       "      <td>-0.327772</td>\n",
       "    </tr>\n",
       "    <tr>\n",
       "      <th>3</th>\n",
       "      <td>4</td>\n",
       "      <td>-0.339987</td>\n",
       "    </tr>\n",
       "    <tr>\n",
       "      <th>4</th>\n",
       "      <td>5</td>\n",
       "      <td>-0.124888</td>\n",
       "    </tr>\n",
       "  </tbody>\n",
       "</table>\n",
       "</div>"
      ],
      "text/plain": [
       "   Day   Revenue\n",
       "0    1  0.000000\n",
       "1    2 -0.292356\n",
       "2    3 -0.327772\n",
       "3    4 -0.339987\n",
       "4    5 -0.124888"
      ]
     },
     "execution_count": 5,
     "metadata": {},
     "output_type": "execute_result"
    }
   ],
   "source": [
    "df.head()"
   ]
  },
  {
   "cell_type": "code",
   "execution_count": 6,
   "id": "3f6f31d1-b4b5-4675-8bac-5d646e649b4f",
   "metadata": {},
   "outputs": [
    {
     "data": {
      "text/plain": [
       "Day        0\n",
       "Revenue    0\n",
       "dtype: int64"
      ]
     },
     "execution_count": 6,
     "metadata": {},
     "output_type": "execute_result"
    }
   ],
   "source": [
    "df.isnull().sum()"
   ]
  },
  {
   "cell_type": "code",
   "execution_count": 7,
   "id": "379c5664-8663-4c4d-aabb-f7a84d5074b2",
   "metadata": {},
   "outputs": [
    {
     "data": {
      "text/html": [
       "<div>\n",
       "<style scoped>\n",
       "    .dataframe tbody tr th:only-of-type {\n",
       "        vertical-align: middle;\n",
       "    }\n",
       "\n",
       "    .dataframe tbody tr th {\n",
       "        vertical-align: top;\n",
       "    }\n",
       "\n",
       "    .dataframe thead th {\n",
       "        text-align: right;\n",
       "    }\n",
       "</style>\n",
       "<table border=\"1\" class=\"dataframe\">\n",
       "  <thead>\n",
       "    <tr style=\"text-align: right;\">\n",
       "      <th></th>\n",
       "      <th>Day</th>\n",
       "      <th>Revenue</th>\n",
       "    </tr>\n",
       "    <tr>\n",
       "      <th>Date</th>\n",
       "      <th></th>\n",
       "      <th></th>\n",
       "    </tr>\n",
       "  </thead>\n",
       "  <tbody>\n",
       "    <tr>\n",
       "      <th>2019-01-01</th>\n",
       "      <td>1</td>\n",
       "      <td>0.000000</td>\n",
       "    </tr>\n",
       "    <tr>\n",
       "      <th>2019-01-02</th>\n",
       "      <td>2</td>\n",
       "      <td>-0.292356</td>\n",
       "    </tr>\n",
       "    <tr>\n",
       "      <th>2019-01-03</th>\n",
       "      <td>3</td>\n",
       "      <td>-0.327772</td>\n",
       "    </tr>\n",
       "    <tr>\n",
       "      <th>2019-01-04</th>\n",
       "      <td>4</td>\n",
       "      <td>-0.339987</td>\n",
       "    </tr>\n",
       "    <tr>\n",
       "      <th>2019-01-05</th>\n",
       "      <td>5</td>\n",
       "      <td>-0.124888</td>\n",
       "    </tr>\n",
       "    <tr>\n",
       "      <th>...</th>\n",
       "      <td>...</td>\n",
       "      <td>...</td>\n",
       "    </tr>\n",
       "    <tr>\n",
       "      <th>2020-12-27</th>\n",
       "      <td>727</td>\n",
       "      <td>15.722056</td>\n",
       "    </tr>\n",
       "    <tr>\n",
       "      <th>2020-12-28</th>\n",
       "      <td>728</td>\n",
       "      <td>15.865822</td>\n",
       "    </tr>\n",
       "    <tr>\n",
       "      <th>2020-12-29</th>\n",
       "      <td>729</td>\n",
       "      <td>15.708988</td>\n",
       "    </tr>\n",
       "    <tr>\n",
       "      <th>2020-12-30</th>\n",
       "      <td>730</td>\n",
       "      <td>15.822867</td>\n",
       "    </tr>\n",
       "    <tr>\n",
       "      <th>2020-12-31</th>\n",
       "      <td>731</td>\n",
       "      <td>16.069429</td>\n",
       "    </tr>\n",
       "  </tbody>\n",
       "</table>\n",
       "<p>731 rows × 2 columns</p>\n",
       "</div>"
      ],
      "text/plain": [
       "            Day    Revenue\n",
       "Date                      \n",
       "2019-01-01    1   0.000000\n",
       "2019-01-02    2  -0.292356\n",
       "2019-01-03    3  -0.327772\n",
       "2019-01-04    4  -0.339987\n",
       "2019-01-05    5  -0.124888\n",
       "...         ...        ...\n",
       "2020-12-27  727  15.722056\n",
       "2020-12-28  728  15.865822\n",
       "2020-12-29  729  15.708988\n",
       "2020-12-30  730  15.822867\n",
       "2020-12-31  731  16.069429\n",
       "\n",
       "[731 rows x 2 columns]"
      ]
     },
     "execution_count": 7,
     "metadata": {},
     "output_type": "execute_result"
    }
   ],
   "source": [
    "#Day & Date Time Formats\n",
    "#convert days to dates in time series\n",
    "df['Date'] = (pd.date_range(start=datetime(2019, 1, 1),\n",
    "                            periods=df.shape[0], freq='24H'))\n",
    "\n",
    "#setting day as index\n",
    "df.set_index('Date', inplace=True)\n",
    "df"
   ]
  },
  {
   "cell_type": "code",
   "execution_count": 8,
   "id": "0579c0e9-5e4d-4566-bf0e-3967a315293e",
   "metadata": {},
   "outputs": [
    {
     "data": {
      "image/png": "[encoded data removed]",
      "text/plain": [
       "<Figure size 720x360 with 1 Axes>"
      ]
     },
     "metadata": {
      "needs_background": "light"
     },
     "output_type": "display_data"
    }
   ],
   "source": [
    "#Visualizing\n",
    "plt.figure(figsize=(10,5))\n",
    "plt.plot(df.Revenue)\n",
    "plt.title('Revenue Chart')\n",
    "plt.xlabel('Day')\n",
    "plt.ylabel('Revenue in Million Dollars')\n",
    "plt.grid(True)\n",
    "plt.show()"
   ]
  },
  {
   "cell_type": "code",
   "execution_count": 9,
   "id": "973fba3b-12d1-4db8-af55-dc3200499fa9",
   "metadata": {},
   "outputs": [
    {
     "data": {
      "text/html": [
       "<div>\n",
       "<style scoped>\n",
       "    .dataframe tbody tr th:only-of-type {\n",
       "        vertical-align: middle;\n",
       "    }\n",
       "\n",
       "    .dataframe tbody tr th {\n",
       "        vertical-align: top;\n",
       "    }\n",
       "\n",
       "    .dataframe thead th {\n",
       "        text-align: right;\n",
       "    }\n",
       "</style>\n",
       "<table border=\"1\" class=\"dataframe\">\n",
       "  <thead>\n",
       "    <tr style=\"text-align: right;\">\n",
       "      <th></th>\n",
       "      <th>Day</th>\n",
       "      <th>Revenue</th>\n",
       "    </tr>\n",
       "  </thead>\n",
       "  <tbody>\n",
       "    <tr>\n",
       "      <th>count</th>\n",
       "      <td>731.000000</td>\n",
       "      <td>731.000000</td>\n",
       "    </tr>\n",
       "    <tr>\n",
       "      <th>mean</th>\n",
       "      <td>366.000000</td>\n",
       "      <td>14.179608</td>\n",
       "    </tr>\n",
       "    <tr>\n",
       "      <th>std</th>\n",
       "      <td>211.165812</td>\n",
       "      <td>6.959905</td>\n",
       "    </tr>\n",
       "    <tr>\n",
       "      <th>min</th>\n",
       "      <td>1.000000</td>\n",
       "      <td>-4.423299</td>\n",
       "    </tr>\n",
       "    <tr>\n",
       "      <th>25%</th>\n",
       "      <td>183.500000</td>\n",
       "      <td>11.121742</td>\n",
       "    </tr>\n",
       "    <tr>\n",
       "      <th>50%</th>\n",
       "      <td>366.000000</td>\n",
       "      <td>15.951830</td>\n",
       "    </tr>\n",
       "    <tr>\n",
       "      <th>75%</th>\n",
       "      <td>548.500000</td>\n",
       "      <td>19.293506</td>\n",
       "    </tr>\n",
       "    <tr>\n",
       "      <th>max</th>\n",
       "      <td>731.000000</td>\n",
       "      <td>24.792249</td>\n",
       "    </tr>\n",
       "  </tbody>\n",
       "</table>\n",
       "</div>"
      ],
      "text/plain": [
       "              Day     Revenue\n",
       "count  731.000000  731.000000\n",
       "mean   366.000000   14.179608\n",
       "std    211.165812    6.959905\n",
       "min      1.000000   -4.423299\n",
       "25%    183.500000   11.121742\n",
       "50%    366.000000   15.951830\n",
       "75%    548.500000   19.293506\n",
       "max    731.000000   24.792249"
      ]
     },
     "execution_count": 9,
     "metadata": {},
     "output_type": "execute_result"
    }
   ],
   "source": [
    "df.describe()"
   ]
  },
  {
   "cell_type": "code",
   "execution_count": 10,
   "id": "77681d06-4ad4-4189-9f63-0c2922ccefb9",
   "metadata": {},
   "outputs": [
    {
     "data": {
      "text/html": [
       "<div>\n",
       "<style scoped>\n",
       "    .dataframe tbody tr th:only-of-type {\n",
       "        vertical-align: middle;\n",
       "    }\n",
       "\n",
       "    .dataframe tbody tr th {\n",
       "        vertical-align: top;\n",
       "    }\n",
       "\n",
       "    .dataframe thead th {\n",
       "        text-align: right;\n",
       "    }\n",
       "</style>\n",
       "<table border=\"1\" class=\"dataframe\">\n",
       "  <thead>\n",
       "    <tr style=\"text-align: right;\">\n",
       "      <th></th>\n",
       "      <th>Day</th>\n",
       "      <th>Revenue</th>\n",
       "    </tr>\n",
       "    <tr>\n",
       "      <th>Date</th>\n",
       "      <th></th>\n",
       "      <th></th>\n",
       "    </tr>\n",
       "  </thead>\n",
       "  <tbody>\n",
       "    <tr>\n",
       "      <th>2019-01-01</th>\n",
       "      <td>1</td>\n",
       "      <td>0.000000</td>\n",
       "    </tr>\n",
       "    <tr>\n",
       "      <th>2019-01-02</th>\n",
       "      <td>2</td>\n",
       "      <td>-0.292356</td>\n",
       "    </tr>\n",
       "    <tr>\n",
       "      <th>2019-01-03</th>\n",
       "      <td>3</td>\n",
       "      <td>-0.327772</td>\n",
       "    </tr>\n",
       "    <tr>\n",
       "      <th>2019-01-04</th>\n",
       "      <td>4</td>\n",
       "      <td>-0.339987</td>\n",
       "    </tr>\n",
       "    <tr>\n",
       "      <th>2019-01-05</th>\n",
       "      <td>5</td>\n",
       "      <td>-0.124888</td>\n",
       "    </tr>\n",
       "    <tr>\n",
       "      <th>...</th>\n",
       "      <td>...</td>\n",
       "      <td>...</td>\n",
       "    </tr>\n",
       "    <tr>\n",
       "      <th>2020-12-27</th>\n",
       "      <td>727</td>\n",
       "      <td>15.722056</td>\n",
       "    </tr>\n",
       "    <tr>\n",
       "      <th>2020-12-28</th>\n",
       "      <td>728</td>\n",
       "      <td>15.865822</td>\n",
       "    </tr>\n",
       "    <tr>\n",
       "      <th>2020-12-29</th>\n",
       "      <td>729</td>\n",
       "      <td>15.708988</td>\n",
       "    </tr>\n",
       "    <tr>\n",
       "      <th>2020-12-30</th>\n",
       "      <td>730</td>\n",
       "      <td>15.822867</td>\n",
       "    </tr>\n",
       "    <tr>\n",
       "      <th>2020-12-31</th>\n",
       "      <td>731</td>\n",
       "      <td>16.069429</td>\n",
       "    </tr>\n",
       "  </tbody>\n",
       "</table>\n",
       "<p>731 rows × 2 columns</p>\n",
       "</div>"
      ],
      "text/plain": [
       "            Day    Revenue\n",
       "Date                      \n",
       "2019-01-01    1   0.000000\n",
       "2019-01-02    2  -0.292356\n",
       "2019-01-03    3  -0.327772\n",
       "2019-01-04    4  -0.339987\n",
       "2019-01-05    5  -0.124888\n",
       "...         ...        ...\n",
       "2020-12-27  727  15.722056\n",
       "2020-12-28  728  15.865822\n",
       "2020-12-29  729  15.708988\n",
       "2020-12-30  730  15.822867\n",
       "2020-12-31  731  16.069429\n",
       "\n",
       "[731 rows x 2 columns]"
      ]
     },
     "execution_count": 10,
     "metadata": {},
     "output_type": "execute_result"
    }
   ],
   "source": [
    "#drop any nulls\n",
    "df.dropna()"
   ]
  },
  {
   "cell_type": "code",
   "execution_count": 11,
   "id": "7119a118-d6b2-4257-954b-22fc767a2e2a",
   "metadata": {},
   "outputs": [
    {
     "name": "stdout",
     "output_type": "stream",
     "text": [
      "Test Statistics:  -2.218319047608946\n",
      "p-value:  0.19966400615064328\n",
      "Critical Values:  {'1%': -3.4393520240470554, '5%': -2.8655128165959236, '10%': -2.5688855736949163}\n"
     ]
    }
   ],
   "source": [
    "#Stationarity\n",
    "result = adfuller(df['Revenue'])\n",
    "\n",
    "print(\"Test Statistics: \", result[0])\n",
    "print(\"p-value: \", result[1])\n",
    "print(\"Critical Values: \", result[4])"
   ]
  },
  {
   "cell_type": "code",
   "execution_count": 12,
   "id": "78d2acbb-9398-4446-bc76-1cc7e16b9d5a",
   "metadata": {},
   "outputs": [
    {
     "name": "stdout",
     "output_type": "stream",
     "text": [
      "Fail to Reject Null Hypothesis; Non-Stationary\n"
     ]
    }
   ],
   "source": [
    "#H0 - Non-stationary\n",
    "#H1 - Stationary\n",
    "if result[1] <= 0.05:\n",
    "    print(\"Reject Null Hypothesis; Stationary\")\n",
    "else:\n",
    "    print(\"Fail to Reject Null Hypothesis; Non-Stationary\")"
   ]
  },
  {
   "cell_type": "code",
   "execution_count": 13,
   "id": "9d51b2ca-8c38-42d7-86aa-d2736dcf9e08",
   "metadata": {},
   "outputs": [
    {
     "data": {
      "text/html": [
       "<div>\n",
       "<style scoped>\n",
       "    .dataframe tbody tr th:only-of-type {\n",
       "        vertical-align: middle;\n",
       "    }\n",
       "\n",
       "    .dataframe tbody tr th {\n",
       "        vertical-align: top;\n",
       "    }\n",
       "\n",
       "    .dataframe thead th {\n",
       "        text-align: right;\n",
       "    }\n",
       "</style>\n",
       "<table border=\"1\" class=\"dataframe\">\n",
       "  <thead>\n",
       "    <tr style=\"text-align: right;\">\n",
       "      <th></th>\n",
       "      <th>Day</th>\n",
       "      <th>Revenue</th>\n",
       "    </tr>\n",
       "    <tr>\n",
       "      <th>Date</th>\n",
       "      <th></th>\n",
       "      <th></th>\n",
       "    </tr>\n",
       "  </thead>\n",
       "  <tbody>\n",
       "    <tr>\n",
       "      <th>2019-01-02</th>\n",
       "      <td>1.0</td>\n",
       "      <td>-0.292356</td>\n",
       "    </tr>\n",
       "    <tr>\n",
       "      <th>2019-01-03</th>\n",
       "      <td>1.0</td>\n",
       "      <td>-0.035416</td>\n",
       "    </tr>\n",
       "    <tr>\n",
       "      <th>2019-01-04</th>\n",
       "      <td>1.0</td>\n",
       "      <td>-0.012215</td>\n",
       "    </tr>\n",
       "    <tr>\n",
       "      <th>2019-01-05</th>\n",
       "      <td>1.0</td>\n",
       "      <td>0.215100</td>\n",
       "    </tr>\n",
       "    <tr>\n",
       "      <th>2019-01-06</th>\n",
       "      <td>1.0</td>\n",
       "      <td>-0.366702</td>\n",
       "    </tr>\n",
       "  </tbody>\n",
       "</table>\n",
       "</div>"
      ],
      "text/plain": [
       "            Day   Revenue\n",
       "Date                     \n",
       "2019-01-02  1.0 -0.292356\n",
       "2019-01-03  1.0 -0.035416\n",
       "2019-01-04  1.0 -0.012215\n",
       "2019-01-05  1.0  0.215100\n",
       "2019-01-06  1.0 -0.366702"
      ]
     },
     "execution_count": 13,
     "metadata": {},
     "output_type": "execute_result"
    }
   ],
   "source": [
    "#Make time series stationary\n",
    "df_stationary = df.diff().dropna()\n",
    "df_stationary.head()"
   ]
  },
  {
   "cell_type": "code",
   "execution_count": 14,
   "id": "b660d57f-2183-4810-a3ab-1d22f0ffe971",
   "metadata": {},
   "outputs": [],
   "source": [
    "df = df.drop(columns=['Day'])"
   ]
  },
  {
   "cell_type": "code",
   "execution_count": 15,
   "id": "ad66464b-7613-4bc3-ba72-37d64995be2a",
   "metadata": {},
   "outputs": [
    {
     "name": "stdout",
     "output_type": "stream",
     "text": [
      "Test Statistics:  -17.374772303557062\n",
      "p-value:  5.113206978840171e-30\n",
      "Critical Values:  {'1%': -3.4393520240470554, '5%': -2.8655128165959236, '10%': -2.5688855736949163}\n",
      "Reject Null Hypothesis; Stationary\n"
     ]
    }
   ],
   "source": [
    "#Rechecking Stationarity\n",
    "result = adfuller(df_stationary['Revenue'])\n",
    "\n",
    "print(\"Test Statistics: \", result[0])\n",
    "print(\"p-value: \", result[1])\n",
    "print(\"Critical Values: \", result[4])\n",
    "\n",
    "#H0 - Non-stationary\n",
    "#H1 - Stationary\n",
    "if result[1] <= 0.05:\n",
    "    print(\"Reject Null Hypothesis; Stationary\")\n",
    "else:\n",
    "    print(\"Fail to Reject Null Hypothesis; Non-Stationary\")"
   ]
  },
  {
   "cell_type": "code",
   "execution_count": 16,
   "id": "6ba9759f-9d38-4e73-a8f2-cca5671066c1",
   "metadata": {},
   "outputs": [],
   "source": [
    "#Export clean data\n",
    "pd.DataFrame(df_stationary).to_csv('D213Task1.csv')"
   ]
  },
  {
   "cell_type": "code",
   "execution_count": 17,
   "id": "a7332f80-1579-4c13-8fb2-71fd2f24e9d0",
   "metadata": {},
   "outputs": [
    {
     "name": "stdout",
     "output_type": "stream",
     "text": [
      "X_train Shape (639, 1)\n",
      "X_test Shape (92, 1)\n"
     ]
    }
   ],
   "source": [
    "#Test/Train\n",
    "X_train = df.loc[:'2020-09-30']\n",
    "X_test = df.loc['2020-10-01':]\n",
    "\n",
    "print('X_train Shape', X_train.shape)\n",
    "print('X_test Shape', X_test.shape)"
   ]
  },
  {
   "cell_type": "code",
   "execution_count": 18,
   "id": "fe5ac1b5-2c35-4616-8bc4-d8c1de159627",
   "metadata": {},
   "outputs": [
    {
     "data": {
      "text/plain": [
       "[<matplotlib.lines.Line2D at 0x7fb2f9625eb0>]"
      ]
     },
     "execution_count": 18,
     "metadata": {},
     "output_type": "execute_result"
    },
    {
     "data": {
      "image/png": "[encoded data removed]",
      "text/plain": [
       "<Figure size 432x288 with 1 Axes>"
      ]
     },
     "metadata": {
      "needs_background": "light"
     },
     "output_type": "display_data"
    }
   ],
   "source": [
    "plt.plot(X_train)\n",
    "plt.plot(X_test)"
   ]
  },
  {
   "cell_type": "code",
   "execution_count": 19,
   "id": "db342fd1-4f3b-495c-afa3-f97a9deba2c5",
   "metadata": {},
   "outputs": [],
   "source": [
    "#Export train and test sets\n",
    "X_train.to_csv('d213t1_train.csv')\n",
    "X_test.to_csv('d213t1_test.csv')"
   ]
  },
  {
   "cell_type": "code",
   "execution_count": 20,
   "id": "7007e740-d6e2-4a7d-85ce-1fd5fd8e06c9",
   "metadata": {},
   "outputs": [
    {
     "data": {
      "image/png": "[encoded data removed]",
      "text/plain": [
       "<Figure size 432x288 with 1 Axes>"
      ]
     },
     "metadata": {
      "needs_background": "light"
     },
     "output_type": "display_data"
    }
   ],
   "source": [
    "#spectral density\n",
    "f, Pxx_den = signal.periodogram(df_stationary['Revenue'])\n",
    "plt.semilogy(f,Pxx_den)\n",
    "plt.ylim([1e-6,1e2])\n",
    "plt.title('Spectral Density')\n",
    "plt.xlabel('Frequency')\n",
    "plt.ylabel('Spectral Density')\n",
    "plt.show()"
   ]
  },
  {
   "cell_type": "code",
   "execution_count": 21,
   "id": "e70d3a9b-2fe6-41c6-a22c-acb606013698",
   "metadata": {},
   "outputs": [
    {
     "data": {
      "image/png": "[encoded data removed]",
      "text/plain": [
       "<Figure size 432x288 with 4 Axes>"
      ]
     },
     "metadata": {
      "needs_background": "light"
     },
     "output_type": "display_data"
    }
   ],
   "source": [
    "#Decomposition\n",
    "decomp = seasonal_decompose(df_stationary['Revenue'], period=90)\n",
    "\n",
    "decomp.plot()\n",
    "plt.show()"
   ]
  },
  {
   "cell_type": "code",
   "execution_count": 22,
   "id": "87e36de4-92ea-4878-a463-ee4ef00dce9c",
   "metadata": {},
   "outputs": [
    {
     "data": {
      "text/plain": [
       "<AxesSubplot:title={'center':'Seasonality'}, xlabel='Date'>"
      ]
     },
     "execution_count": 22,
     "metadata": {},
     "output_type": "execute_result"
    },
    {
     "data": {
      "image/png": "[encoded data removed]",
      "text/plain": [
       "<Figure size 432x288 with 1 Axes>"
      ]
     },
     "metadata": {
      "needs_background": "light"
     },
     "output_type": "display_data"
    }
   ],
   "source": [
    "plt.title('Seasonality')\n",
    "decomp.seasonal.plot()"
   ]
  },
  {
   "cell_type": "code",
   "execution_count": null,
   "id": "9688d7eb-9b32-49f3-9cf8-dcc647bb1f04",
   "metadata": {},
   "outputs": [],
   "source": [
    "#Trends\n",
    "plt.title('Trend')\n",
    "decomp.trend.plot()"
   ]
  },
  {
   "cell_type": "code",
   "execution_count": null,
   "id": "d80e4583-b89e-4e0e-92d5-475c83d7e9d1",
   "metadata": {},
   "outputs": [],
   "source": [
    "#residuals\n",
    "plt.title('Residuals')\n",
    "decomp.resid.plot()"
   ]
  },
  {
   "cell_type": "code",
   "execution_count": null,
   "id": "fe3bac82-a33c-43a3-b38e-2e7f8ccbe071",
   "metadata": {},
   "outputs": [],
   "source": [
    "plot_acf(df);"
   ]
  },
  {
   "cell_type": "code",
   "execution_count": null,
   "id": "8edd83bb-9ace-4de0-8431-6f304c438490",
   "metadata": {},
   "outputs": [],
   "source": [
    "plot_pacf(df);"
   ]
  },
  {
   "cell_type": "code",
   "execution_count": null,
   "id": "09013277-5e82-4b56-9cb5-77473c98689f",
   "metadata": {
    "tags": []
   },
   "outputs": [],
   "source": [
    "#Best order by AIC\n",
    "best_aic = np.inf\n",
    "best_order = None\n",
    "best_mdl = None\n",
    "rng = range(3)\n",
    "for p in rng: #Loop over p values\n",
    "    for q in rng: #Loop over q values\n",
    "        try: \n",
    "            \n",
    "            #Create & fit ARIMA(p,q) model\n",
    "            model = SARIMAX(df, order=(p,1,q), trend='c')\n",
    "            results = model.fit()\n",
    "            tmp_aic = results.aic\n",
    "            print(p,q,results.aic, results.bic)\n",
    "            if tmp_aic < best_aic:\n",
    "                best_aic = tmp_aic\n",
    "                best_order = (p,q)\n",
    "                best_mdl = tmp_mdl\n",
    "        except:\n",
    "                    print(p,q, None, None)\n",
    "\n",
    "print('\\Best AIC: {:6.5f} | order: {}'.format(best_aic, best_order))\n",
    "\n",
    "import warnings\n",
    "warnings.simplefilter(action='ignore')"
   ]
  },
  {
   "cell_type": "code",
   "execution_count": null,
   "id": "e1137214-8f62-46eb-9a16-2e5114a09807",
   "metadata": {},
   "outputs": [],
   "source": [
    "import pmdarima as pmd\n",
    "model = pmd.auto_arima(df, start_p=0, start_q=0)\n",
    "model.summary()"
   ]
  },
  {
   "cell_type": "code",
   "execution_count": null,
   "id": "2dd5942e-1c5f-4763-a553-d249aef1eef6",
   "metadata": {},
   "outputs": [],
   "source": [
    "model=SARIMAX(df, order=(1,1,0),seasonal_order=(1,1,0,90))\n",
    "results = model.fit()\n",
    "results.summary"
   ]
  },
  {
   "cell_type": "code",
   "execution_count": null,
   "id": "f4bea0ef-784f-42ee-9025-73502f9b7016",
   "metadata": {},
   "outputs": [],
   "source": [
    "mae = np.mean(np.abs(results.resid))\n",
    "print(\"Mean absolute error\", mae)"
   ]
  },
  {
   "cell_type": "code",
   "execution_count": null,
   "id": "55f8d48f-9a76-45f5-a9a3-6251c573bec2",
   "metadata": {},
   "outputs": [],
   "source": [
    "results.plot_diagnostics().show()"
   ]
  },
  {
   "cell_type": "code",
   "execution_count": null,
   "id": "2be92ad9-341b-4be0-b840-97b2e5d39156",
   "metadata": {},
   "outputs": [],
   "source": [
    "#Create the predictions\n",
    "prediction = results.get_prediction(start=-90)\n",
    "\n",
    "#Get predictions\n",
    "mean_prediction = prediction.predicted_mean\n",
    "\n",
    "#Confidence intervals\n",
    "confidence_intervals = prediction.conf_int()\n",
    "\n",
    "#Confidence intervals upper and lower limits\n",
    "lower_limits = confidence_intervals.loc[:,'lower Revenue']\n",
    "upper_limits = confidence_intervals.loc[:, 'upper Revenue']\n"
   ]
  },
  {
   "cell_type": "code",
   "execution_count": null,
   "id": "2ea97d7b-1820-496f-8baa-f0f88f02b3c0",
   "metadata": {},
   "outputs": [],
   "source": [
    "#plotting the data\n",
    "plt.figure(figsize=(12,4))\n",
    "plt.plot(X_test.index, X_test.values, label='observed (test set)')\n",
    "\n",
    "#plotting mean predictions\n",
    "plt.plot(mean_prediction.index, mean_prediction, color='r', label='forecast')\n",
    "\n",
    "#filling in area between confidence levels\n",
    "plt.fill_between(lower_limits.index, lower_limits, upper_limits, color='pink')\n",
    "\n",
    "#labels & legends/plot\n",
    "plt.title('Forecast comparing with test data')\n",
    "plt.xlabel('Date')\n",
    "plt.ylabel('Revenue in millions$')\n",
    "plt.legend()\n",
    "plt.show()"
   ]
  },
  {
   "cell_type": "code",
   "execution_count": null,
   "id": "40963fc0-56b3-46d3-85ef-0bcf61bb4525",
   "metadata": {},
   "outputs": [],
   "source": [
    "#forecast\n",
    "diff_forecast = results.get_forecast(steps=180)\n",
    "mean_forecast = diff_forecast.predicted_mean\n",
    "print(mean_forecast.head(5))\n",
    "#confidence level\n",
    "confidence_intervals = diff_forecast.conf_int()\n",
    "#select lower and upper CIs\n",
    "lower_limits = confidence_intervals.loc[:, 'lower Revenue']\n",
    "upper_limits = confidence_intervals.loc[:, 'upper Revenue']"
   ]
  },
  {
   "cell_type": "code",
   "execution_count": null,
   "id": "0051f5f8-1e84-4433-be86-f45cd3a01a85",
   "metadata": {},
   "outputs": [],
   "source": [
    "plt.plot(df.index, df.values, label='Observed')\n",
    "\n",
    "plt.plot(mean_forecast.index, mean_forecast, color='r', label='Forecast')\n",
    "\n",
    "plt.fill_between(lower_limits.index, lower_limits, upper_limits, color='pink')\n",
    "\n",
    "plt.title('Revenue with forcasted projections for 2021')\n",
    "plt.xlabel('Date')\n",
    "plt.ylabel('Revenue in millions$')\n",
    "plt.xticks(rotation=45)\n",
    "plt.legend()\n",
    "plt.show()"
   ]
  },
  {
   "cell_type": "code",
   "execution_count": null,
   "id": "b76065cb-40d6-47a6-9529-69b7328c5a32",
   "metadata": {},
   "outputs": [],
   "source": [
    "plt.title('Revenue projections for 2021')\n",
    "plt.xlabel('Date')\n",
    "plt.ylabel('Revenue in millions$')\n",
    "mean_forecast.plot()"
   ]
  },
  {
   "cell_type": "code",
   "execution_count": null,
   "id": "d4113ee5-f837-40a5-95e1-c8465ac109c9",
   "metadata": {},
   "outputs": [],
   "source": []
  }
 ],
 "metadata": {
  "kernelspec": {
   "display_name": "Python 3 (ipykernel)",
   "language": "python",
   "name": "python3"
  },
  "language_info": {
   "codemirror_mode": {
    "name": "ipython",
    "version": 3
   },
   "file_extension": ".py",
   "mimetype": "text/x-python",
   "name": "python",
   "nbconvert_exporter": "python",
   "pygments_lexer": "ipython3",
   "version": "3.9.12"
  }
 },
 "nbformat": 4,
 "nbformat_minor": 5
}
