{
 "cells": [
  {
   "cell_type": "code",
   "execution_count": 1,
   "id": "96aa41a4-898f-4649-a1a6-26ed3eeac1bd",
   "metadata": {},
   "outputs": [],
   "source": [
    "import sys\n",
    "import os\n",
    "import pandas as pd\n",
    "import numpy as np\n",
    "import gzip\n",
    "import seaborn as sns\n",
    "import nltk\n",
    "from nltk.corpus import stopwords\n",
    "from nltk import word_tokenize\n",
    "from nltk.corpus import stopwords\n",
    "from nltk.stem import PorterStemmer\n",
    "import sklearn\n",
    "from sklearn import preprocessing\n",
    "from sklearn.preprocessing import OneHotEncoder\n",
    "from sklearn import model_selection\n",
    "from sklearn.model_selection import train_test_split\n",
    "import re\n",
    "import tensorflow as tf\n",
    "import keras\n",
    "from tensorflow import keras\n",
    "from keras import preprocessing\n",
    "from tensorflow.keras.preprocessing.text import Tokenizer\n",
    "from tensorflow.keras.callbacks import EarlyStopping\n",
    "from tensorflow.keras.models import load_model\n",
    "from tensorflow.keras.layers import Dense, Embedding\n",
    "from tensorflow.keras.models import Sequential\n",
    "from tensorflow.keras.preprocessing.sequence import pad_sequences\n",
    "import warnings\n",
    "warnings.filterwarnings(\"ignore\")\n",
    "from tensorflow.keras import Sequential\n",
    "from tensorflow.keras.layers import LSTM, Dropout, Dense, Embedding\n",
    "from tensorflow.keras.callbacks import EarlyStopping"
   ]
  },
  {
   "cell_type": "code",
   "execution_count": 2,
   "id": "af892f5a-04d0-41fa-a915-6f18bb2987d6",
   "metadata": {},
   "outputs": [],
   "source": [
    "df = pd.read_csv('/Users/CourtneyTaylor/Downloads/imdb_labelled.txt', delimiter='\\t', header=None)"
   ]
  },
  {
   "cell_type": "code",
   "execution_count": 3,
   "id": "c8ecc25e-633b-4975-a958-0226e64b6b93",
   "metadata": {},
   "outputs": [
    {
     "data": {
      "text/plain": [
       "Int64Index([0, 1], dtype='int64')"
      ]
     },
     "execution_count": 3,
     "metadata": {},
     "output_type": "execute_result"
    }
   ],
   "source": [
    "df.columns"
   ]
  },
  {
   "cell_type": "code",
   "execution_count": 4,
   "id": "4c8885fc-4f12-43b9-8870-732fc9862a14",
   "metadata": {},
   "outputs": [],
   "source": [
    "df.columns = [\"review\", \"sentiment\"]"
   ]
  },
  {
   "cell_type": "code",
   "execution_count": 5,
   "id": "a092e459-a67e-46ba-a5bd-13f0673046f4",
   "metadata": {},
   "outputs": [
    {
     "data": {
      "text/plain": [
       "Index(['review', 'sentiment'], dtype='object')"
      ]
     },
     "execution_count": 5,
     "metadata": {},
     "output_type": "execute_result"
    }
   ],
   "source": [
    "df.columns"
   ]
  },
  {
   "cell_type": "code",
   "execution_count": 6,
   "id": "ac509606-2876-41cd-b9a4-3360c691f7cb",
   "metadata": {},
   "outputs": [
    {
     "data": {
      "text/plain": [
       "(748, 2)"
      ]
     },
     "execution_count": 6,
     "metadata": {},
     "output_type": "execute_result"
    }
   ],
   "source": [
    "df.shape"
   ]
  },
  {
   "cell_type": "code",
   "execution_count": 7,
   "id": "303d5cdf-c77a-4d40-b289-c7dd1084d45d",
   "metadata": {},
   "outputs": [
    {
     "data": {
      "text/html": [
       "<div>\n",
       "<style scoped>\n",
       "    .dataframe tbody tr th:only-of-type {\n",
       "        vertical-align: middle;\n",
       "    }\n",
       "\n",
       "    .dataframe tbody tr th {\n",
       "        vertical-align: top;\n",
       "    }\n",
       "\n",
       "    .dataframe thead th {\n",
       "        text-align: right;\n",
       "    }\n",
       "</style>\n",
       "<table border=\"1\" class=\"dataframe\">\n",
       "  <thead>\n",
       "    <tr style=\"text-align: right;\">\n",
       "      <th></th>\n",
       "      <th>sentiment</th>\n",
       "    </tr>\n",
       "  </thead>\n",
       "  <tbody>\n",
       "    <tr>\n",
       "      <th>count</th>\n",
       "      <td>748.000000</td>\n",
       "    </tr>\n",
       "    <tr>\n",
       "      <th>mean</th>\n",
       "      <td>0.516043</td>\n",
       "    </tr>\n",
       "    <tr>\n",
       "      <th>std</th>\n",
       "      <td>0.500077</td>\n",
       "    </tr>\n",
       "    <tr>\n",
       "      <th>min</th>\n",
       "      <td>0.000000</td>\n",
       "    </tr>\n",
       "    <tr>\n",
       "      <th>25%</th>\n",
       "      <td>0.000000</td>\n",
       "    </tr>\n",
       "    <tr>\n",
       "      <th>50%</th>\n",
       "      <td>1.000000</td>\n",
       "    </tr>\n",
       "    <tr>\n",
       "      <th>75%</th>\n",
       "      <td>1.000000</td>\n",
       "    </tr>\n",
       "    <tr>\n",
       "      <th>max</th>\n",
       "      <td>1.000000</td>\n",
       "    </tr>\n",
       "  </tbody>\n",
       "</table>\n",
       "</div>"
      ],
      "text/plain": [
       "        sentiment\n",
       "count  748.000000\n",
       "mean     0.516043\n",
       "std      0.500077\n",
       "min      0.000000\n",
       "25%      0.000000\n",
       "50%      1.000000\n",
       "75%      1.000000\n",
       "max      1.000000"
      ]
     },
     "execution_count": 7,
     "metadata": {},
     "output_type": "execute_result"
    }
   ],
   "source": [
    "df.describe()"
   ]
  },
  {
   "cell_type": "code",
   "execution_count": 8,
   "id": "717a7ac7-5cd6-4471-b7b2-88bca70772f6",
   "metadata": {},
   "outputs": [
    {
     "data": {
      "text/plain": [
       "1    386\n",
       "0    362\n",
       "Name: sentiment, dtype: int64"
      ]
     },
     "execution_count": 8,
     "metadata": {},
     "output_type": "execute_result"
    }
   ],
   "source": [
    "df['sentiment'].value_counts()"
   ]
  },
  {
   "cell_type": "code",
   "execution_count": 9,
   "id": "df823637-bf9d-4e2a-a17e-420c4cc13af3",
   "metadata": {},
   "outputs": [],
   "source": [
    "#split df into positive and negative sentiment:\n",
    "positive = df[df['sentiment'] == 1]\n",
    "negative = df[df['sentiment'] == 0]"
   ]
  },
  {
   "cell_type": "code",
   "execution_count": 10,
   "id": "68a9f442-9e74-4dd1-b4e0-02e6c06b69f9",
   "metadata": {},
   "outputs": [
    {
     "name": "stdout",
     "output_type": "stream",
     "text": [
      "(748, 2)\n"
     ]
    },
    {
     "data": {
      "text/html": [
       "<div>\n",
       "<style scoped>\n",
       "    .dataframe tbody tr th:only-of-type {\n",
       "        vertical-align: middle;\n",
       "    }\n",
       "\n",
       "    .dataframe tbody tr th {\n",
       "        vertical-align: top;\n",
       "    }\n",
       "\n",
       "    .dataframe thead th {\n",
       "        text-align: right;\n",
       "    }\n",
       "</style>\n",
       "<table border=\"1\" class=\"dataframe\">\n",
       "  <thead>\n",
       "    <tr style=\"text-align: right;\">\n",
       "      <th></th>\n",
       "      <th>review</th>\n",
       "      <th>sentiment</th>\n",
       "    </tr>\n",
       "  </thead>\n",
       "  <tbody>\n",
       "    <tr>\n",
       "      <th>0</th>\n",
       "      <td>A very, very, very slow-moving, aimless movie ...</td>\n",
       "      <td>0</td>\n",
       "    </tr>\n",
       "    <tr>\n",
       "      <th>1</th>\n",
       "      <td>Not sure who was more lost - the flat characte...</td>\n",
       "      <td>0</td>\n",
       "    </tr>\n",
       "    <tr>\n",
       "      <th>2</th>\n",
       "      <td>Attempting artiness with black &amp; white and cle...</td>\n",
       "      <td>0</td>\n",
       "    </tr>\n",
       "    <tr>\n",
       "      <th>3</th>\n",
       "      <td>Very little music or anything to speak of.</td>\n",
       "      <td>0</td>\n",
       "    </tr>\n",
       "    <tr>\n",
       "      <th>4</th>\n",
       "      <td>The best scene in the movie was when Gerardo i...</td>\n",
       "      <td>1</td>\n",
       "    </tr>\n",
       "  </tbody>\n",
       "</table>\n",
       "</div>"
      ],
      "text/plain": [
       "                                              review  sentiment\n",
       "0  A very, very, very slow-moving, aimless movie ...          0\n",
       "1  Not sure who was more lost - the flat characte...          0\n",
       "2  Attempting artiness with black & white and cle...          0\n",
       "3       Very little music or anything to speak of.            0\n",
       "4  The best scene in the movie was when Gerardo i...          1"
      ]
     },
     "execution_count": 10,
     "metadata": {},
     "output_type": "execute_result"
    }
   ],
   "source": [
    "df = df[['review','sentiment']]\n",
    "print(df.shape)\n",
    "df.head(5)"
   ]
  },
  {
   "cell_type": "code",
   "execution_count": 11,
   "id": "f7e0518f-1521-4934-9dfd-6a6638e95c52",
   "metadata": {},
   "outputs": [
    {
     "data": {
      "text/html": [
       "        <script type=\"text/javascript\">\n",
       "        window.PlotlyConfig = {MathJaxConfig: 'local'};\n",
       "        if (window.MathJax) {MathJax.Hub.Config({SVG: {font: \"STIX-Web\"}});}\n",
       "        if (typeof require !== 'undefined') {\n",
       "        require.undef(\"plotly\");\n",
       "        requirejs.config({\n",
       "            paths: {\n",
       "                'plotly': ['https://cdn.plot.ly/plotly-2.9.0.min']\n",
       "            }\n",
       "        });\n",
       "        require(['plotly'], function(Plotly) {\n",
       "            window._Plotly = Plotly;\n",
       "        });\n",
       "        }\n",
       "        </script>\n",
       "        "
      ]
     },
     "metadata": {},
     "output_type": "display_data"
    },
    {
     "data": {
      "application/vnd.plotly.v1+json": {
       "config": {
        "plotlyServerURL": "https://plot.ly"
       },
       "data": [
        {
         "alignmentgroup": "True",
         "bingroup": "x",
         "hovertemplate": "sentimentt=%{x}<br>count=%{y}<extra></extra>",
         "legendgroup": "",
         "marker": {
          "color": "indianred",
          "line": {
           "color": "rgb(8,48,107)",
           "width": 1.5
          },
          "pattern": {
           "shape": ""
          }
         },
         "name": "",
         "offsetgroup": "",
         "orientation": "v",
         "showlegend": false,
         "type": "histogram",
         "x": [
          "negative",
          "negative",
          "negative",
          "negative",
          "positive",
          "negative",
          "negative",
          "positive",
          "negative",
          "positive",
          "positive",
          "positive",
          "positive",
          "positive",
          "positive",
          "negative",
          "positive",
          "positive",
          "positive",
          "negative",
          "positive",
          "positive",
          "positive",
          "positive",
          "positive",
          "positive",
          "positive",
          "positive",
          "positive",
          "positive",
          "negative",
          "negative",
          "negative",
          "negative",
          "positive",
          "positive",
          "positive",
          "positive",
          "positive",
          "positive",
          "negative",
          "negative",
          "negative",
          "negative",
          "negative",
          "positive",
          "negative",
          "negative",
          "positive",
          "positive",
          "negative",
          "negative",
          "negative",
          "negative",
          "negative",
          "negative",
          "negative",
          "positive",
          "positive",
          "positive",
          "positive",
          "positive",
          "positive",
          "positive",
          "positive",
          "positive",
          "negative",
          "positive",
          "negative",
          "negative",
          "negative",
          "negative",
          "negative",
          "negative",
          "negative",
          "negative",
          "negative",
          "negative",
          "negative",
          "negative",
          "negative",
          "negative",
          "negative",
          "positive",
          "negative",
          "negative",
          "negative",
          "negative",
          "negative",
          "negative",
          "positive",
          "negative",
          "negative",
          "negative",
          "negative",
          "negative",
          "negative",
          "negative",
          "negative",
          "negative",
          "negative",
          "negative",
          "negative",
          "negative",
          "negative",
          "negative",
          "negative",
          "positive",
          "negative",
          "negative",
          "negative",
          "negative",
          "negative",
          "negative",
          "negative",
          "negative",
          "negative",
          "negative",
          "negative",
          "negative",
          "negative",
          "negative",
          "negative",
          "negative",
          "negative",
          "negative",
          "negative",
          "negative",
          "positive",
          "positive",
          "positive",
          "negative",
          "negative",
          "negative",
          "negative",
          "positive",
          "negative",
          "negative",
          "negative",
          "positive",
          "positive",
          "positive",
          "positive",
          "positive",
          "positive",
          "positive",
          "positive",
          "positive",
          "positive",
          "negative",
          "negative",
          "negative",
          "negative",
          "negative",
          "negative",
          "positive",
          "positive",
          "positive",
          "positive",
          "positive",
          "positive",
          "positive",
          "positive",
          "positive",
          "positive",
          "positive",
          "positive",
          "positive",
          "positive",
          "negative",
          "negative",
          "negative",
          "negative",
          "negative",
          "negative",
          "negative",
          "negative",
          "positive",
          "positive",
          "positive",
          "negative",
          "negative",
          "negative",
          "negative",
          "positive",
          "positive",
          "positive",
          "positive",
          "positive",
          "positive",
          "positive",
          "positive",
          "positive",
          "positive",
          "positive",
          "positive",
          "positive",
          "negative",
          "negative",
          "negative",
          "positive",
          "positive",
          "positive",
          "positive",
          "positive",
          "positive",
          "positive",
          "positive",
          "positive",
          "negative",
          "positive",
          "positive",
          "positive",
          "positive",
          "positive",
          "positive",
          "positive",
          "positive",
          "negative",
          "negative",
          "negative",
          "negative",
          "negative",
          "positive",
          "positive",
          "negative",
          "negative",
          "negative",
          "negative",
          "negative",
          "negative",
          "negative",
          "negative",
          "negative",
          "negative",
          "negative",
          "negative",
          "positive",
          "positive",
          "negative",
          "positive",
          "negative",
          "positive",
          "negative",
          "negative",
          "positive",
          "negative",
          "negative",
          "positive",
          "positive",
          "positive",
          "positive",
          "negative",
          "negative",
          "negative",
          "negative",
          "negative",
          "negative",
          "negative",
          "negative",
          "negative",
          "negative",
          "negative",
          "negative",
          "negative",
          "negative",
          "negative",
          "negative",
          "negative",
          "positive",
          "positive",
          "negative",
          "negative",
          "negative",
          "negative",
          "negative",
          "negative",
          "negative",
          "negative",
          "negative",
          "negative",
          "negative",
          "negative",
          "negative",
          "positive",
          "positive",
          "positive",
          "positive",
          "positive",
          "positive",
          "negative",
          "negative",
          "positive",
          "positive",
          "positive",
          "positive",
          "positive",
          "positive",
          "positive",
          "positive",
          "positive",
          "positive",
          "positive",
          "positive",
          "positive",
          "positive",
          "positive",
          "negative",
          "negative",
          "negative",
          "negative",
          "negative",
          "negative",
          "positive",
          "positive",
          "negative",
          "negative",
          "negative",
          "negative",
          "negative",
          "negative",
          "negative",
          "negative",
          "negative",
          "negative",
          "negative",
          "negative",
          "negative",
          "negative",
          "negative",
          "negative",
          "negative",
          "negative",
          "positive",
          "positive",
          "positive",
          "negative",
          "negative",
          "negative",
          "negative",
          "negative",
          "negative",
          "positive",
          "positive",
          "positive",
          "positive",
          "positive",
          "positive",
          "negative",
          "negative",
          "positive",
          "positive",
          "negative",
          "negative",
          "negative",
          "negative",
          "negative",
          "negative",
          "negative",
          "negative",
          "negative",
          "negative",
          "negative",
          "negative",
          "negative",
          "negative",
          "negative",
          "negative",
          "negative",
          "negative",
          "negative",
          "positive",
          "positive",
          "negative",
          "negative",
          "negative",
          "negative",
          "negative",
          "negative",
          "positive",
          "negative",
          "negative",
          "negative",
          "negative",
          "negative",
          "negative",
          "negative",
          "negative",
          "negative",
          "negative",
          "negative",
          "negative",
          "negative",
          "negative",
          "positive",
          "positive",
          "positive",
          "positive",
          "positive",
          "positive",
          "negative",
          "negative",
          "positive",
          "negative",
          "negative",
          "negative",
          "negative",
          "negative",
          "negative",
          "negative",
          "negative",
          "negative",
          "negative",
          "positive",
          "positive",
          "positive",
          "negative",
          "positive",
          "negative",
          "positive",
          "positive",
          "positive",
          "positive",
          "positive",
          "positive",
          "positive",
          "negative",
          "negative",
          "negative",
          "positive",
          "positive",
          "positive",
          "positive",
          "positive",
          "positive",
          "negative",
          "negative",
          "positive",
          "positive",
          "positive",
          "positive",
          "positive",
          "positive",
          "positive",
          "positive",
          "positive",
          "positive",
          "negative",
          "negative",
          "negative",
          "positive",
          "positive",
          "positive",
          "positive",
          "positive",
          "positive",
          "positive",
          "positive",
          "positive",
          "positive",
          "positive",
          "positive",
          "positive",
          "positive",
          "positive",
          "positive",
          "negative",
          "negative",
          "positive",
          "negative",
          "negative",
          "negative",
          "positive",
          "positive",
          "positive",
          "positive",
          "positive",
          "positive",
          "positive",
          "positive",
          "positive",
          "positive",
          "positive",
          "positive",
          "positive",
          "positive",
          "positive",
          "negative",
          "positive",
          "positive",
          "negative",
          "negative",
          "positive",
          "positive",
          "positive",
          "positive",
          "positive",
          "positive",
          "negative",
          "negative",
          "negative",
          "negative",
          "negative",
          "negative",
          "negative",
          "negative",
          "negative",
          "negative",
          "negative",
          "negative",
          "negative",
          "negative",
          "negative",
          "negative",
          "positive",
          "positive",
          "positive",
          "negative",
          "negative",
          "negative",
          "negative",
          "negative",
          "negative",
          "negative",
          "negative",
          "negative",
          "negative",
          "negative",
          "negative",
          "positive",
          "positive",
          "positive",
          "positive",
          "positive",
          "positive",
          "positive",
          "positive",
          "negative",
          "negative",
          "negative",
          "negative",
          "negative",
          "positive",
          "positive",
          "positive",
          "positive",
          "positive",
          "positive",
          "positive",
          "positive",
          "positive",
          "positive",
          "negative",
          "positive",
          "positive",
          "positive",
          "positive",
          "positive",
          "positive",
          "positive",
          "positive",
          "negative",
          "positive",
          "positive",
          "positive",
          "positive",
          "positive",
          "positive",
          "negative",
          "negative",
          "positive",
          "positive",
          "positive",
          "positive",
          "positive",
          "positive",
          "positive",
          "positive",
          "negative",
          "negative",
          "negative",
          "negative",
          "negative",
          "negative",
          "positive",
          "positive",
          "positive",
          "positive",
          "positive",
          "positive",
          "positive",
          "positive",
          "positive",
          "positive",
          "positive",
          "positive",
          "positive",
          "positive",
          "positive",
          "positive",
          "positive",
          "negative",
          "negative",
          "negative",
          "negative",
          "negative",
          "negative",
          "negative",
          "negative",
          "positive",
          "positive",
          "positive",
          "positive",
          "positive",
          "positive",
          "positive",
          "positive",
          "positive",
          "positive",
          "positive",
          "positive",
          "positive",
          "positive",
          "positive",
          "positive",
          "positive",
          "positive",
          "positive",
          "positive",
          "positive",
          "positive",
          "positive",
          "positive",
          "positive",
          "positive",
          "positive",
          "negative",
          "negative",
          "negative",
          "negative",
          "negative",
          "negative",
          "negative",
          "negative",
          "positive",
          "positive",
          "positive",
          "positive",
          "negative",
          "negative",
          "negative",
          "positive",
          "negative",
          "negative",
          "negative",
          "negative",
          "negative",
          "negative",
          "negative",
          "negative",
          "negative",
          "negative",
          "positive",
          "positive",
          "positive",
          "positive",
          "negative",
          "negative",
          "negative",
          "positive",
          "negative",
          "negative",
          "negative",
          "negative",
          "positive",
          "positive",
          "positive",
          "positive",
          "positive",
          "positive",
          "positive",
          "positive",
          "positive",
          "positive",
          "positive",
          "positive",
          "positive",
          "positive",
          "positive",
          "positive",
          "positive",
          "positive",
          "positive",
          "positive",
          "positive",
          "positive",
          "positive",
          "positive",
          "positive",
          "positive",
          "positive",
          "negative",
          "negative",
          "negative",
          "positive",
          "positive",
          "positive",
          "positive",
          "positive",
          "positive",
          "positive",
          "positive",
          "positive",
          "positive",
          "positive",
          "positive",
          "positive",
          "positive",
          "positive",
          "positive",
          "negative",
          "negative",
          "negative",
          "positive",
          "positive",
          "negative",
          "positive",
          "positive",
          "positive",
          "positive",
          "positive",
          "positive",
          "positive",
          "positive",
          "positive",
          "positive",
          "positive",
          "positive",
          "positive",
          "positive",
          "positive",
          "positive",
          "negative",
          "negative",
          "negative",
          "negative",
          "negative",
          "negative"
         ],
         "xaxis": "x",
         "yaxis": "y"
        }
       ],
       "layout": {
        "autosize": true,
        "barmode": "relative",
        "legend": {
         "tracegroupgap": 0
        },
        "margin": {
         "t": 60
        },
        "template": {
         "data": {
          "bar": [
           {
            "error_x": {
             "color": "#2a3f5f"
            },
            "error_y": {
             "color": "#2a3f5f"
            },
            "marker": {
             "line": {
              "color": "#E5ECF6",
              "width": 0.5
             },
             "pattern": {
              "fillmode": "overlay",
              "size": 10,
              "solidity": 0.2
             }
            },
            "type": "bar"
           }
          ],
          "barpolar": [
           {
            "marker": {
             "line": {
              "color": "#E5ECF6",
              "width": 0.5
             },
             "pattern": {
              "fillmode": "overlay",
              "size": 10,
              "solidity": 0.2
             }
            },
            "type": "barpolar"
           }
          ],
          "carpet": [
           {
            "aaxis": {
             "endlinecolor": "#2a3f5f",
             "gridcolor": "white",
             "linecolor": "white",
             "minorgridcolor": "white",
             "startlinecolor": "#2a3f5f"
            },
            "baxis": {
             "endlinecolor": "#2a3f5f",
             "gridcolor": "white",
             "linecolor": "white",
             "minorgridcolor": "white",
             "startlinecolor": "#2a3f5f"
            },
            "type": "carpet"
           }
          ],
          "choropleth": [
           {
            "colorbar": {
             "outlinewidth": 0,
             "ticks": ""
            },
            "type": "choropleth"
           }
          ],
          "contour": [
           {
            "colorbar": {
             "outlinewidth": 0,
             "ticks": ""
            },
            "colorscale": [
             [
              0,
              "#0d0887"
             ],
             [
              0.1111111111111111,
              "#46039f"
             ],
             [
              0.2222222222222222,
              "#7201a8"
             ],
             [
              0.3333333333333333,
              "#9c179e"
             ],
             [
              0.4444444444444444,
              "#bd3786"
             ],
             [
              0.5555555555555556,
              "#d8576b"
             ],
             [
              0.6666666666666666,
              "#ed7953"
             ],
             [
              0.7777777777777778,
              "#fb9f3a"
             ],
             [
              0.8888888888888888,
              "#fdca26"
             ],
             [
              1,
              "#f0f921"
             ]
            ],
            "type": "contour"
           }
          ],
          "contourcarpet": [
           {
            "colorbar": {
             "outlinewidth": 0,
             "ticks": ""
            },
            "type": "contourcarpet"
           }
          ],
          "heatmap": [
           {
            "colorbar": {
             "outlinewidth": 0,
             "ticks": ""
            },
            "colorscale": [
             [
              0,
              "#0d0887"
             ],
             [
              0.1111111111111111,
              "#46039f"
             ],
             [
              0.2222222222222222,
              "#7201a8"
             ],
             [
              0.3333333333333333,
              "#9c179e"
             ],
             [
              0.4444444444444444,
              "#bd3786"
             ],
             [
              0.5555555555555556,
              "#d8576b"
             ],
             [
              0.6666666666666666,
              "#ed7953"
             ],
             [
              0.7777777777777778,
              "#fb9f3a"
             ],
             [
              0.8888888888888888,
              "#fdca26"
             ],
             [
              1,
              "#f0f921"
             ]
            ],
            "type": "heatmap"
           }
          ],
          "heatmapgl": [
           {
            "colorbar": {
             "outlinewidth": 0,
             "ticks": ""
            },
            "colorscale": [
             [
              0,
              "#0d0887"
             ],
             [
              0.1111111111111111,
              "#46039f"
             ],
             [
              0.2222222222222222,
              "#7201a8"
             ],
             [
              0.3333333333333333,
              "#9c179e"
             ],
             [
              0.4444444444444444,
              "#bd3786"
             ],
             [
              0.5555555555555556,
              "#d8576b"
             ],
             [
              0.6666666666666666,
              "#ed7953"
             ],
             [
              0.7777777777777778,
              "#fb9f3a"
             ],
             [
              0.8888888888888888,
              "#fdca26"
             ],
             [
              1,
              "#f0f921"
             ]
            ],
            "type": "heatmapgl"
           }
          ],
          "histogram": [
           {
            "marker": {
             "pattern": {
              "fillmode": "overlay",
              "size": 10,
              "solidity": 0.2
             }
            },
            "type": "histogram"
           }
          ],
          "histogram2d": [
           {
            "colorbar": {
             "outlinewidth": 0,
             "ticks": ""
            },
            "colorscale": [
             [
              0,
              "#0d0887"
             ],
             [
              0.1111111111111111,
              "#46039f"
             ],
             [
              0.2222222222222222,
              "#7201a8"
             ],
             [
              0.3333333333333333,
              "#9c179e"
             ],
             [
              0.4444444444444444,
              "#bd3786"
             ],
             [
              0.5555555555555556,
              "#d8576b"
             ],
             [
              0.6666666666666666,
              "#ed7953"
             ],
             [
              0.7777777777777778,
              "#fb9f3a"
             ],
             [
              0.8888888888888888,
              "#fdca26"
             ],
             [
              1,
              "#f0f921"
             ]
            ],
            "type": "histogram2d"
           }
          ],
          "histogram2dcontour": [
           {
            "colorbar": {
             "outlinewidth": 0,
             "ticks": ""
            },
            "colorscale": [
             [
              0,
              "#0d0887"
             ],
             [
              0.1111111111111111,
              "#46039f"
             ],
             [
              0.2222222222222222,
              "#7201a8"
             ],
             [
              0.3333333333333333,
              "#9c179e"
             ],
             [
              0.4444444444444444,
              "#bd3786"
             ],
             [
              0.5555555555555556,
              "#d8576b"
             ],
             [
              0.6666666666666666,
              "#ed7953"
             ],
             [
              0.7777777777777778,
              "#fb9f3a"
             ],
             [
              0.8888888888888888,
              "#fdca26"
             ],
             [
              1,
              "#f0f921"
             ]
            ],
            "type": "histogram2dcontour"
           }
          ],
          "mesh3d": [
           {
            "colorbar": {
             "outlinewidth": 0,
             "ticks": ""
            },
            "type": "mesh3d"
           }
          ],
          "parcoords": [
           {
            "line": {
             "colorbar": {
              "outlinewidth": 0,
              "ticks": ""
             }
            },
            "type": "parcoords"
           }
          ],
          "pie": [
           {
            "automargin": true,
            "type": "pie"
           }
          ],
          "scatter": [
           {
            "marker": {
             "colorbar": {
              "outlinewidth": 0,
              "ticks": ""
             }
            },
            "type": "scatter"
           }
          ],
          "scatter3d": [
           {
            "line": {
             "colorbar": {
              "outlinewidth": 0,
              "ticks": ""
             }
            },
            "marker": {
             "colorbar": {
              "outlinewidth": 0,
              "ticks": ""
             }
            },
            "type": "scatter3d"
           }
          ],
          "scattercarpet": [
           {
            "marker": {
             "colorbar": {
              "outlinewidth": 0,
              "ticks": ""
             }
            },
            "type": "scattercarpet"
           }
          ],
          "scattergeo": [
           {
            "marker": {
             "colorbar": {
              "outlinewidth": 0,
              "ticks": ""
             }
            },
            "type": "scattergeo"
           }
          ],
          "scattergl": [
           {
            "marker": {
             "colorbar": {
              "outlinewidth": 0,
              "ticks": ""
             }
            },
            "type": "scattergl"
           }
          ],
          "scattermapbox": [
           {
            "marker": {
             "colorbar": {
              "outlinewidth": 0,
              "ticks": ""
             }
            },
            "type": "scattermapbox"
           }
          ],
          "scatterpolar": [
           {
            "marker": {
             "colorbar": {
              "outlinewidth": 0,
              "ticks": ""
             }
            },
            "type": "scatterpolar"
           }
          ],
          "scatterpolargl": [
           {
            "marker": {
             "colorbar": {
              "outlinewidth": 0,
              "ticks": ""
             }
            },
            "type": "scatterpolargl"
           }
          ],
          "scatterternary": [
           {
            "marker": {
             "colorbar": {
              "outlinewidth": 0,
              "ticks": ""
             }
            },
            "type": "scatterternary"
           }
          ],
          "surface": [
           {
            "colorbar": {
             "outlinewidth": 0,
             "ticks": ""
            },
            "colorscale": [
             [
              0,
              "#0d0887"
             ],
             [
              0.1111111111111111,
              "#46039f"
             ],
             [
              0.2222222222222222,
              "#7201a8"
             ],
             [
              0.3333333333333333,
              "#9c179e"
             ],
             [
              0.4444444444444444,
              "#bd3786"
             ],
             [
              0.5555555555555556,
              "#d8576b"
             ],
             [
              0.6666666666666666,
              "#ed7953"
             ],
             [
              0.7777777777777778,
              "#fb9f3a"
             ],
             [
              0.8888888888888888,
              "#fdca26"
             ],
             [
              1,
              "#f0f921"
             ]
            ],
            "type": "surface"
           }
          ],
          "table": [
           {
            "cells": {
             "fill": {
              "color": "#EBF0F8"
             },
             "line": {
              "color": "white"
             }
            },
            "header": {
             "fill": {
              "color": "#C8D4E3"
             },
             "line": {
              "color": "white"
             }
            },
            "type": "table"
           }
          ]
         },
         "layout": {
          "annotationdefaults": {
           "arrowcolor": "#2a3f5f",
           "arrowhead": 0,
           "arrowwidth": 1
          },
          "autotypenumbers": "strict",
          "coloraxis": {
           "colorbar": {
            "outlinewidth": 0,
            "ticks": ""
           }
          },
          "colorscale": {
           "diverging": [
            [
             0,
             "#8e0152"
            ],
            [
             0.1,
             "#c51b7d"
            ],
            [
             0.2,
             "#de77ae"
            ],
            [
             0.3,
             "#f1b6da"
            ],
            [
             0.4,
             "#fde0ef"
            ],
            [
             0.5,
             "#f7f7f7"
            ],
            [
             0.6,
             "#e6f5d0"
            ],
            [
             0.7,
             "#b8e186"
            ],
            [
             0.8,
             "#7fbc41"
            ],
            [
             0.9,
             "#4d9221"
            ],
            [
             1,
             "#276419"
            ]
           ],
           "sequential": [
            [
             0,
             "#0d0887"
            ],
            [
             0.1111111111111111,
             "#46039f"
            ],
            [
             0.2222222222222222,
             "#7201a8"
            ],
            [
             0.3333333333333333,
             "#9c179e"
            ],
            [
             0.4444444444444444,
             "#bd3786"
            ],
            [
             0.5555555555555556,
             "#d8576b"
            ],
            [
             0.6666666666666666,
             "#ed7953"
            ],
            [
             0.7777777777777778,
             "#fb9f3a"
            ],
            [
             0.8888888888888888,
             "#fdca26"
            ],
            [
             1,
             "#f0f921"
            ]
           ],
           "sequentialminus": [
            [
             0,
             "#0d0887"
            ],
            [
             0.1111111111111111,
             "#46039f"
            ],
            [
             0.2222222222222222,
             "#7201a8"
            ],
            [
             0.3333333333333333,
             "#9c179e"
            ],
            [
             0.4444444444444444,
             "#bd3786"
            ],
            [
             0.5555555555555556,
             "#d8576b"
            ],
            [
             0.6666666666666666,
             "#ed7953"
            ],
            [
             0.7777777777777778,
             "#fb9f3a"
            ],
            [
             0.8888888888888888,
             "#fdca26"
            ],
            [
             1,
             "#f0f921"
            ]
           ]
          },
          "colorway": [
           "#636efa",
           "#EF553B",
           "#00cc96",
           "#ab63fa",
           "#FFA15A",
           "#19d3f3",
           "#FF6692",
           "#B6E880",
           "#FF97FF",
           "#FECB52"
          ],
          "font": {
           "color": "#2a3f5f"
          },
          "geo": {
           "bgcolor": "white",
           "lakecolor": "white",
           "landcolor": "#E5ECF6",
           "showlakes": true,
           "showland": true,
           "subunitcolor": "white"
          },
          "hoverlabel": {
           "align": "left"
          },
          "hovermode": "closest",
          "mapbox": {
           "style": "light"
          },
          "paper_bgcolor": "white",
          "plot_bgcolor": "#E5ECF6",
          "polar": {
           "angularaxis": {
            "gridcolor": "white",
            "linecolor": "white",
            "ticks": ""
           },
           "bgcolor": "#E5ECF6",
           "radialaxis": {
            "gridcolor": "white",
            "linecolor": "white",
            "ticks": ""
           }
          },
          "scene": {
           "xaxis": {
            "backgroundcolor": "#E5ECF6",
            "gridcolor": "white",
            "gridwidth": 2,
            "linecolor": "white",
            "showbackground": true,
            "ticks": "",
            "zerolinecolor": "white"
           },
           "yaxis": {
            "backgroundcolor": "#E5ECF6",
            "gridcolor": "white",
            "gridwidth": 2,
            "linecolor": "white",
            "showbackground": true,
            "ticks": "",
            "zerolinecolor": "white"
           },
           "zaxis": {
            "backgroundcolor": "#E5ECF6",
            "gridcolor": "white",
            "gridwidth": 2,
            "linecolor": "white",
            "showbackground": true,
            "ticks": "",
            "zerolinecolor": "white"
           }
          },
          "shapedefaults": {
           "line": {
            "color": "#2a3f5f"
           }
          },
          "ternary": {
           "aaxis": {
            "gridcolor": "white",
            "linecolor": "white",
            "ticks": ""
           },
           "baxis": {
            "gridcolor": "white",
            "linecolor": "white",
            "ticks": ""
           },
           "bgcolor": "#E5ECF6",
           "caxis": {
            "gridcolor": "white",
            "linecolor": "white",
            "ticks": ""
           }
          },
          "title": {
           "x": 0.05
          },
          "xaxis": {
           "automargin": true,
           "gridcolor": "white",
           "linecolor": "white",
           "ticks": "",
           "title": {
            "standoff": 15
           },
           "zerolinecolor": "white",
           "zerolinewidth": 2
          },
          "yaxis": {
           "automargin": true,
           "gridcolor": "white",
           "linecolor": "white",
           "ticks": "",
           "title": {
            "standoff": 15
           },
           "zerolinecolor": "white",
           "zerolinewidth": 2
          }
         }
        },
        "title": {
         "text": "Product Sentiment"
        },
        "xaxis": {
         "anchor": "y",
         "autorange": true,
         "domain": [
          0,
          1
         ],
         "range": [
          -0.5,
          1.5
         ],
         "title": {
          "text": "sentimentt"
         },
         "type": "category"
        },
        "yaxis": {
         "anchor": "x",
         "autorange": true,
         "domain": [
          0,
          1
         ],
         "range": [
          0,
          406.3157894736842
         ],
         "title": {
          "text": "count"
         }
        }
       }
      },
      "image/png": "[encoded data removed]",
      "text/html": [
       "<div>                            <div id=\"21a91188-2bee-4682-86bd-e24f689e044c\" class=\"plotly-graph-div\" style=\"height:525px; width:100%;\"></div>            <script type=\"text/javascript\">                require([\"plotly\"], function(Plotly) {                    window.PLOTLYENV=window.PLOTLYENV || {};                                    if (document.getElementById(\"21a91188-2bee-4682-86bd-e24f689e044c\")) {                    Plotly.newPlot(                        \"21a91188-2bee-4682-86bd-e24f689e044c\",                        [{\"alignmentgroup\":\"True\",\"bingroup\":\"x\",\"hovertemplate\":\"sentimentt=%{x}<br>count=%{y}<extra></extra>\",\"legendgroup\":\"\",\"marker\":{\"color\":\"indianred\",\"pattern\":{\"shape\":\"\"},\"line\":{\"color\":\"rgb(8,48,107)\",\"width\":1.5}},\"name\":\"\",\"offsetgroup\":\"\",\"orientation\":\"v\",\"showlegend\":false,\"x\":[\"negative\",\"negative\",\"negative\",\"negative\",\"positive\",\"negative\",\"negative\",\"positive\",\"negative\",\"positive\",\"positive\",\"positive\",\"positive\",\"positive\",\"positive\",\"negative\",\"positive\",\"positive\",\"positive\",\"negative\",\"positive\",\"positive\",\"positive\",\"positive\",\"positive\",\"positive\",\"positive\",\"positive\",\"positive\",\"positive\",\"negative\",\"negative\",\"negative\",\"negative\",\"positive\",\"positive\",\"positive\",\"positive\",\"positive\",\"positive\",\"negative\",\"negative\",\"negative\",\"negative\",\"negative\",\"positive\",\"negative\",\"negative\",\"positive\",\"positive\",\"negative\",\"negative\",\"negative\",\"negative\",\"negative\",\"negative\",\"negative\",\"positive\",\"positive\",\"positive\",\"positive\",\"positive\",\"positive\",\"positive\",\"positive\",\"positive\",\"negative\",\"positive\",\"negative\",\"negative\",\"negative\",\"negative\",\"negative\",\"negative\",\"negative\",\"negative\",\"negative\",\"negative\",\"negative\",\"negative\",\"negative\",\"negative\",\"negative\",\"positive\",\"negative\",\"negative\",\"negative\",\"negative\",\"negative\",\"negative\",\"positive\",\"negative\",\"negative\",\"negative\",\"negative\",\"negative\",\"negative\",\"negative\",\"negative\",\"negative\",\"negative\",\"negative\",\"negative\",\"negative\",\"negative\",\"negative\",\"negative\",\"positive\",\"negative\",\"negative\",\"negative\",\"negative\",\"negative\",\"negative\",\"negative\",\"negative\",\"negative\",\"negative\",\"negative\",\"negative\",\"negative\",\"negative\",\"negative\",\"negative\",\"negative\",\"negative\",\"negative\",\"negative\",\"positive\",\"positive\",\"positive\",\"negative\",\"negative\",\"negative\",\"negative\",\"positive\",\"negative\",\"negative\",\"negative\",\"positive\",\"positive\",\"positive\",\"positive\",\"positive\",\"positive\",\"positive\",\"positive\",\"positive\",\"positive\",\"negative\",\"negative\",\"negative\",\"negative\",\"negative\",\"negative\",\"positive\",\"positive\",\"positive\",\"positive\",\"positive\",\"positive\",\"positive\",\"positive\",\"positive\",\"positive\",\"positive\",\"positive\",\"positive\",\"positive\",\"negative\",\"negative\",\"negative\",\"negative\",\"negative\",\"negative\",\"negative\",\"negative\",\"positive\",\"positive\",\"positive\",\"negative\",\"negative\",\"negative\",\"negative\",\"positive\",\"positive\",\"positive\",\"positive\",\"positive\",\"positive\",\"positive\",\"positive\",\"positive\",\"positive\",\"positive\",\"positive\",\"positive\",\"negative\",\"negative\",\"negative\",\"positive\",\"positive\",\"positive\",\"positive\",\"positive\",\"positive\",\"positive\",\"positive\",\"positive\",\"negative\",\"positive\",\"positive\",\"positive\",\"positive\",\"positive\",\"positive\",\"positive\",\"positive\",\"negative\",\"negative\",\"negative\",\"negative\",\"negative\",\"positive\",\"positive\",\"negative\",\"negative\",\"negative\",\"negative\",\"negative\",\"negative\",\"negative\",\"negative\",\"negative\",\"negative\",\"negative\",\"negative\",\"positive\",\"positive\",\"negative\",\"positive\",\"negative\",\"positive\",\"negative\",\"negative\",\"positive\",\"negative\",\"negative\",\"positive\",\"positive\",\"positive\",\"positive\",\"negative\",\"negative\",\"negative\",\"negative\",\"negative\",\"negative\",\"negative\",\"negative\",\"negative\",\"negative\",\"negative\",\"negative\",\"negative\",\"negative\",\"negative\",\"negative\",\"negative\",\"positive\",\"positive\",\"negative\",\"negative\",\"negative\",\"negative\",\"negative\",\"negative\",\"negative\",\"negative\",\"negative\",\"negative\",\"negative\",\"negative\",\"negative\",\"positive\",\"positive\",\"positive\",\"positive\",\"positive\",\"positive\",\"negative\",\"negative\",\"positive\",\"positive\",\"positive\",\"positive\",\"positive\",\"positive\",\"positive\",\"positive\",\"positive\",\"positive\",\"positive\",\"positive\",\"positive\",\"positive\",\"positive\",\"negative\",\"negative\",\"negative\",\"negative\",\"negative\",\"negative\",\"positive\",\"positive\",\"negative\",\"negative\",\"negative\",\"negative\",\"negative\",\"negative\",\"negative\",\"negative\",\"negative\",\"negative\",\"negative\",\"negative\",\"negative\",\"negative\",\"negative\",\"negative\",\"negative\",\"negative\",\"positive\",\"positive\",\"positive\",\"negative\",\"negative\",\"negative\",\"negative\",\"negative\",\"negative\",\"positive\",\"positive\",\"positive\",\"positive\",\"positive\",\"positive\",\"negative\",\"negative\",\"positive\",\"positive\",\"negative\",\"negative\",\"negative\",\"negative\",\"negative\",\"negative\",\"negative\",\"negative\",\"negative\",\"negative\",\"negative\",\"negative\",\"negative\",\"negative\",\"negative\",\"negative\",\"negative\",\"negative\",\"negative\",\"positive\",\"positive\",\"negative\",\"negative\",\"negative\",\"negative\",\"negative\",\"negative\",\"positive\",\"negative\",\"negative\",\"negative\",\"negative\",\"negative\",\"negative\",\"negative\",\"negative\",\"negative\",\"negative\",\"negative\",\"negative\",\"negative\",\"negative\",\"positive\",\"positive\",\"positive\",\"positive\",\"positive\",\"positive\",\"negative\",\"negative\",\"positive\",\"negative\",\"negative\",\"negative\",\"negative\",\"negative\",\"negative\",\"negative\",\"negative\",\"negative\",\"negative\",\"positive\",\"positive\",\"positive\",\"negative\",\"positive\",\"negative\",\"positive\",\"positive\",\"positive\",\"positive\",\"positive\",\"positive\",\"positive\",\"negative\",\"negative\",\"negative\",\"positive\",\"positive\",\"positive\",\"positive\",\"positive\",\"positive\",\"negative\",\"negative\",\"positive\",\"positive\",\"positive\",\"positive\",\"positive\",\"positive\",\"positive\",\"positive\",\"positive\",\"positive\",\"negative\",\"negative\",\"negative\",\"positive\",\"positive\",\"positive\",\"positive\",\"positive\",\"positive\",\"positive\",\"positive\",\"positive\",\"positive\",\"positive\",\"positive\",\"positive\",\"positive\",\"positive\",\"positive\",\"negative\",\"negative\",\"positive\",\"negative\",\"negative\",\"negative\",\"positive\",\"positive\",\"positive\",\"positive\",\"positive\",\"positive\",\"positive\",\"positive\",\"positive\",\"positive\",\"positive\",\"positive\",\"positive\",\"positive\",\"positive\",\"negative\",\"positive\",\"positive\",\"negative\",\"negative\",\"positive\",\"positive\",\"positive\",\"positive\",\"positive\",\"positive\",\"negative\",\"negative\",\"negative\",\"negative\",\"negative\",\"negative\",\"negative\",\"negative\",\"negative\",\"negative\",\"negative\",\"negative\",\"negative\",\"negative\",\"negative\",\"negative\",\"positive\",\"positive\",\"positive\",\"negative\",\"negative\",\"negative\",\"negative\",\"negative\",\"negative\",\"negative\",\"negative\",\"negative\",\"negative\",\"negative\",\"negative\",\"positive\",\"positive\",\"positive\",\"positive\",\"positive\",\"positive\",\"positive\",\"positive\",\"negative\",\"negative\",\"negative\",\"negative\",\"negative\",\"positive\",\"positive\",\"positive\",\"positive\",\"positive\",\"positive\",\"positive\",\"positive\",\"positive\",\"positive\",\"negative\",\"positive\",\"positive\",\"positive\",\"positive\",\"positive\",\"positive\",\"positive\",\"positive\",\"negative\",\"positive\",\"positive\",\"positive\",\"positive\",\"positive\",\"positive\",\"negative\",\"negative\",\"positive\",\"positive\",\"positive\",\"positive\",\"positive\",\"positive\",\"positive\",\"positive\",\"negative\",\"negative\",\"negative\",\"negative\",\"negative\",\"negative\",\"positive\",\"positive\",\"positive\",\"positive\",\"positive\",\"positive\",\"positive\",\"positive\",\"positive\",\"positive\",\"positive\",\"positive\",\"positive\",\"positive\",\"positive\",\"positive\",\"positive\",\"negative\",\"negative\",\"negative\",\"negative\",\"negative\",\"negative\",\"negative\",\"negative\",\"positive\",\"positive\",\"positive\",\"positive\",\"positive\",\"positive\",\"positive\",\"positive\",\"positive\",\"positive\",\"positive\",\"positive\",\"positive\",\"positive\",\"positive\",\"positive\",\"positive\",\"positive\",\"positive\",\"positive\",\"positive\",\"positive\",\"positive\",\"positive\",\"positive\",\"positive\",\"positive\",\"negative\",\"negative\",\"negative\",\"negative\",\"negative\",\"negative\",\"negative\",\"negative\",\"positive\",\"positive\",\"positive\",\"positive\",\"negative\",\"negative\",\"negative\",\"positive\",\"negative\",\"negative\",\"negative\",\"negative\",\"negative\",\"negative\",\"negative\",\"negative\",\"negative\",\"negative\",\"positive\",\"positive\",\"positive\",\"positive\",\"negative\",\"negative\",\"negative\",\"positive\",\"negative\",\"negative\",\"negative\",\"negative\",\"positive\",\"positive\",\"positive\",\"positive\",\"positive\",\"positive\",\"positive\",\"positive\",\"positive\",\"positive\",\"positive\",\"positive\",\"positive\",\"positive\",\"positive\",\"positive\",\"positive\",\"positive\",\"positive\",\"positive\",\"positive\",\"positive\",\"positive\",\"positive\",\"positive\",\"positive\",\"positive\",\"negative\",\"negative\",\"negative\",\"positive\",\"positive\",\"positive\",\"positive\",\"positive\",\"positive\",\"positive\",\"positive\",\"positive\",\"positive\",\"positive\",\"positive\",\"positive\",\"positive\",\"positive\",\"positive\",\"negative\",\"negative\",\"negative\",\"positive\",\"positive\",\"negative\",\"positive\",\"positive\",\"positive\",\"positive\",\"positive\",\"positive\",\"positive\",\"positive\",\"positive\",\"positive\",\"positive\",\"positive\",\"positive\",\"positive\",\"positive\",\"positive\",\"negative\",\"negative\",\"negative\",\"negative\",\"negative\",\"negative\"],\"xaxis\":\"x\",\"yaxis\":\"y\",\"type\":\"histogram\"}],                        {\"template\":{\"data\":{\"bar\":[{\"error_x\":{\"color\":\"#2a3f5f\"},\"error_y\":{\"color\":\"#2a3f5f\"},\"marker\":{\"line\":{\"color\":\"#E5ECF6\",\"width\":0.5},\"pattern\":{\"fillmode\":\"overlay\",\"size\":10,\"solidity\":0.2}},\"type\":\"bar\"}],\"barpolar\":[{\"marker\":{\"line\":{\"color\":\"#E5ECF6\",\"width\":0.5},\"pattern\":{\"fillmode\":\"overlay\",\"size\":10,\"solidity\":0.2}},\"type\":\"barpolar\"}],\"carpet\":[{\"aaxis\":{\"endlinecolor\":\"#2a3f5f\",\"gridcolor\":\"white\",\"linecolor\":\"white\",\"minorgridcolor\":\"white\",\"startlinecolor\":\"#2a3f5f\"},\"baxis\":{\"endlinecolor\":\"#2a3f5f\",\"gridcolor\":\"white\",\"linecolor\":\"white\",\"minorgridcolor\":\"white\",\"startlinecolor\":\"#2a3f5f\"},\"type\":\"carpet\"}],\"choropleth\":[{\"colorbar\":{\"outlinewidth\":0,\"ticks\":\"\"},\"type\":\"choropleth\"}],\"contour\":[{\"colorbar\":{\"outlinewidth\":0,\"ticks\":\"\"},\"colorscale\":[[0.0,\"#0d0887\"],[0.1111111111111111,\"#46039f\"],[0.2222222222222222,\"#7201a8\"],[0.3333333333333333,\"#9c179e\"],[0.4444444444444444,\"#bd3786\"],[0.5555555555555556,\"#d8576b\"],[0.6666666666666666,\"#ed7953\"],[0.7777777777777778,\"#fb9f3a\"],[0.8888888888888888,\"#fdca26\"],[1.0,\"#f0f921\"]],\"type\":\"contour\"}],\"contourcarpet\":[{\"colorbar\":{\"outlinewidth\":0,\"ticks\":\"\"},\"type\":\"contourcarpet\"}],\"heatmap\":[{\"colorbar\":{\"outlinewidth\":0,\"ticks\":\"\"},\"colorscale\":[[0.0,\"#0d0887\"],[0.1111111111111111,\"#46039f\"],[0.2222222222222222,\"#7201a8\"],[0.3333333333333333,\"#9c179e\"],[0.4444444444444444,\"#bd3786\"],[0.5555555555555556,\"#d8576b\"],[0.6666666666666666,\"#ed7953\"],[0.7777777777777778,\"#fb9f3a\"],[0.8888888888888888,\"#fdca26\"],[1.0,\"#f0f921\"]],\"type\":\"heatmap\"}],\"heatmapgl\":[{\"colorbar\":{\"outlinewidth\":0,\"ticks\":\"\"},\"colorscale\":[[0.0,\"#0d0887\"],[0.1111111111111111,\"#46039f\"],[0.2222222222222222,\"#7201a8\"],[0.3333333333333333,\"#9c179e\"],[0.4444444444444444,\"#bd3786\"],[0.5555555555555556,\"#d8576b\"],[0.6666666666666666,\"#ed7953\"],[0.7777777777777778,\"#fb9f3a\"],[0.8888888888888888,\"#fdca26\"],[1.0,\"#f0f921\"]],\"type\":\"heatmapgl\"}],\"histogram\":[{\"marker\":{\"pattern\":{\"fillmode\":\"overlay\",\"size\":10,\"solidity\":0.2}},\"type\":\"histogram\"}],\"histogram2d\":[{\"colorbar\":{\"outlinewidth\":0,\"ticks\":\"\"},\"colorscale\":[[0.0,\"#0d0887\"],[0.1111111111111111,\"#46039f\"],[0.2222222222222222,\"#7201a8\"],[0.3333333333333333,\"#9c179e\"],[0.4444444444444444,\"#bd3786\"],[0.5555555555555556,\"#d8576b\"],[0.6666666666666666,\"#ed7953\"],[0.7777777777777778,\"#fb9f3a\"],[0.8888888888888888,\"#fdca26\"],[1.0,\"#f0f921\"]],\"type\":\"histogram2d\"}],\"histogram2dcontour\":[{\"colorbar\":{\"outlinewidth\":0,\"ticks\":\"\"},\"colorscale\":[[0.0,\"#0d0887\"],[0.1111111111111111,\"#46039f\"],[0.2222222222222222,\"#7201a8\"],[0.3333333333333333,\"#9c179e\"],[0.4444444444444444,\"#bd3786\"],[0.5555555555555556,\"#d8576b\"],[0.6666666666666666,\"#ed7953\"],[0.7777777777777778,\"#fb9f3a\"],[0.8888888888888888,\"#fdca26\"],[1.0,\"#f0f921\"]],\"type\":\"histogram2dcontour\"}],\"mesh3d\":[{\"colorbar\":{\"outlinewidth\":0,\"ticks\":\"\"},\"type\":\"mesh3d\"}],\"parcoords\":[{\"line\":{\"colorbar\":{\"outlinewidth\":0,\"ticks\":\"\"}},\"type\":\"parcoords\"}],\"pie\":[{\"automargin\":true,\"type\":\"pie\"}],\"scatter\":[{\"marker\":{\"colorbar\":{\"outlinewidth\":0,\"ticks\":\"\"}},\"type\":\"scatter\"}],\"scatter3d\":[{\"line\":{\"colorbar\":{\"outlinewidth\":0,\"ticks\":\"\"}},\"marker\":{\"colorbar\":{\"outlinewidth\":0,\"ticks\":\"\"}},\"type\":\"scatter3d\"}],\"scattercarpet\":[{\"marker\":{\"colorbar\":{\"outlinewidth\":0,\"ticks\":\"\"}},\"type\":\"scattercarpet\"}],\"scattergeo\":[{\"marker\":{\"colorbar\":{\"outlinewidth\":0,\"ticks\":\"\"}},\"type\":\"scattergeo\"}],\"scattergl\":[{\"marker\":{\"colorbar\":{\"outlinewidth\":0,\"ticks\":\"\"}},\"type\":\"scattergl\"}],\"scattermapbox\":[{\"marker\":{\"colorbar\":{\"outlinewidth\":0,\"ticks\":\"\"}},\"type\":\"scattermapbox\"}],\"scatterpolar\":[{\"marker\":{\"colorbar\":{\"outlinewidth\":0,\"ticks\":\"\"}},\"type\":\"scatterpolar\"}],\"scatterpolargl\":[{\"marker\":{\"colorbar\":{\"outlinewidth\":0,\"ticks\":\"\"}},\"type\":\"scatterpolargl\"}],\"scatterternary\":[{\"marker\":{\"colorbar\":{\"outlinewidth\":0,\"ticks\":\"\"}},\"type\":\"scatterternary\"}],\"surface\":[{\"colorbar\":{\"outlinewidth\":0,\"ticks\":\"\"},\"colorscale\":[[0.0,\"#0d0887\"],[0.1111111111111111,\"#46039f\"],[0.2222222222222222,\"#7201a8\"],[0.3333333333333333,\"#9c179e\"],[0.4444444444444444,\"#bd3786\"],[0.5555555555555556,\"#d8576b\"],[0.6666666666666666,\"#ed7953\"],[0.7777777777777778,\"#fb9f3a\"],[0.8888888888888888,\"#fdca26\"],[1.0,\"#f0f921\"]],\"type\":\"surface\"}],\"table\":[{\"cells\":{\"fill\":{\"color\":\"#EBF0F8\"},\"line\":{\"color\":\"white\"}},\"header\":{\"fill\":{\"color\":\"#C8D4E3\"},\"line\":{\"color\":\"white\"}},\"type\":\"table\"}]},\"layout\":{\"annotationdefaults\":{\"arrowcolor\":\"#2a3f5f\",\"arrowhead\":0,\"arrowwidth\":1},\"autotypenumbers\":\"strict\",\"coloraxis\":{\"colorbar\":{\"outlinewidth\":0,\"ticks\":\"\"}},\"colorscale\":{\"diverging\":[[0,\"#8e0152\"],[0.1,\"#c51b7d\"],[0.2,\"#de77ae\"],[0.3,\"#f1b6da\"],[0.4,\"#fde0ef\"],[0.5,\"#f7f7f7\"],[0.6,\"#e6f5d0\"],[0.7,\"#b8e186\"],[0.8,\"#7fbc41\"],[0.9,\"#4d9221\"],[1,\"#276419\"]],\"sequential\":[[0.0,\"#0d0887\"],[0.1111111111111111,\"#46039f\"],[0.2222222222222222,\"#7201a8\"],[0.3333333333333333,\"#9c179e\"],[0.4444444444444444,\"#bd3786\"],[0.5555555555555556,\"#d8576b\"],[0.6666666666666666,\"#ed7953\"],[0.7777777777777778,\"#fb9f3a\"],[0.8888888888888888,\"#fdca26\"],[1.0,\"#f0f921\"]],\"sequentialminus\":[[0.0,\"#0d0887\"],[0.1111111111111111,\"#46039f\"],[0.2222222222222222,\"#7201a8\"],[0.3333333333333333,\"#9c179e\"],[0.4444444444444444,\"#bd3786\"],[0.5555555555555556,\"#d8576b\"],[0.6666666666666666,\"#ed7953\"],[0.7777777777777778,\"#fb9f3a\"],[0.8888888888888888,\"#fdca26\"],[1.0,\"#f0f921\"]]},\"colorway\":[\"#636efa\",\"#EF553B\",\"#00cc96\",\"#ab63fa\",\"#FFA15A\",\"#19d3f3\",\"#FF6692\",\"#B6E880\",\"#FF97FF\",\"#FECB52\"],\"font\":{\"color\":\"#2a3f5f\"},\"geo\":{\"bgcolor\":\"white\",\"lakecolor\":\"white\",\"landcolor\":\"#E5ECF6\",\"showlakes\":true,\"showland\":true,\"subunitcolor\":\"white\"},\"hoverlabel\":{\"align\":\"left\"},\"hovermode\":\"closest\",\"mapbox\":{\"style\":\"light\"},\"paper_bgcolor\":\"white\",\"plot_bgcolor\":\"#E5ECF6\",\"polar\":{\"angularaxis\":{\"gridcolor\":\"white\",\"linecolor\":\"white\",\"ticks\":\"\"},\"bgcolor\":\"#E5ECF6\",\"radialaxis\":{\"gridcolor\":\"white\",\"linecolor\":\"white\",\"ticks\":\"\"}},\"scene\":{\"xaxis\":{\"backgroundcolor\":\"#E5ECF6\",\"gridcolor\":\"white\",\"gridwidth\":2,\"linecolor\":\"white\",\"showbackground\":true,\"ticks\":\"\",\"zerolinecolor\":\"white\"},\"yaxis\":{\"backgroundcolor\":\"#E5ECF6\",\"gridcolor\":\"white\",\"gridwidth\":2,\"linecolor\":\"white\",\"showbackground\":true,\"ticks\":\"\",\"zerolinecolor\":\"white\"},\"zaxis\":{\"backgroundcolor\":\"#E5ECF6\",\"gridcolor\":\"white\",\"gridwidth\":2,\"linecolor\":\"white\",\"showbackground\":true,\"ticks\":\"\",\"zerolinecolor\":\"white\"}},\"shapedefaults\":{\"line\":{\"color\":\"#2a3f5f\"}},\"ternary\":{\"aaxis\":{\"gridcolor\":\"white\",\"linecolor\":\"white\",\"ticks\":\"\"},\"baxis\":{\"gridcolor\":\"white\",\"linecolor\":\"white\",\"ticks\":\"\"},\"bgcolor\":\"#E5ECF6\",\"caxis\":{\"gridcolor\":\"white\",\"linecolor\":\"white\",\"ticks\":\"\"}},\"title\":{\"x\":0.05},\"xaxis\":{\"automargin\":true,\"gridcolor\":\"white\",\"linecolor\":\"white\",\"ticks\":\"\",\"title\":{\"standoff\":15},\"zerolinecolor\":\"white\",\"zerolinewidth\":2},\"yaxis\":{\"automargin\":true,\"gridcolor\":\"white\",\"linecolor\":\"white\",\"ticks\":\"\",\"title\":{\"standoff\":15},\"zerolinecolor\":\"white\",\"zerolinewidth\":2}}},\"xaxis\":{\"anchor\":\"y\",\"domain\":[0.0,1.0],\"title\":{\"text\":\"sentimentt\"}},\"yaxis\":{\"anchor\":\"x\",\"domain\":[0.0,1.0],\"title\":{\"text\":\"count\"}},\"legend\":{\"tracegroupgap\":0},\"margin\":{\"t\":60},\"barmode\":\"relative\",\"title\":{\"text\":\"Product Sentiment\"}},                        {\"responsive\": true}                    ).then(function(){\n",
       "                            \n",
       "var gd = document.getElementById('21a91188-2bee-4682-86bd-e24f689e044c');\n",
       "var x = new MutationObserver(function (mutations, observer) {{\n",
       "        var display = window.getComputedStyle(gd).display;\n",
       "        if (!display || display === 'none') {{\n",
       "            console.log([gd, 'removed!']);\n",
       "            Plotly.purge(gd);\n",
       "            observer.disconnect();\n",
       "        }}\n",
       "}});\n",
       "\n",
       "// Listen for the removal of the full notebook cells\n",
       "var notebookContainer = gd.closest('#notebook-container');\n",
       "if (notebookContainer) {{\n",
       "    x.observe(notebookContainer, {childList: true});\n",
       "}}\n",
       "\n",
       "// Listen for the clearing of the current output cell\n",
       "var outputEl = gd.closest('.output');\n",
       "if (outputEl) {{\n",
       "    x.observe(outputEl, {childList: true});\n",
       "}}\n",
       "\n",
       "                        })                };                });            </script>        </div>"
      ]
     },
     "metadata": {},
     "output_type": "display_data"
    }
   ],
   "source": [
    "#Negative vs Positive Sentiment\n",
    "import matplotlib.pyplot as plt\n",
    "import seaborn as sns\n",
    "color = sns.color_palette()\n",
    "%matplotlib inline\n",
    "import plotly.offline as py\n",
    "py.init_notebook_mode(connected=True)\n",
    "import plotly.graph_objs as go\n",
    "import plotly.tools as tls\n",
    "import plotly.express as px\n",
    "df['sentimentt'] = df['sentiment'].replace({0 : 'negative'})\n",
    "df['sentimentt'] = df['sentimentt'].replace({1 : 'positive'})\n",
    "fig = px.histogram(df, x=\"sentimentt\")\n",
    "fig.update_traces(marker_color=\"indianred\",marker_line_color='rgb(8,48,107)',\n",
    "                  marker_line_width=1.5)\n",
    "fig.update_layout(title_text='Product Sentiment')\n",
    "fig.show()"
   ]
  },
  {
   "cell_type": "code",
   "execution_count": 12,
   "id": "44b7eb61-6c39-4085-92b9-2c8cdcde180d",
   "metadata": {},
   "outputs": [
    {
     "data": {
      "text/html": [
       "<div>\n",
       "<style scoped>\n",
       "    .dataframe tbody tr th:only-of-type {\n",
       "        vertical-align: middle;\n",
       "    }\n",
       "\n",
       "    .dataframe tbody tr th {\n",
       "        vertical-align: top;\n",
       "    }\n",
       "\n",
       "    .dataframe thead th {\n",
       "        text-align: right;\n",
       "    }\n",
       "</style>\n",
       "<table border=\"1\" class=\"dataframe\">\n",
       "  <thead>\n",
       "    <tr style=\"text-align: right;\">\n",
       "      <th></th>\n",
       "      <th>review</th>\n",
       "      <th>sentiment</th>\n",
       "      <th>sentimentt</th>\n",
       "    </tr>\n",
       "  </thead>\n",
       "  <tbody>\n",
       "    <tr>\n",
       "      <th>0</th>\n",
       "      <td>A very, very, very slow-moving, aimless movie about a distressed, drifting young man.</td>\n",
       "      <td>0</td>\n",
       "      <td>negative</td>\n",
       "    </tr>\n",
       "    <tr>\n",
       "      <th>1</th>\n",
       "      <td>Not sure who was more lost - the flat characters or the audience, nearly half of whom walked out.</td>\n",
       "      <td>0</td>\n",
       "      <td>negative</td>\n",
       "    </tr>\n",
       "    <tr>\n",
       "      <th>2</th>\n",
       "      <td>Attempting artiness with black &amp; white and clever camera angles, the movie disappointed - became even more ridiculous - as the acting was poor and the plot and lines almost non-existent.</td>\n",
       "      <td>0</td>\n",
       "      <td>negative</td>\n",
       "    </tr>\n",
       "    <tr>\n",
       "      <th>3</th>\n",
       "      <td>Very little music or anything to speak of.</td>\n",
       "      <td>0</td>\n",
       "      <td>negative</td>\n",
       "    </tr>\n",
       "    <tr>\n",
       "      <th>4</th>\n",
       "      <td>The best scene in the movie was when Gerardo is trying to find a song that keeps running through his head.</td>\n",
       "      <td>1</td>\n",
       "      <td>positive</td>\n",
       "    </tr>\n",
       "    <tr>\n",
       "      <th>5</th>\n",
       "      <td>The rest of the movie lacks art, charm, meaning... If it's about emptiness, it works I guess because it's empty.</td>\n",
       "      <td>0</td>\n",
       "      <td>negative</td>\n",
       "    </tr>\n",
       "    <tr>\n",
       "      <th>6</th>\n",
       "      <td>Wasted two hours.</td>\n",
       "      <td>0</td>\n",
       "      <td>negative</td>\n",
       "    </tr>\n",
       "    <tr>\n",
       "      <th>7</th>\n",
       "      <td>Saw the movie today and thought it was a good effort, good messages for kids.</td>\n",
       "      <td>1</td>\n",
       "      <td>positive</td>\n",
       "    </tr>\n",
       "    <tr>\n",
       "      <th>8</th>\n",
       "      <td>A bit predictable.</td>\n",
       "      <td>0</td>\n",
       "      <td>negative</td>\n",
       "    </tr>\n",
       "    <tr>\n",
       "      <th>9</th>\n",
       "      <td>Loved the casting of Jimmy Buffet as the science teacher.</td>\n",
       "      <td>1</td>\n",
       "      <td>positive</td>\n",
       "    </tr>\n",
       "  </tbody>\n",
       "</table>\n",
       "</div>"
      ],
      "text/plain": [
       "                                                                                                                                                                                         review  \\\n",
       "0                                                                                                       A very, very, very slow-moving, aimless movie about a distressed, drifting young man.     \n",
       "1                                                                                           Not sure who was more lost - the flat characters or the audience, nearly half of whom walked out.     \n",
       "2  Attempting artiness with black & white and clever camera angles, the movie disappointed - became even more ridiculous - as the acting was poor and the plot and lines almost non-existent.     \n",
       "3                                                                                                                                                  Very little music or anything to speak of.     \n",
       "4                                                                                  The best scene in the movie was when Gerardo is trying to find a song that keeps running through his head.     \n",
       "5                                                                            The rest of the movie lacks art, charm, meaning... If it's about emptiness, it works I guess because it's empty.     \n",
       "6                                                                                                                                                                           Wasted two hours.     \n",
       "7                                                                                                               Saw the movie today and thought it was a good effort, good messages for kids.     \n",
       "8                                                                                                                                                                          A bit predictable.     \n",
       "9                                                                                                                                   Loved the casting of Jimmy Buffet as the science teacher.     \n",
       "\n",
       "   sentiment sentimentt  \n",
       "0          0   negative  \n",
       "1          0   negative  \n",
       "2          0   negative  \n",
       "3          0   negative  \n",
       "4          1   positive  \n",
       "5          0   negative  \n",
       "6          0   negative  \n",
       "7          1   positive  \n",
       "8          0   negative  \n",
       "9          1   positive  "
      ]
     },
     "execution_count": 12,
     "metadata": {},
     "output_type": "execute_result"
    }
   ],
   "source": [
    "#Quick display columns\n",
    "pd.set_option('display.max_colwidth', 5000)\n",
    "df.head(10)"
   ]
  },
  {
   "cell_type": "code",
   "execution_count": 13,
   "id": "d4b00413-a453-490a-957d-08d99772fe54",
   "metadata": {},
   "outputs": [],
   "source": [
    "#Removing special characters\n",
    "def remove_special_characters(text, remove_digits=True):\n",
    "    pattern=r'[^a-zA-z0-9\\s]'\n",
    "    text=re.sub(pattern,'',text)\n",
    "    return text\n",
    "#Apply to 'review' column\n",
    "df['review']=df['review'].apply(remove_special_characters)"
   ]
  },
  {
   "cell_type": "code",
   "execution_count": 14,
   "id": "b91133c5-a3aa-4306-8ab7-524a57b668cd",
   "metadata": {
    "tags": []
   },
   "outputs": [
    {
     "name": "stdout",
     "output_type": "stream",
     "text": [
      "{'couldn', 'be', \"you're\", 'it', 'whom', 'while', \"you'll\", 'off', 'she', 'yours', 'yourselves', 'doing', 'a', 're', 'now', 'why', 'you', 'further', 'can', \"doesn't\", 'we', 'those', 'y', 'don', 'me', 'again', 'or', 'is', 'm', \"couldn't\", 'was', 'after', 'did', 'not', 'will', 's', 'hers', 'nor', 'of', 'my', 'wasn', 'weren', 'wouldn', 'as', 'just', 'ourselves', 'his', 'these', 'but', \"needn't\", \"it's\", 'has', 'the', 'any', 'very', 'this', 'by', \"haven't\", 'there', 'its', 'had', 'other', \"you'd\", 'only', \"weren't\", 'mustn', 'until', 'won', \"isn't\", 'do', 'how', 'your', 'been', 'about', 'didn', \"mightn't\", 'to', 'no', 'from', 'out', 'own', 't', 'll', \"won't\", 'here', 'down', 'because', 'him', 'am', 'during', 'at', 'where', 'more', \"shan't\", \"wouldn't\", 'with', 'an', 'i', \"mustn't\", 'her', 'between', 'too', \"should've\", 'theirs', 'their', \"that'll\", 'shan', 'needn', 've', 'when', 'does', 'mightn', 'over', 'what', 'hadn', 'in', 'ours', 'through', 'same', 'for', 'have', 'both', 'ma', 'under', 'each', 'up', 'than', \"hadn't\", 'haven', 'he', \"you've\", 'shouldn', 'most', 'ain', \"shouldn't\", 'our', 'who', 'doesn', 'which', 'd', 'itself', 'such', 'isn', 'o', 'once', 'into', 'if', 'himself', 'myself', 'some', 'having', \"didn't\", 'before', 'so', 'below', \"hasn't\", 'against', 'themselves', \"aren't\", 'being', 'few', 'should', 'hasn', \"she's\", 'herself', 'were', 'above', 'and', 'them', 'yourself', 'on', 'aren', 'are', 'all', \"wasn't\", 'then', 'they', \"don't\", 'that'}\n"
     ]
    }
   ],
   "source": [
    "#set stopwords to english\n",
    "stop=set(stopwords.words('english'))\n",
    "print(stop)\n",
    "\n",
    "#removing the stopwords\n",
    "def remove_stopwords(text, is_lower_case=False):\n",
    "    tokens = tokenizer.Tokenizer(text)\n",
    "    tokens = [token.strip() for token in tokens]\n",
    "    if is_lower_case:\n",
    "        filtered_tokens = [token for token in tokens if token not in stopword_list]\n",
    "    else:\n",
    "        filtered_tokens = [token for token in tokens if token.lower() not in stopword_list]\n",
    "    filtered_text = ' '.join(filtered_tokens)    \n",
    "    return filtered_text"
   ]
  },
  {
   "cell_type": "code",
   "execution_count": 15,
   "id": "29c2fe1e-212a-4431-bf0e-b07f8dde0208",
   "metadata": {},
   "outputs": [
    {
     "name": "stdout",
     "output_type": "stream",
     "text": [
      "Vocabulary size:  3175\n"
     ]
    }
   ],
   "source": [
    "#Finding vocab size\n",
    "tokenizer = Tokenizer()\n",
    "tokenizer.fit_on_texts(df['review'])\n",
    "print(\"Vocabulary size: \", len(tokenizer.word_index) +1)"
   ]
  },
  {
   "cell_type": "code",
   "execution_count": 16,
   "id": "5bc59785-a6f6-49f3-83d8-d17631264eba",
   "metadata": {},
   "outputs": [
    {
     "data": {
      "text/plain": [
       "8"
      ]
     },
     "execution_count": 16,
     "metadata": {},
     "output_type": "execute_result"
    }
   ],
   "source": [
    "#Max Sequence\n",
    "max_sequence_embedding = int(round(np.sqrt(np.sqrt(3175)), 0))\n",
    "max_sequence_embedding"
   ]
  },
  {
   "cell_type": "code",
   "execution_count": 17,
   "id": "e5fdfb42-9d0a-4e18-ab75-fc4229e32e88",
   "metadata": {},
   "outputs": [
    {
     "name": "stdout",
     "output_type": "stream",
     "text": [
      "Max length:  22\n"
     ]
    }
   ],
   "source": [
    "#Max Length\n",
    "review_length = []\n",
    "for review in df['review']:\n",
    "    review_length.append(len(review.split(' ')))\n",
    "    \n",
    "max_length = int(round(np.mean(review_length), 0))\n",
    "print(\"Max length: \", max_length)"
   ]
  },
  {
   "cell_type": "code",
   "execution_count": 18,
   "id": "344c9c4d-6d44-44bb-9dd8-9a98fb901268",
   "metadata": {
    "collapsed": true,
    "jupyter": {
     "outputs_hidden": true
    },
    "tags": []
   },
   "outputs": [
    {
     "name": "stdout",
     "output_type": "stream",
     "text": [
      "{'the': 1, 'a': 2, 'and': 3, 'of': 4, 'is': 5, 'this': 6, 'i': 7, 'it': 8, 'to': 9, 'in': 10, 'was': 11, 'movie': 12, 'that': 13, 'film': 14, '0': 15, '1': 16, 'for': 17, 'as': 18, 'but': 19, 'with': 20, 'its': 21, 'one': 22, 'on': 23, 'you': 24, 'are': 25, 'not': 26, 'bad': 27, 'very': 28, 'just': 29, 'so': 30, 'all': 31, 'good': 32, 'at': 33, 'an': 34, 'there': 35, 'about': 36, 'be': 37, 'by': 38, 'have': 39, 'like': 40, 'from': 41, 'if': 42, 'time': 43, 'acting': 44, 'his': 45, 'really': 46, 'or': 47, 'out': 48, 'great': 49, 'even': 50, 'who': 51, 'were': 52, 'he': 53, 'has': 54, 'characters': 55, 'see': 56, 'my': 57, 'most': 58, 'how': 59, 'more': 60, 'no': 61, 'well': 62, 'only': 63, 'movies': 64, 'ever': 65, 'story': 66, 'plot': 67, 'when': 68, 'made': 69, 'some': 70, 'films': 71, 'they': 72, 'dont': 73, 'best': 74, 'because': 75, 'your': 76, 'also': 77, 'can': 78, 'than': 79, 'script': 80, 'other': 81, 'seen': 82, 'way': 83, 'love': 84, 'character': 85, 'make': 86, 'would': 87, 'didnt': 88, 'me': 89, 'watching': 90, 'her': 91, 'which': 92, 'what': 93, 'any': 94, 'think': 95, 'real': 96, 'could': 97, 'will': 98, 'had': 99, 'every': 100, 'much': 101, 'do': 102, 'look': 103, 'up': 104, 'scenes': 105, 'too': 106, 'funny': 107, 'better': 108, 'work': 109, 'cast': 110, 'actors': 111, 'wonderful': 112, 'little': 113, 'them': 114, 'into': 115, '10': 116, 'watch': 117, 'never': 118, 'over': 119, 'everything': 120, 'show': 121, 'anyone': 122, 'their': 123, 'excellent': 124, 'totally': 125, 'both': 126, 'here': 127, 'scene': 128, 'waste': 129, 'people': 130, 'go': 131, 'years': 132, 'nothing': 133, 'stupid': 134, 'awful': 135, 'get': 136, 'know': 137, 'still': 138, 'many': 139, 'man': 140, 'music': 141, 'two': 142, 'right': 143, 'say': 144, 'recommend': 145, 'dialogue': 146, 'worth': 147, 'writing': 148, 'pretty': 149, 'after': 150, 'thing': 151, 'again': 152, 'art': 153, 'saw': 154, 'those': 155, 'cant': 156, 'ive': 157, 'line': 158, 'doesnt': 159, 'things': 160, 'interesting': 161, 'been': 162, 'such': 163, 'terrible': 164, 'performance': 165, 'being': 166, 'thought': 167, 'enough': 168, 'beautiful': 169, 'short': 170, 'part': 171, 'did': 172, 'give': 173, 'im': 174, 'worst': 175, 'screen': 176, 'though': 177, 'first': 178, 'ending': 179, 'should': 180, 'worse': 181, 'she': 182, 'find': 183, 'through': 184, 'predictable': 185, 'loved': 186, 'quite': 187, 'simply': 188, 'actually': 189, 'life': 190, 'actor': 191, 'feeling': 192, 'now': 193, 'liked': 194, 'piece': 195, 'played': 196, 'however': 197, 'director': 198, 'end': 199, 'between': 200, 'highly': 201, 'off': 202, 'black': 203, 'almost': 204, 'lot': 205, 'directing': 206, 'does': 207, 'game': 208, 'play': 209, 'least': 210, 'effects': 211, 'thats': 212, 'enjoyed': 213, 'absolutely': 214, 'big': 215, 'definitely': 216, 'going': 217, 'boring': 218, 'understand': 219, 'watched': 220, 'truly': 221, 'job': 222, 'whole': 223, 'drama': 224, 'we': 225, 'am': 226, 'white': 227, 'camera': 228, 'kids': 229, 'long': 230, 'cinematography': 231, 'cinema': 232, 'where': 233, 'certainly': 234, 'kind': 235, 'these': 236, 'found': 237, 'amazing': 238, 'myself': 239, 'then': 240, 'believe': 241, 'minutes': 242, 'theres': 243, 'probably': 244, 'got': 245, 'used': 246, 'special': 247, 'makes': 248, 'mess': 249, 'avoid': 250, 'sucks': 251, 'lines': 252, 'anything': 253, 'wasted': 254, 'cool': 255, 'together': 256, 'far': 257, 'series': 258, 'wasnt': 259, 'written': 260, 'another': 261, 'tv': 262, 'suspense': 263, 'especially': 264, 'horror': 265, 'must': 266, 'fact': 267, 'experience': 268, 'john': 269, 'action': 270, 'done': 271, 'subtle': 272, 'old': 273, 'everyone': 274, 'our': 275, 'around': 276, 'each': 277, 'top': 278, 'garbage': 279, 'comedy': 280, 'half': 281, 'disappointed': 282, 'poor': 283, 'lacks': 284, 'casting': 285, 'editing': 286, 'perfect': 287, 'history': 288, 'rather': 289, 'money': 290, 'crap': 291, 'flick': 292, 'take': 293, 'family': 294, 'entire': 295, 'whatever': 296, 'having': 297, 'girl': 298, 'performances': 299, 'believable': 300, 'portrayal': 301, 'annoying': 302, 'gives': 303, 'want': 304, 'classic': 305, 'nice': 306, 'id': 307, 'brilliant': 308, 'playing': 309, 'rent': 310, 'why': 311, 'horrible': 312, 'few': 313, 'sucked': 314, 'sound': 315, 'incredible': 316, 'him': 317, 'own': 318, 'holes': 319, 'cheap': 320, 'use': 321, 'human': 322, 'seeing': 323, 'gets': 324, 'throughout': 325, 'second': 326, 'style': 327, 'wont': 328, 'recommended': 329, 'audience': 330, 'clever': 331, 'ridiculous': 332, 'works': 333, 'guess': 334, 'bit': 335, 'hilarious': 336, 'face': 337, 'budget': 338, 'since': 339, 'single': 340, 'put': 341, 'amount': 342, 'strong': 343, 'fun': 344, 'enjoy': 345, 'lame': 346, 'away': 347, 'tom': 348, 'often': 349, 'overall': 350, 'gave': 351, 'terrific': 352, 'same': 353, 'hour': 354, 'joy': 355, 'before': 356, 'night': 357, 'world': 358, 'couldnt': 359, 'direction': 360, 'cult': 361, 'times': 362, 'us': 363, 'beyond': 364, 'lead': 365, 'silent': 366, 'hitchcock': 367, 'mostly': 368, 'new': 369, 'full': 370, 'completely': 371, 'pathetic': 372, 'talk': 373, 'care': 374, 'fails': 375, 'yet': 376, 'said': 377, 'fans': 378, 'solid': 379, 'felt': 380, 'child': 381, 'started': 382, 'shot': 383, 'mention': 384, 'memorable': 385, 'different': 386, 'involved': 387, 'period': 388, 'particularly': 389, 'come': 390, 'superb': 391, 'fine': 392, 'fast': 393, 'young': 394, 'lost': 395, 'trying': 396, 'song': 397, 'rest': 398, 'hours': 399, 'songs': 400, 'low': 401, 'consider': 402, 'tale': 403, 'ill': 404, 'true': 405, 'easily': 406, 'minute': 407, 'level': 408, 'mind': 409, 'idea': 410, 'mediocre': 411, 'point': 412, 'itself': 413, 'perhaps': 414, 'glad': 415, 'lovely': 416, 'hard': 417, '2': 418, 'let': 419, 'utterly': 420, 'convincing': 421, 'book': 422, 'whether': 423, 'theyre': 424, 'follow': 425, 'energy': 426, 'generally': 427, 'wouldnt': 428, 'pretentious': 429, 'occasionally': 430, 'try': 431, 'extremely': 432, 'back': 433, 'maybe': 434, 'sometimes': 435, 'during': 436, 'chemistry': 437, 'slow': 438, 'last': 439, 'unfortunately': 440, 'depth': 441, 'imagination': 442, 'barely': 443, 'storyline': 444, 'keep': 445, 'already': 446, 'attempt': 447, 'mean': 448, 'camerawork': 449, 'without': 450, 'torture': 451, 'premise': 452, 'seem': 453, 'ray': 454, 'charles': 455, 'thriller': 456, 'usual': 457, 'themselves': 458, 'else': 459, 'tell': 460, 'directors': 461, 'visual': 462, 'plain': 463, 'soundtrack': 464, 'trash': 465, 'came': 466, 'fx': 467, 'either': 468, 'less': 469, 'hope': 470, 'eyes': 471, 'indeed': 472, 'day': 473, 'theater': 474, 'rating': 475, 'three': 476, 'huge': 477, 'intelligence': 478, 'entertaining': 479, 'bored': 480, 'become': 481, 'roles': 482, 'drago': 483, 'looked': 484, 'parts': 485, 'sets': 486, 'stories': 487, 'production': 488, 'cover': 489, 'created': 490, 'role': 491, 'comes': 492, 'place': 493, 'word': 494, 'always': 495, 'insult': 496, 'death': 497, 'may': 498, 'expect': 499, 'serious': 500, 'year': 501, 'original': 502, 'unbelievable': 503, 'costs': 504, 'small': 505, 'beginning': 506, 'appreciate': 507, 'easy': 508, 'sure': 509, 'speak': 510, 'meaning': 511, 'today': 512, 'showed': 513, 'delivers': 514, 'average': 515, 'main': 516, 'greatest': 517, 'gem': 518, 'sea': 519, 'faux': 520, 'something': 521, 'important': 522, 'words': 523, 'yes': 524, 'significant': 525, 'picture': 526, 'graphics': 527, 'massive': 528, 'pure': 529, 'brilliance': 530, 'complete': 531, 'while': 532, 'moment': 533, 'told': 534, 'talented': 535, 'hill': 536, 'quality': 537, 'obviously': 538, 'addition': 539, 'grace': 540, 'negative': 541, 'children': 542, 'dialog': 543, 'shots': 544, 'arent': 545, 'given': 546, 'plus': 547, 'wind': 548, 'lion': 549, 'acted': 550, 'decent': 551, 'checking': 552, 'touching': 553, 'making': 554, 'looking': 555, 'embarrassing': 556, 'scenery': 557, 'house': 558, 'wish': 559, 'along': 560, 'happened': 561, 'seems': 562, 'episode': 563, '1010': 564, 'moving': 565, 'remake': 566, 'fear': 567, 'nobody': 568, 'conflict': 569, 'incredibly': 570, 'possible': 571, 'whatsoever': 572, 'cartoon': 573, 'paul': 574, 'women': 575, 'brain': 576, 'left': 577, 'features': 578, 'presents': 579, 'screenwriter': 580, 'ups': 581, 'seemed': 582, 'youll': 583, 'age': 584, 'spent': 585, 'isnt': 586, 'remember': 587, 'attention': 588, 'singing': 589, 'bore': 590, 'dancing': 591, 'dvd': 592, 'might': 593, 'aerial': 594, 'interest': 595, 'narrative': 596, 'actress': 597, 'called': 598, 'spoilers': 599, 'stunning': 600, 'note': 601, 'surprisingly': 602, 'released': 603, 'ranks': 604, 'journey': 605, 'location': 606, 'thoroughly': 607, 'turn': 608, 'memories': 609, 'places': 610, 'possibly': 611, 'trilogy': 612, 'favourite': 613, 'awesome': 614, 'earlier': 615, 'living': 616, 'someone': 617, 'intelligent': 618, 'sense': 619, 'games': 620, 'genuine': 621, 'smart': 622, 'havent': 623, 'particular': 624, 'stage': 625, 'next': 626, 'wonderfully': 627, 'hes': 628, 'actresses': 629, 'exactly': 630, 'shows': 631, 'drive': 632, 'enjoyable': 633, 'bought': 634, '90': 635, 'god': 636, 'effective': 637, 'set': 638, 'learn': 639, 'values': 640, 'ruthless': 641, 'although': 642, 'war': 643, 'type': 644, 'example': 645, 'seriously': 646, 'ready': 647, 'fan': 648, 'scamp': 649, 'under': 650, 'coming': 651, 'clichs': 652, 'thrown': 653, 'reason': 654, 'oh': 655, 'star': 656, 'scale': 657, 'problems': 658, 'score': 659, 'frightening': 660, 'oscar': 661, 'knew': 662, 'lots': 663, 'space': 664, 'footage': 665, 'course': 666, 'perfectly': 667, 'finally': 668, 'share': 669, 'down': 670, 'rate': 671, 'sort': 672, 'conclusion': 673, 'heart': 674, 'race': 675, 'appearance': 676, 'looks': 677, 'happen': 678, 'final': 679, 'unconvincing': 680, 'produced': 681, 'early': 682, 'documentary': 683, 'martin': 684, 'racial': 685, 'mickey': 686, 'james': 687, 'watchable': 688, 'weak': 689, 'recent': 690, '90s': 691, 'nonsense': 692, 'fantastic': 693, 'south': 694, 'youre': 695, 'plays': 696, 'thinking': 697, 'laughable': 698, 'wrong': 699, 'dance': 700, 'giallo': 701, 'emotions': 702, 'ability': 703, 'write': 704, 'writer': 705, 'puppets': 706, 'animation': 707, 'flat': 708, 'whom': 709, 'walked': 710, 'angles': 711, 'became': 712, 'keeps': 713, 'running': 714, 'head': 715, 'charm': 716, 'empty': 717, 'jimmy': 718, 'adorable': 719, 'appealing': 720, 'case': 721, 'clearly': 722, 'review': 723, 'sisters': 724, 'terms': 725, 'aspect': 726, 'filmmaking': 727, 'masterpiece': 728, 'masterpieces': 729, 'ask': 730, 'form': 731, 'imaginable': 732, 'pieces': 733, 'fit': 734, 'create': 735, 'deserves': 736, 'levels': 737, 'canada': 738, 'pg13': 739, 'interested': 740, 'unfunny': 741, 'joke': 742, 'morgan': 743, 'jonah': 744, 'ed': 745, 'lazy': 746, 'presence': 747, 'obvious': 748, 'cost': 749, 'despite': 750, 'choice': 751, 'french': 752, 'fall': 753, 'cause': 754, 'regret': 755, 'front': 756, 'whiny': 757, 'pointless': 758, 'future': 759, 'anne': 760, 'reading': 761, 'warmth': 762, 'twice': 763, 'delivering': 764, 'honestly': 765, 'unpredictable': 766, 'badly': 767, 'parents': 768, 'alexander': 769, 'artist': 770, 'gonna': 771, 'business': 772, 'needed': 773, 'run': 774, 'superbly': 775, 'turned': 776, 'problem': 777, 'heaven': 778, 'lives': 779, 'church': 780, 'uplifting': 781, 'frankly': 782, 'lane': 783, 'chick': 784, 'disappointing': 785, 'lousy': 786, 'bring': 787, 'fresh': 788, 'bold': 789, 'helps': 790, 'occupied': 791, 'instead': 792, 'accused': 793, 'edge': 794, 'somewhat': 795, 'afraid': 796, 'advise': 797, 'tremendously': 798, 'sandra': 799, 'bullock': 800, 'supposedly': 801, 'several': 802, 'moments': 803, 'need': 804, 'friends': 805, 'disappointment': 806, 'cannot': 807, 'stand': 808, 'losing': 809, 'iq': 810, 'putting': 811, 'ratings': 812, 'dramatic': 813, 'tension': 814, 'central': 815, 'themes': 816, 'handled': 817, 'pictures': 818, 'flawed': 819, 'core': 820, 'following': 821, 'bunch': 822, 'high': 823, 'hell': 824, 'viewing': 825, 'disaster': 826, 'paid': 827, 'quinn': 828, 'crazy': 829, 'hate': 830, 'yeah': 831, 'disliked': 832, 'five': 833, 'mad': 834, 'cardboard': 835, 'stereotypes': 836, 'predictably': 837, 'crafted': 838, 'depressing': 839, 'racism': 840, 'took': 841, 'redeeming': 842, 'appalling': 843, 'setting': 844, 'explanation': 845, 'era': 846, 'wanted': 847, 'missed': 848, 'step': 849, 'freedom': 850, 'ones': 851, 'received': 852, 'wayne': 853, 'industry': 854, 'selfindulgent': 855, 'noteworthy': 856, 'blood': 857, 'jamie': 858, 'genius': 859, 'owned': 860, 'daughter': 861, 'material': 862, 'goes': 863, 'hence': 864, 'machine': 865, 'flaws': 866, 'mishima': 867, 'uninteresting': 868, 'chilly': 869, 'etc': 870, 'schrader': 871, '80s': 872, 'recently': 873, 'struck': 874, 'contained': 875, 'realistic': 876, 'lacked': 877, 'talent': 878, 'master': 879, 'theme': 880, 'thrilled': 881, 'senses': 882, 'deeply': 883, 'june': 884, 'considering': 885, 'offers': 886, 'mexican': 887, 'matter': 888, 'complex': 889, 'psychological': 890, 'soul': 891, 'water': 892, 'gripping': 893, 'control': 894, 'disturbing': 895, 'jerky': 896, 'sick': 897, 'summary': 898, 'werent': 899, 'witty': 900, 'billy': 901, 'above': 902, 'ceases': 903, 'visually': 904, 'spoiler': 905, 'remaining': 906, 'suffering': 907, 'smile': 908, 'literally': 909, '25': 910, 'unfolds': 911, 'leaves': 912, 'room': 913, 'contrast': 914, 'directed': 915, 'sublime': 916, 'working': 917, 'offensive': 918, 'poetry': 919, 'reviewer': 920, 'masterful': 921, 'pitiful': 922, 'nature': 923, 'female': 924, 'nuts': 925, 'dangerous': 926, 'reactions': 927, 'twist': 928, 'shed': 929, 'forget': 930, 'underneath': 931, 'call': 932, 'assistant': 933, 'laugh': 934, 'super': 935, 'de': 936, 'guy': 937, 'taped': 938, 'likes': 939, 'wholesome': 940, 'ways': 941, 'portraying': 942, 'pleased': 943, 'modern': 944, 'taking': 945, 'scared': 946, 'towards': 947, 'attempts': 948, 'supposed': 949, 'light': 950, 'situation': 951, 'leave': 952, 'bear': 953, 'kinda': 954, 'question': 955, 'lucy': 956, 'wonder': 957, 'photography': 958, 'composition': 959, 'brian': 960, 'son': 961, 'member': 962, 'identify': 963, 'hustons': 964, 'steve': 965, 'robert': 966, 'father': 967, 'murdered': 968, 'humour': 969, 'mother': 970, 'impressed': 971, 'hollywood': 972, 'undoubtedly': 973, 'popular': 974, 'plenty': 975, 'european': 976, '3': 977, '4': 978, 'angel': 979, 'explain': 980, 'junkyard': 981, 'dogs': 982, 'american': 983, 'americans': 984, 'return': 985, 'continuity': 986, 'directorial': 987, 'proud': 988, 'filmmaker': 989, 'sand': 990, 'free': 991, 'player': 992, '110': 993, '010': 994, 'sake': 995, 'jobs': 996, 'weird': 997, 'glance': 998, 'hated': 999, 'odd': 1000, 'wooden': 1001, 'youd': 1002, 'unrecognizable': 1003, 'relations': 1004, 'stanwyck': 1005, 'surprising': 1006, 'entirely': 1007, 'fat': 1008, 'cheesy': 1009, 'poorly': 1010, 'proceedings': 1011, 'remotely': 1012, 'mercy': 1013, 'killing': 1014, 'overacting': 1015, '30': 1016, 'hackneyed': 1017, 'ago': 1018, 'opened': 1019, 'length': 1020, 'air': 1021, 'store': 1022, 'loads': 1023, 'creates': 1024, 'fascinating': 1025, 'doing': 1026, 'humorous': 1027, 'filmed': 1028, 'including': 1029, 'ten': 1030, 'dislike': 1031, 'began': 1032, 'change': 1033, 'season': 1034, 'contains': 1035, 'reality': 1036, 'pull': 1037, '20th': 1038, 'century': 1039, 'implausible': 1040, 'jean': 1041, 'turns': 1042, 'studio': 1043, 'start': 1044, 'betty': 1045, 'aside': 1046, 'lets': 1047, 'mouse': 1048, 'hear': 1049, 'imaginative': 1050, 'among': 1051, 'killer': 1052, 'terribly': 1053, 'deserving': 1054, 'shame': 1055, 'credit': 1056, 'dumb': 1057, 'lighting': 1058, 'notable': 1059, 'past': 1060, 'opening': 1061, 'sequence': 1062, 'credits': 1063, 'sum': 1064, 'due': 1065, 'balance': 1066, 'asleep': 1067, 'cartoons': 1068, 'none': 1069, 'dark': 1070, 'deserved': 1071, 'element': 1072, 'painful': 1073, 'fifteen': 1074, 'volcano': 1075, 'los': 1076, 'angeles': 1077, 'bother': 1078, 'abysmal': 1079, 'vomit': 1080, 'dedication': 1081, 'versus': 1082, 'mature': 1083, 'focus': 1084, 'underlying': 1085, 'exquisite': 1086, 'home': 1087, 'relationships': 1088, 'engaging': 1089, 'masters': 1090, 'christmas': 1091, 'errol': 1092, 'flynn': 1093, 'until': 1094, 'dull': 1095, 'surrounding': 1096, 'excellently': 1097, 'delight': 1098, 'revealing': 1099, 'africa': 1100, 'process': 1101, 'shakespear': 1102, 'macbeth': 1103, 'brief': 1104, 'moral': 1105, 'decay': 1106, 'forces': 1107, 'evil': 1108, 'adaptation': 1109, 'beautifully': 1110, 'costumes': 1111, 'overly': 1112, 'wilkinson': 1113, 'hands': 1114, 'documentaries': 1115, 'joes': 1116, 'stars': 1117, 'watkins': 1118, 'peter': 1119, 'hollow': 1120, 'computer': 1121, 'begin': 1122, 'wall': 1123, 'heard': 1124, 'cole': 1125, 'describe': 1126, 'sleep': 1127, 'achievement': 1128, 'issues': 1129, 'feel': 1130, 'earth': 1131, 'emily': 1132, 'takes': 1133, 'compelling': 1134, 'charming': 1135, 'sentiment': 1136, 'fulci': 1137, 'italian': 1138, '70s': 1139, 'impressive': 1140, 'stay': 1141, 'mark': 1142, 'result': 1143, 'slightest': 1144, 'duet': 1145, 'doctor': 1146, 'scary': 1147, 'courtroom': 1148, 'discovering': 1149, 'paced': 1150, 'understated': 1151, 'basically': 1152, 'neil': 1153, 'dead': 1154, '20': 1155, 'exceptional': 1156, 'childhood': 1157, 'lord': 1158, 'stinks': 1159, 'spoil': 1160, 'references': 1161, 'starts': 1162, 'act': 1163, 'damn': 1164, 'pacing': 1165, 'previous': 1166, 'dreams': 1167, 'uses': 1168, 'speed': 1169, 'guys': 1170, 'loneliness': 1171, 'emilio': 1172, 'interplay': 1173, 'natural': 1174, 'miyazakis': 1175, 'depicts': 1176, 'provoking': 1177, 'ponyo': 1178, 'lange': 1179, 'slowmoving': 1180, 'aimless': 1181, 'distressed': 1182, 'drifting': 1183, 'nearly': 1184, 'attempting': 1185, 'artiness': 1186, 'nonexistent': 1187, 'gerardo': 1188, 'emptiness': 1189, 'effort': 1190, 'messages': 1191, 'buffet': 1192, 'science': 1193, 'teacher': 1194, 'baby': 1195, 'owls': 1196, 'florida': 1197, 'muppets': 1198, 'person': 1199, 'overdue': 1200, 'against': 1201, 'screenplay': 1202, 'postproduction': 1203, 'practically': 1204, 'structure': 1205, 'tightly': 1206, 'constructed': 1207, 'vitally': 1208, 'occurs': 1209, 'content': 1210, 'fill': 1211, 'dozen': 1212, 'highest': 1213, 'superlative': 1214, 'require': 1215, 'puzzlesolving': 1216, 'pulls': 1217, 'punches': 1218, 'number': 1219, 'th': 1220, 'insane': 1221, 'unlockable': 1222, 'properly': 1223, 'aye': 1224, 'rocks': 1225, 'buy': 1226, 'doomed': 1227, 'conception': 1228, 'minor': 1229, 'nonsequel': 1230, 'changing': 1231, 'tone': 1232, 'pgrated': 1233, 'confirm': 1234, 'generic': 1235, 'managed': 1236, 'exaggerating': 1237, 'trailer': 1238, 'carrell': 1239, 'save': 1240, 'costars': 1241, 'fare': 1242, 'freeman': 1243, 'helms': 1244, 'animals': 1245, 'integration': 1246, 'bluegreenscreen': 1247, 'translate': 1248, 'succeeds': 1249, 'meagre': 1250, 'lesser': 1251, 'cancan': 1252, 'boasts': 1253, 'cutest': 1254, 'leading': 1255, 'ladies': 1256, 'headoverheels': 1257, 'insipid': 1258, 'waiting': 1259, 'efforts': 1260, 'heche': 1261, 'sam': 1262, 'shepards': 1263, 'gung': 1264, 'ho': 1265, 'marine': 1266, 'sobering': 1267, 'sat': 1268, 'riveted': 1269, 'resounding': 1270, '9': 1271, 'hanks': 1272, 'voice': 1273, 'fingernails': 1274, 'chalkboard': 1275, 'unnecessary': 1276, 'trainroller': 1277, 'coaster': 1278, 'grates': 1279, 'nerves': 1280, 'improved': 1281, 'improvisation': 1282, 'worry': 1283, 'surroundings': 1284, 'crackles': 1285, 'youthful': 1286, 'concentrate': 1287, 'meanders': 1288, 'builders': 1289, 'cross': 1290, 'g': 1291, 'pg': 1292, 'noncliche': 1293, 'choices': 1294, 'predict': 1295, 'verbatim': 1296, 'selections': 1297, 'gross': 1298, 'chills': 1299, 'nevsky': 1300, 'whoever': 1301, 'lived': 1302, 's': 1303, 'planned': 1304, 'dodge': 1305, 'stratus': 1306, 'help': 1307, 'makers': 1308, 'restrained': 1309, 'qubec': 1310, 'wordofmouth': 1311, 'promote': 1312, 'thoughtprovoking': 1313, 'wellpaced': 1314, 'suited': 1315, 'relatively': 1316, 'blist': 1317, 'horrorsuspense': 1318, 'horrendous': 1319, 'frustration': 1320, 'retarded': 1321, 'girls': 1322, 'manna': 1323, 'evaluate': 1324, 'veteran': 1325, 'nostalgia': 1326, 'trip': 1327, 'ursula': 1328, 'burtons': 1329, 'nun': 1330, 'nuns': 1331, 'musicincluding': 1332, 'shirley': 1333, 'jones': 1334, 'rendition': 1335, 'tonight': 1336, 'cotton': 1337, 'club': 1338, 'unfaithful': 1339, 'gere': 1340, 'dialogs': 1341, 'shallow': 1342, 'insincere': 1343, 'politically': 1344, 'correct': 1345, 'idiotsavant': 1346, 'sister': 1347, 'peaking': 1348, 'paper': 1349, 'columbo': 1350, 'ohsomature': 1351, 'neighbourgirl': 1352, 'misplace': 1353, 'weaker': 1354, 'debated': 1355, 'sack': 1356, 'trumpeter': 1357, 'falsely': 1358, 'murder': 1359, 'applause': 1360, 'prelude': 1361, 'seat': 1362, 'car': 1363, 'villain': 1364, 'michael': 1365, 'ironside': 1366, 'rocked': 1367, 'social': 1368, 'physical': 1369, 'outlets': 1370, 'ben': 1371, 'affleck': 1372, 'leaving': 1373, 'wifetobe': 1374, 'knocked': 1375, 'excruciatingly': 1376, 'wedding': 1377, 'agreed': 1378, 'network': 1379, 'aired': 1380, 'dribble': 1381, 'imdb': 1382, 'numbers': 1383, 'cases': 1384, 'mirrormask': 1385, 'unsatisfactory': 1386, 'inexperience': 1387, 'meant': 1388, 'passed': 1389, 'ineptly': 1390, 'stereotypically': 1391, 'schoolers': 1392, 'whine': 1393, 'cry': 1394, 'relate': 1395, 'sharing': 1396, 'others': 1397, 'confuses': 1398, 'fish': 1399, 'underwater': 1400, 'repeated': 1401, 'thousand': 1402, 'redeemed': 1403, 'mst3k': 1404, 'fodder': 1405, 'treat': 1406, 'anthony': 1407, 'horse': 1408, 'lifeoh': 1409, 'gosh': 1410, 'walk': 1411, 'theatre': 1412, 'relief': 1413, 'pillow': 1414, 'girlfriendboyfriend': 1415, 'gone': 1416, 'tickets': 1417, 'dollars': 1418, '750': 1419, 'identifies': 1420, 'cutouts': 1421, 'reversestereotypes': 1422, 'actorsan': 1423, 'ugly': 1424, 'haggis': 1425, 'handle': 1426, 'strokes': 1427, 'storytellinga': 1428, 'painted': 1429, 'crayons': 1430, 'crash': 1431, 'provokes': 1432, 'emotion': 1433, 'teaches': 1434, 'prejudice': 1435, 'empowerment': 1436, 'shutdown': 1437, 'primal': 1438, 'impulse': 1439, 'selfpreservation': 1440, 'shattered': 1441, 'fully': 1442, 'recover': 1443, 'joins': 1444, 'revenge': 1445, 'boogeyman': 1446, 'zombiez': 1447, 'hellish': 1448, 'trinity': 1449, 'distinction': 1450, 'artless': 1451, 'endlessly': 1452, 'ugliest': 1453, 'ie': 1454, 'is\\x85was': 1455, 'charismafree': 1456, 'merit': 1457, 'akin': 1458, 'reasonable': 1459, 'atrocity': 1460, 'pleasant': 1461, 'voyage': 1462, 'selfdiscovery': 1463, 'unrecommended': 1464, 'ms': 1465, 'garbo': 1466, 'bat': 1467, 'talents': 1468, 'carry': 1469, 'netflix': 1470, 'stocking': 1471, 'renowned': 1472, 'frances': 1473, 'marion': 1474, 'hasnt': 1475, 'suffered': 1476, 'close': 1477, 'drag': 1478, 'heroes': 1479, 'below': 1480, 'shined': 1481, 'senior': 1482, 'older': 1483, 'junk': 1484, 'hadnt': 1485, 'showcasing': 1486, 'punched': 1487, 'gallon': 1488, 'spew': 1489, 'forth': 1490, 'soon': 1491, 'foxx': 1492, 'owns': 1493, 'spacek': 1494, 'coal': 1495, 'miners': 1496, 'quaid': 1497, 'balls': 1498, 'fire': 1499, 'himself': 1500, 'legendary': 1501, 'provided': 1502, 'biographical': 1503, 'musician': 1504, 'ironically': 1505, 'total': 1506, 'secondly': 1507, 'perfected': 1508, 'chase': 1509, 'pandering': 1510, 'sabotages': 1511, 'certain': 1512, 'rumbles': 1513, 'desperately': 1514, 'depending': 1515, 'logic': 1516, 'unremarkable': 1517, 'author': 1518, 'livingworking': 1519, 'abstruse': 1520, 'culture': 1521, 'reenactments': 1522, 'hold': 1523, 'emotionally': 1524, 'adrift': 1525, 'stagy': 1526, 'sits': 1527, 'soldiers': 1528, 'masculinity': 1529, 'pledge': 1530, 'hairsplitting': 1531, 'purity': 1532, 'admiration': 1533, 'swords': 1534, 'kill': 1535, 'momentum': 1536, 'quicker': 1537, 'resume': 1538, 'amateurish': 1539, 'fascinated': 1540, 'inconsistencies': 1541, 'horrid': 1542, 'gotten': 1543, 'ballet': 1544, 'repertory': 1545, 'developments': 1546, 'woa': 1547, 'sappiest': 1548, 'unwatchable': 1549, 'check': 1550, 'filmography': 1551, 'site': 1552, 'chance': 1553, 'intentions': 1554, 'themeat': 1555, 'wouldbe': 1556, 'undertone': 1557, 'fifties': 1558, 'existential': 1559, 'worldweariness': 1560, 'ought': 1561, 'regrettably': 1562, 'expression': 1563, 'celebration': 1564, 'patriotism': 1565, 'underlines': 1566, 'allison': 1567, 'cinematographyif': 1568, 'thatsucked': 1569, 'concert': 1570, 'sequences': 1571, 'ridiculousness': 1572, 'angry': 1573, 'surface': 1574, 'stateoftheart': 1575, 'conceptually': 1576, 'everybody': 1577, 'fantasy': 1578, 'andor': 1579, 'sour': 1580, 'actingwise': 1581, 'considered': 1582, 'thanks': 1583, 'understood': 1584, 'identified': 1585, 'noircrimedrama': 1586, 'belmondo': 1587, 'lino': 1588, 'ventura': 1589, 'portrayals': 1590, 'detailing': 1591, 'loyalty': 1592, 'treachery': 1593, 'tremendous': 1594, 'melville': 1595, 'manages': 1596, 'transcend': 1597, 'limitations': 1598, 'indie': 1599, 'continually': 1600, 'subverting': 1601, 'expectations': 1602, 'emerge': 1603, 'intense': 1604, 'crocdodile': 1605, 'website': 1606, 'believed': 1607, 'crocs': 1608, 'swamp': 1609, 'fabulous': 1610, 'christopher': 1611, 'eccleston': 1612, 'tardis': 1613, 'continuation': 1614, 'succeeded': 1615, 'forced': 1616, 'heres': 1617, 'pied': 1618, 'witticisms': 1619, 'bob': 1620, 'rise': 1621, 'finale': 1622, 'kieslowski': 1623, 'amaze': 1624, 'colours': 1625, 'flag': 1626, 'connections': 1627, 'survivors': 1628, 'ferry': 1629, 'valentine': 1630, 'judge': 1631, 'solidifying': 1632, 'happiness': 1633, 'dealt': 1634, 'wrap': 1635, 'loves': 1636, 'anythinga': 1637, 'vomited': 1638, 'roths': 1639, 'pearls': 1640, 'awarded': 1641, 'eloquently': 1642, 'francis': 1643, 'ford': 1644, 'coppola': 1645, 'gradually': 1646, 'develop': 1647, 'lies': 1648, 'nicolas': 1649, 'roeg': 1650, 'wih': 1651, 'translating': 1652, '5year': 1653, 'strives': 1654, 'greatness': 1655, 'muddled': 1656, 'disparate': 1657, 'accurately': 1658, 'defined': 1659, 'tolerate': 1660, 'political': 1661, 'incorrectness': 1662, 'artistic': 1663, 'suspension': 1664, 'disbelief': 1665, 'slavic': 1666, 'outlandish': 1667, 'array': 1668, 'psychotic': 1669, 'lovable': 1670, 'enjoyment': 1671, 'sweet': 1672, 'telephone': 1673, 'repair': 1674, 'bitchy': 1675, 'boss': 1676, 'tear': 1677, 'malta': 1678, 'settings': 1679, 'dry': 1680, 'barren': 1681, 'hockey': 1682, 'defensemen': 1683, '5': 1684, 'goalies': 1685, 'diving': 1686, 'feet': 1687, 'wide': 1688, 'net': 1689, 'relationship': 1690, 'bakery': 1691, 'waitress': 1692, 'superficial': 1693, 'stagey': 1694, 'farce': 1695, 'pyromaniac': 1696, 'waylaid': 1697, 'switched': 1698, 'pay': 1699, 'once': 1700, 'yawn': 1701, 'educational': 1702, '8': 1703, 'barney': 1704, 'duper': 1705, 'babie': 1706, 'bop': 1707, 'cute': 1708, 'storm': 1709, 'trooper': 1710, 'list': 1711, 'potted': 1712, 'plants': 1713, 'shameful': 1714, 'television': 1715, 'writers': 1716, 'smack': 1717, 'bonus': 1718, 'showthese': 1719, 'episodes': 1720, 'latched': 1721, 'endearing': 1722, 'familys': 1723, 'four': 1724, 'sibling': 1725, 'bond': 1726, 'unneeded': 1727, 'controversy': 1728, 'damian': 1729, 'versatile': 1730, 'cutting': 1731, 'letting': 1732, 'passion': 1733, 'forgetting': 1734, 'ireland': 1735, 'horrified': 1736, 'sympathetic': 1737, 'movements': 1738, 'shelf': 1739, 'elias': 1740, 'koteasjack': 1741, 'palance': 1742, 'angelina': 1743, 'hot': 1744, 'nakedbilly': 1745, 'appears': 1746, 'cameo': 1747, 'sven': 1748, 'ole': 1749, 'thorsen': 1750, 'ebay': 1751, 'poler': 1752, 'cutebut': 1753, 'fort': 1754, 'steele': 1755, 'unrealistic': 1756, 'utter': 1757, '70000': 1758, 'bell': 1759, 'higher': 1760, 'sink': 1761, 'slackers': 1762, 'excuses': 1763, 'actions': 1764, 'excerpts': 1765, 'designed': 1766, 'amazingstylized': 1767, 'exemplars': 1768, 'designer': 1769, 'powerful': 1770, 'explorations': 1771, 'politics': 1772, 'japanese': 1773, 'rendering': 1774, 'americas': 1775, 'imperial': 1776, 'faultless': 1777, 'underappreciated': 1778, 'keith': 1779, 'bully': 1780, 'teddy': 1781, 'vivid': 1782, 'largely': 1783, 'sean': 1784, 'connerys': 1785, 'noble': 1786, 'brigand': 1787, 'candace': 1788, 'bergens': 1789, 'feisty': 1790, 'heroine': 1791, 'wily': 1792, 'hay': 1793, 'kanalys': 1794, 'spiffy': 1795, 'radiant': 1796, 'cando': 1797, 'lieutenant': 1798, 'roosevelts': 1799, 'stick': 1800, 'adventure': 1801, 'ryans': 1802, 'portrayed': 1803, 'schizophrenic': 1804, 'lifemy': 1805, 'affected': 1806, 'apt': 1807, 'brother': 1808, 'thiswhen': 1809, 'ryan': 1810, 'imitation': 1811, 'individual': 1812, 'oldfashioned': 1813, 'tuneful': 1814, 'rita': 1815, 'hayworth': 1816, 'pedestal': 1817, 'exploit': 1818, 'financial': 1819, 'gain': 1820, 'nonlinear': 1821, 'narration': 1822, 'thus': 1823, 'flashbacks': 1824, 'articulated': 1825, 'monica': 1826, 'bellucci': 1827, 'commentary': 1828, 'todays': 1829, 'timers': 1830, 'laughs': 1831, 'feelgood': 1832, 'northern': 1833, 'positive': 1834, 'community': 1835, 'represents': 1836, 'unique': 1837, 'vivian': 1838, 'schilling': 1839, '95': 1840, 'theatres': 1841, 'screamy': 1842, 'masculine': 1843, 'casted': 1844, 'throwback': 1845, 'student': 1846, '1980s': 1847, 'experiences': 1848, 'abroad': 1849, 'interacting': 1850, 'nationalities': 1851, 'circumstances': 1852, 'slightly': 1853, 'ticker': 1854, 'buildings': 1855, 'couple': 1856, 'locations': 1857, 'hummh': 1858, 'blew': 1859, 'excellentangel': 1860, 'adorablehis': 1861, 'yelps': 1862, 'scaredand': 1863, 'funniest': 1864, 'whenscamp': 1865, 'caught': 1866, 'curtain': 1867, 'beforei': 1868, 'movieits': 1869, 'edition': 1870, '20the': 1871, 'lid': 1872, 'romanticcharminghilariousand': 1873, 'adorablethe': 1874, 'funnyall': 1875, 'specialtoo': 1876, 'laughedkids': 1877, 'itbuy': 1878, 'outit': 1879, 'chosen': 1880, 'tortured': 1881, 'disgusting': 1882, 'blatant': 1883, 'propaganda': 1884, 'hatred': 1885, 'admitted': 1886, 'elsewhere': 1887, 'school': 1888, 'pile': 1889, 'round': 1890, 'enter': 1891, 'admins': 1892, 'thunderbirds': 1893, 'slowmotion': 1894, 'needlessly': 1895, 'repeats': 1896, 'backed': 1897, 'vehicles': 1898, 'corn': 1899, 'flakes': 1900, 'box': 1901, 'bordered': 1902, 'stupidity': 1903, 'reviews': 1904, 'nor': 1905, 'hide': 1906, 'monumental': 1907, 'halfway': 1908, 'embarrassed': 1909, 'howell': 1910, 'nutbag': 1911, 'side': 1912, 'stephen': 1913, 'mchattie': 1914, 'lance': 1915, 'hendrikson': 1916, 'raging': 1917, 'cheekbones': 1918, 'actingeven': 1919, 'professionals': 1920, 'debbie': 1921, 'rochonwas': 1922, 'contributory': 1923, 'former': 1924, 'chimplike': 1925, 'tolerable': 1926, 'oyvey': 1927, 'simplifying': 1928, 'brevity': 1929, 'fulfilling': 1930, 'amusing': 1931, 'convoluted': 1932, 'convince': 1933, 'questioning': 1934, 'girlfriend': 1935, '15': 1936, 'bela': 1937, 'lugosi': 1938, 'extraneous': 1939, 'intoning': 1940, 'decidely': 1941, 'universal': 1942, 'b': 1943, 'armand': 1944, 'assante': 1945, 'cable': 1946, 'companys': 1947, 'sounded': 1948, 'tying': 1949, 'loose': 1950, 'ends': 1951, '810': 1952, 'wow': 1953, 'comprehensible': 1954, 'hang': 1955, 'camp': 1956, 'value': 1957, 'expecting': 1958, 'mollusk': 1959, 'loosely': 1960, 'moviegoing': 1961, 'public': 1962, 'string': 1963, 'lower': 1964, 'fox': 1965, 'channel': 1966, 'contract': 1967, 'scripts': 1968, 'victor': 1969, 'mclaglen': 1970, 'donlevy': 1971, 'taylor': 1972, 'president': 1973, 'row': 1974, 'unmoving': 1975, 'taylors': 1976, 'stanwycks': 1977, 'producer': 1978, 'gifted': 1979, 'cheerless': 1980, 'heist': 1981, 'characterisation': 1982, 'underbite': 1983, 'stoic': 1984, 'emoting': 1985, 'chow': 1986, 'yun': 1987, 'tomorrow': 1988, 'abandoned': 1989, 'factory': 1990, 'executed': 1991, 'flying': 1992, 'judo': 1993, 'rolls': 1994, 'la': 1995, 'woo': 1996, 'squibs': 1997, 'america': 1998, 'derivative': 1999, 'hopeless': 2000, 'uneasy': 2001, 'composed': 2002, 'elderly': 2003, 'awkwardly': 2004, 'babbling': 2005, 'overwrought': 2006, 'pseudosatanic': 2007, 'gibberish': 2008, 'corny': 2009, 'teen': 2010, 'goth': 2011, 'blush': 2012, 'olde': 2013, 'english': 2014, 'latin': 2015, 'sloppy': 2016, 'blah': 2017, 'balanced': 2018, 'underacting': 2019, 'wouldve': 2020, 'competent': 2021, 'jerry': 2022, 'falwell': 2023, 'starring': 2024, 'jaclyn': 2025, 'smith': 2026, '12': 2027, 'allstar': 2028, 'lifetime': 2029, 'knows': 2030, 'sells': 2031, 'musthave': 2032, 'assaulted': 2033, 'strident': 2034, 'cords': 2035, 'blare': 2036, 'warning': 2037, 'pap': 2038, 'screened': 2039, 'afternoon': 2040, 'punish': 2041, 'unemployed': 2042, 'understatement': 2043, 'universe': 2044, 'team': 2045, 'behind': 2046, 'continue': 2047, 'forgot': 2048, 'trond': 2049, 'fausa': 2050, 'aurvg': 2051, 'bothersome': 2052, 'comment': 2053, '2006': 2054, 'move': 2055, 'initially': 2056, 'local': 2057, 'sites': 2058, 'buffalo': 2059, 'intrigued': 2060, 'later': 2061, 'power': 2062, 'applauded': 2063, 'lilt': 2064, 'duris': 2065, 'views': 2066, 'barcelona': 2067, 'famed': 2068, 'gaudi': 2069, 'towers': 2070, 'thoughts': 2071, 'ended': 2072, 'despised': 2073, 'rough': 2074, 'draft': 2075, 'shooting': 2076, 'finished': 2077, 'completed': 2078, 'personalities': 2079, 'twists': 2080, 'occur': 2081, 'calls': 2082, 'irritating': 2083, 'indescribably': 2084, 'idiotic': 2085, 'idiot': 2086, 'produce': 2087, 'cheesiness': 2088, 'unethical': 2089, 'normally': 2090, 'rated': 2091, 'r': 2092, 'nc17': 2093, 'zillion': 2094, 'washing': 2095, 'twirling': 2096, 'hurt': 2097, 'grade': 2098, 'z': 2099, 'foxs': 2100, 'road': 2101, '1948': 2102, 'silly': 2103, 'noir': 2104, 'unmitigated': 2105, 'blandly': 2106, 'edward': 2107, 'chodorov': 2108, 'negulesco': 2109, 'deal': 2110, 'widmark': 2111, 'unintentionally': 2112, 'comical': 2113, 'marbles': 2114, 'marred': 2115, 'constant': 2116, 'indoor': 2117, 'exteriors': 2118, 'prompted': 2119, 'middleaged': 2120, 'upper': 2121, 'class': 2122, 'uptight': 2123, 'add': 2124, 'mistakes': 2125, 'jokes': 2126, 'offend': 2127, 'littered': 2128, 'overt': 2129, 'slurs': 2130, 'members': 2131, 'whites': 2132, 'depicted': 2133, 'morons': 2134, 'boobs': 2135, 'card': 2136, 'major': 2137, 'flaw': 2138, 'destroy': 2139, 'latifas': 2140, 'steamboat': 2141, 'willie': 2142, 'amazingly': 2143, 'plane': 2144, 'famous': 2145, 'filmmostly': 2146, 'groundbreaking': 2147, 'tons': 2148, 'filmsomething': 2149, 'granted': 2150, 'crowd': 2151, 'pleaser': 2152, '1928': 2153, 'amazed': 2154, 'timeless': 2155, 'turkey': 2156, 'straw': 2157, 'cruel': 2158, 'crowdpleaserthis': 2159, 'mickeys': 2160, '80': 2161, 'bipolarity': 2162, 'thug': 2163, 'luvs': 2164, 'diaper': 2165, 'commercial': 2166, 'receive': 2167, 'awards': 2168, 'accolades': 2169, 'body': 2170, '1947': 2171, 'garfield': 2172, 'ann': 2173, 'revere': 2174, 'lilli': 2175, 'plmer': 2176, 'william': 2177, 'conrad': 2178, 'leeand': 2179, 'cinematographers': 2180, 'screenjames': 2181, 'wong': 2182, 'howe': 2183, 'qualities': 2184, 'badwellits': 2185, 'thomerson': 2186, '1986': 2187, 'version': 2188, 'problemsthe': 2189, 'professor': 2190, 'established': 2191, 'zombiestudents': 2192, 'humans': 2193, 'removing': 2194, 'necklace': 2195, 'containing': 2196, 'meteorite': 2197, 'matthews': 2198, 'wrotedirected': 2199, '1995': 2200, 'monster': 2201, 'grim': 2202, 'pace': 2203, 'bland': 2204, 'aspects': 2205, 'lack': 2206, 'gore': 2207, 'convention': 2208, 'worked': 2209, 'cg': 2210, 'microsoft': 2211, 'slideshow': 2212, 'gods': 2213, 'explosion': 2214, 'gas': 2215, 'tanks': 2216, 'okay': 2217, 'fair': 2218, 'critic': 2219, 'duethe': 2220, 'creature': 2221, 'gotta': 2222, 'closeups': 2223, 'slimy': 2224, 'drooling': 2225, 'teeth': 2226, 'breeders': 2227, 'cheaply': 2228, 'avoided': 2229, 'ebola': 2230, 'virus': 2231, 'unbearable': 2232, 'charisma': 2233, 'comedic': 2234, 'timing': 2235, 'debits': 2236, 'popcorn': 2237, 'borders': 2238, 'lewis': 2239, 'blacks': 2240, 'considerable': 2241, 'incendiary': 2242, 'unrestrained': 2243, 'allow': 2244, 'sole': 2245, 'bright': 2246, 'spot': 2247, 'superbad': 2248, 'weight': 2249, 'interim': 2250, 'originality': 2251, 'freshness': 2252, 'offer': 2253, 'evidently': 2254, 'limited': 2255, 'reflected': 2256, 'belowpar': 2257, 'borrowed': 2258, 'filmiing': 2259, 'expansive': 2260, 'failed': 2261, 'convey': 2262, 'broad': 2263, 'sweep': 2264, 'landscapes': 2265, 'sign': 2266, 'improvement': 2267, 'expected': 2268, 'beware': 2269, 'trashy': 2270, 'sequel': 2271, 'precisely': 2272, 'giving': 2273, 'proudly': 2274, 'classical': 2275, 'wb': 2276, 'tiny': 2277, 'toons': 2278, 'kept': 2279, 'vibe': 2280, 'delivered': 2281, 'underrated': 2282, 'murky': 2283, 'product': 2284, 'related': 2285, 'tender': 2286, 'getting': 2287, 'sitcoms': 2288, 'oriented': 2289, 'teenagers': 2290, 'peculiarity': 2291, 'excessively': 2292, 'phony': 2293, 'contrived': 2294, 'sit': 2295, 'um': 2296, 'perabo': 2297, 'comfortable': 2298, 'excuse': 2299, 'honest': 2300, 'foolish': 2301, 'accents': 2302, 'hypocrisy': 2303, 'rubbish': 2304, 'nonresearched': 2305, 'pitch': 2306, 'longer': 2307, 'surprised': 2308, 'omit': 2309, 'instant': 2310, 'catchy': 2311, 'miss': 2312, 'simmering': 2313, 'boiling': 2314, 'warts': 2315, 'study': 2316, 'poets': 2317, 'bohemian': 2318, 'wartime': 2319, 'span': 2320, 'bombardments': 2321, 'london': 2322, 'outward': 2323, 'tranquillity': 2324, 'welsh': 2325, 'coastal': 2326, 'retreat': 2327, 'borderlines': 2328, 'friendship': 2329, 'lust': 2330, 'practical': 2331, 'concerns': 2332, 'jealousy': 2333, 'rivalry': 2334, 'cowardice': 2335, 'egotism': 2336, 'heroism': 2337, 'selfsacrifice': 2338, 'suggests': 2339, 'brings': 2340, 'tensions': 2341, 'served': 2342, 'apart': 2343, 'inappropriate': 2344, 'smiling': 2345, 'keira': 2346, 'knightley': 2347, 'prone': 2348, 'inventive': 2349, 'elegant': 2350, 'closeup': 2351, 'angle': 2352, 'pointillistic': 2353, 'behold': 2354, 'continuously': 2355, 'bertolucci': 2356, 'basic': 2357, 'sidelined': 2358, 'inexplicable': 2359, 'crew': 2360, 'regardless': 2361, 'custer': 2362, 'alongside': 2363, 'olivia': 2364, 'havilland': 2365, 'known': 2366, 'dads': 2367, 'grew': 2368, 'realised': 2369, 'jim': 2370, 'oconnor': 2371, 'energetic': 2372, 'george': 2373, 'hosting': 2374, 'voiceovers': 2375, 'monotonous': 2376, 'guests': 2377, 'shenanigans': 2378, 'spy': 2379, 'kidnapped': 2380, 'nasty': 2381, 'foreign': 2382, 'random': 2383, 'taxidermists': 2384, 'stewart': 2385, 'hero': 2386, 'rips': 2387, 'climax': 2388, 'embassy': 2389, 'function': 2390, 'brooding': 2391, 'menace': 2392, 'hitchcocks': 2393, 'lowbudget': 2394, 'nevertheless': 2395, 'stable': 2396, 'tops': 2397, 'typical': 2398, 'sci': 2399, 'fi': 2400, 'scifis': 2401, 'producers': 2402, 'scot': 2403, 'vandiver': 2404, 'nonetheless': 2405, 'campy': 2406, 'mindbendingly': 2407, 'scares': 2408, 'medical': 2409, 'terminology': 2410, 'iffy': 2411, 'insulin': 2412, 'dependant': 2413, 'diabetic': 2414, 'complexity': 2415, 'task': 2416, 'challenges': 2417, 'facing': 2418, 'outside': 2419, 'attempted': 2420, 'truth': 2421, 'reconciliation': 2422, 'magnificent': 2423, 'photographycinematography': 2424, 'seamlessly': 2425, 'woven': 2426, 'splendid': 2427, 'view': 2428, 'subtitles': 2429, 'aversion': 2430, 'therapy': 2431, 'jason': 2432, 'connery': 2433, 'moved': 2434, 'tears': 2435, 'monolog': 2436, 'candle': 2437, 'outhe': 2438, 'sphere': 2439, 'helen': 2440, 'baxendale': 2441, 'credible': 2442, 'lady': 2443, 'cheerfull': 2444, 'naughty': 2445, 'deadly': 2446, 'taste': 2447, 'shakespears': 2448, 'lyrics': 2449, 'delightful': 2450, 'dr': 2451, 'seuss': 2452, 'brilliantly': 2453, 'animated': 2454, 'upas': 2455, 'finest': 2456, 'academy': 2457, 'award': 2458, 'integral': 2459, 'helping': 2460, 'baileys': 2461, 'crisp': 2462, 'colored': 2463, 'design': 2464, 'eiko': 2465, 'ishioka': 2466, 'went': 2467, 'coppolas': 2468, 'dracula': 2469, 'allowing': 2470, '1971': 2471, 'format': 2472, 'miniseries': 2473, 'baaaaaad': 2474, 'unless': 2475, 'collect': 2476, 'extant': 2477, 'austens': 2478, 'skip': 2479, 'consolations': 2480, 'annes': 2481, 'speaking': 2482, 'unbearably': 2483, 'kitchy': 2484, 'dropped': 2485, 'ball': 2486, 'raw': 2487, 'sublimely': 2488, 'theatrical': 2489, 'everyones': 2490, 'terror': 2491, 'lie': 2492, 'escalating': 2493, 'monstrous': 2494, 'consequences': 2495, 'players': 2496, 'mesmerising': 2497, 'broke': 2498, 'elses': 2499, 'judging': 2500, 'fumbling': 2501, 'hankies': 2502, 'faces': 2503, 'males': 2504, 'females': 2505, 'alike': 2506, 'julian': 2507, 'fellowes': 2508, 'triumphed': 2509, 'national': 2510, 'treasure': 2511, 'welldone': 2512, 'phrase': 2513, 'owed': 2514, 'kris': 2515, 'kristoffersen': 2516, 'difference': 2517, 'marriage': 2518, 'errors': 2519, 'user': 2520, 'commented': 2521, 'cars': 2522, 'garage': 2523, 'glassesthe': 2524, 'facial': 2525, 'hair': 2526, 'configuration': 2527, 'inspiration': 2528, 'overcome': 2529, 'rejection': 2530, 'punishment': 2531, 'park': 2532, 'southern': 2533, 'california': 2534, 'desert': 2535, 'using': 2536, 'patent': 2537, 'accessible': 2538, 'miserable': 2539, 'angela': 2540, 'bennett': 2541, 'expert': 2542, 'pretext': 2543, 'repeating': 2544, 'robotic': 2545, 'moves': 2546, 'results': 2547, 'delete': 2548, 'ass': 2549, 'comments': 2550, 'uncalled': 2551, 'geek': 2552, 'bible': 2553, 'thumper': 2554, 'badass': 2555, 'except': 2556, 'mouth': 2557, 'pulling': 2558, 'plug': 2559, 'equivalent': 2560, 'dickens': 2561, 'carol': 2562, 'sensibility': 2563, 'success': 2564, 'depends': 2565, 'sydney': 2566, 'greenstreet': 2567, 'yardley': 2568, 'attractive': 2569, 'eyepleasing': 2570, 'rpg': 2571, 'disgrace': 2572, 'selfrespecting': 2573, 'rpger': 2574, 'cuts': 2575, 'audio': 2576, 'youtube': 2577, 'lassie': 2578, 'forever': 2579, 'painfully': 2580, 'dreary': 2581, 'timewaster': 2582, 'becomes': 2583, 'forgettable': 2584, 'sobaditsgood': 2585, 'sobaditsmemorable': 2586, 'shell': 2587, 'wasting': 2588, 'barking': 2589, 'transfers': 2590, 'relaxing': 2591, 'late': 2592, 'title': 2593, 'handles': 2594, 'tough': 2595, 'dignity': 2596, 'shocking': 2597, 'happy': 2598, 'touches': 2599, 'whenever': 2600, 'tvnever': 2601, 'memorized': 2602, 'pair': 2603, 'fishnet': 2604, 'stockings': 2605, 'astonishingly': 2606, 'ham': 2607, 'fisted': 2608, 'irons': 2609, 'holds': 2610, 'watson': 2611, 'unconditional': 2612, 'wilkinsons': 2613, 'prepared': 2614, 'ordeal': 2615, 'hand': 2616, 'progresses': 2617, 'anguish': 2618, 'watsons': 2619, 'quick': 2620, 'pans': 2621, 'reviewers': 2622, 'interview': 2623, 'vampire': 2624, 'lestat': 2625, 'stuart': 2626, 'townsend': 2627, 'cruises': 2628, 'aailiyah': 2629, 'akasha': 2630, 'entrance': 2631, 'mini': 2632, 'rices': 2633, 'sensitivities': 2634, 'treatments': 2635, 'details': 2636, 'dysfunctionhe': 2637, 'football': 2638, 'perplexing': 2639, 'skilled': 2640, 'meredith': 2641, 'm': 2642, 'rare': 2643, 'worthy': 2644, 'trap': 2645, 'syrupy': 2646, 'indulgent': 2647, 'nine': 2648, 'goremeister': 2649, 'lucio': 2650, 'subgenre': 2651, 'thrillers': 2652, 'standout': 2653, 'unpleasant': 2654, 'technically': 2655, 'riz': 2656, 'ortolani': 2657, 'recurring': 2658, 'unaccompanied': 2659, 'vocal': 2660, 'sounds': 2661, 'distant': 2662, 'wild': 2663, 'stuff': 2664, 'dustin': 2665, 'hoffmans': 2666, 'personally': 2667, 'compromise': 2668, 'self': 2669, 'involving': 2670, 'issue': 2671, 'tired': 2672, 'thick': 2673, 'ps': 2674, 'finds': 2675, 'blown': 2676, 'effect': 2677, 'jennifer': 2678, 'rubin': 2679, 'harris': 2680, 'changes': 2681, 'nervous': 2682, 'starlet': 2683, 'strange': 2684, 'events': 2685, 'inside': 2686, 'situations': 2687, 'coach': 2688, 'snow': 2689, 'ultracheap': 2690, 'exciting': 2691, 'uniqueness': 2692, 'foreigner': 2693, '1973': 2694, 'stranger': 2695, 'astronaut': 2696, 'exchange': 2697, 'considers': 2698, 'cold': 2699, 'astronauts': 2700, 'biggest': 2701, 'crashed': 2702, 'ussr': 2703, 'scream': 2704, 'scare': 2705, 'extraordinary': 2706, 'indictment': 2707, 'justice': 2708, 'system': 2709, 'highlights': 2710, 'fundamental': 2711, 'legal': 2712, 'guilt': 2713, 'innocence': 2714, 'court': 2715, 'routine': 2716, 'factbased': 2717, 'boost': 2718, 'clear': 2719, 'range': 2720, 'carries': 2721, 'constantine': 2722, 'intensity': 2723, 'understanding': 2724, 'motivations': 2725, 'inspiring': 2726, 'video': 2727, 'etcits': 2728, 'stinker': 2729, 'smells': 2730, 'directtovideo': 2731, 'release': 2732, 'trek': 2733, 'v': 2734, 'frontier': 2735, 'includes': 2736, 'shatner': 2737, 'nimoy': 2738, 'washed': 2739, 'tacky': 2740, 'spock': 2741, 'rescue': 2742, 'kirk': 2743, 'jet': 2744, 'pack': 2745, 'falls': 2746, 'mountain': 2747, 'humor': 2748, 'dosent': 2749, 'involves': 2750, 'vulcan': 2751, 'stealing': 2752, 'enterprise': 2753, 'uhura': 2754, 'belly': 2755, 'distract': 2756, 'male': 2757, 'guards': 2758, 'phenomenal': 2759, 'opinion': 2760, 'subjects': 2761, 'jay': 2762, 'adams': 2763, 'unfortunate': 2764, 'subject': 2765, 'evokes': 2766, 'grainy': 2767, 'enhanced': 2768, 'delights': 2769, 'surprises': 2770, 'achille': 2771, 'philippa': 2772, 'sing': 2773, 'don': 2774, 'giovanni': 2775, 'describes': 2776, 'layers': 2777, '18th': 2778, 'jutland': 2779, 'instruments': 2780, 'touch': 2781, 'general': 2782, 'loewenhielms': 2783, 'partaking': 2784, 'cailles': 2785, 'en': 2786, 'sarcophage': 2787, 'sample': 2788, 'savor': 2789, 'lasting': 2790, 'impression': 2791, 'generates': 2792, 'austere': 2793, 'backdrop': 2794, 'wanting': 2795, 'notch': 2796, 'fleshed': 2797, 'grimes': 2798, 'blake': 2799, 'deliver': 2800, 'sharply': 2801, 'scripted': 2802, 'deadpan': 2803, 'tongue': 2804, 'cheek': 2805, 'angus': 2806, 'scrimm': 2807, 'gently': 2808, 'menacing': 2809, 'violinplaying': 2810, 'anatomist': 2811, 'entertained': 2812, 'struggle': 2813, 'phantasm': 2814, 'falling': 2815, '40': 2816, '1949': 2817, 'collective': 2818, 'heads': 2819, 'concerning': 2820, 'kudos': 2821, 'lesserknown': 2822, 'superintelligent': 2823, 'modest': 2824, 'juano': 2825, 'hernandez': 2826, 'supporting': 2827, 'murdering': 2828, 'trumbull': 2829, 'chanceit': 2830, 'open': 2831, '50': 2832, 'reminded': 2833, 'huston': 2834, 'evinced': 2835, 'faithful': 2836, 'joyces': 2837, 'acclaimed': 2838, 'novella': 2839, 'feelings': 2840, 'thoughtsgabriels': 2841, 'discomfort': 2842, 'danceall': 2843, 'intangibles': 2844, 'leap': 2845, 'within': 2846, 'viewers': 2847, 'grasp': 2848, 'wondered': 2849, 'shortlist': 2850, 'emperor': 2851, 'spend': 2852, 'days': 2853, 'bigbudget': 2854, 'surely': 2855, 'coherent': 2856, 'force': 2857, 'obliged': 2858, 'creative': 2859, 'confusing': 2860, 'subplots': 2861, 'native': 2862, 'eating': 2863, 'beall': 2864, 'endall': 2865, 'brainsucking': 2866, 'further': 2867, 'nut': 2868, 'telly': 2869, 'savalas': 2870, 'boyle': 2871, '54': 2872, 'sheer': 2873, 'tedium': 2874, 'melodrama': 2875, 'sinking': 2876, 'imagine': 2877, 'decisions': 2878, 'atrocious': 2879, 'trouble': 2880, 'impossible': 2881, 'establish': 2882, 'subplot': 2883, 'follows': 2884, 'band': 2885, 'latterday': 2886, 'mansonites': 2887, 'reporter': 2888, 'whos': 2889, 'anniversary': 2890, 'killings': 2891, 'indication': 2892, 'meld': 2893, 'volatile': 2894, 'temperaments': 2895, 'seamless': 2896, 'union': 2897, 'creativity': 2898, 'powerhouse': 2899, 'timely': 2900, 'cultures': 2901, 'fascination': 2902, 'celebrity': 2903, 'distorted': 2904, 'interpretations': 2905, 'fame': 2906, 'forgotten': 2907, 'kevin': 2908, 'spacey': 2909, 'verbal': 2910, 'tsunami': 2911, 'buddy': 2912, 'ackerman': 2913, 'scripting': 2914, 'unmatched': 2915, 'ages': 2916, 'younger': 2917, 'galley': 2918, 'pm': 2919, '8pm': 2920, '815pm': 2921, 'forwarded': 2922, 'horrendously': 2923, 'buildup': 2924, 'captain': 2925, 'howdy': 2926, 'says': 2927, 'semi': 2928, 'truck': 2929, 'linda': 2930, 'cardellini': 2931, 'shes': 2932, 'poised': 2933, 'dee': 2934, 'snider': 2935, 'villains': 2936, 'suck': 2937, 'tries': 2938, 'sophisticated': 2939, 'thrillerhorror': 2940, 'miserably': 2941, 'unoriginal': 2942, 'cinematic': 2943, 'captured': 2944, 'celluloid': 2945, 'stayed': 2946, 'supernatural': 2947, 'zombie': 2948, 'consistent': 2949, 'thread': 2950, 'holding': 2951, 'leni': 2952, 'parker': 2953, 'anita': 2954, 'laselva': 2955, 'taelons': 2956, 'quiet': 2957, 'idealogical': 2958, 'mainly': 2959, 'centers': 2960, 'atmosphere': 2961, 'puppet': 2962, 'flicks': 2963, 'explains': 2964, 'sinister': 2965, 'origins': 2966, 'insomniacs': 2967, 'heartwarming': 2968, 'chasing': 2969, 'nurse': 2970, 'unpredictability': 2971, 'labute': 2972, 'brutal': 2973, 'violence': 2974, 'seperate': 2975, 'otherwise': 2976, 'sorry': 2977, 'boringpointless': 2978, 'secondary': 2979, 'incomprehensible': 2980, 'relation': 2981, 'primary': 2982, 'mystifying': 2983, 'shelves': 2984, 'doubt': 2985, 'moviemaking': 2986, 'warn': 2987, 'youdo': 2988, 'dumbest': 2989, 'hbo': 2990, 'realize': 2991, 'hopefully': 2992, 'cox': 2993, 'feature': 2994, 'win': 2995, 'agree': 2996, 'jessica': 2997, 'onedimensional': 2998, 'elaborately': 2999, 'aesthetically': 3000, 'sculpture': 3001, 'soap': 3002, 'operas': 3003, 'hip': 3004, 'prays': 3005, 'hype': 3006, 'charismatic': 3007, 'paolo': 3008, 'sorrentino': 3009, 'tony': 3010, 'built': 3011, 'unforgettable': 3012, 'titta': 3013, 'di': 3014, 'girolamo': 3015, 'vision': 3016, '910': 3017, 'estevezs': 3018, 'debut': 3019, 'development': 3020, 'estevez': 3021, 'suggest': 3022, 'eye': 3023, 'street': 3024, 'charlie': 3025, 'kathy': 3026, 'bates': 3027, 'desperation': 3028, 'escapism': 3029, 'variation': 3030, 'fields': 3031, 'readers': 3032, 'worthwhile': 3033, 'condescends': 3034, 'hearts': 3035, 'greatespecially': 3036, 'arts': 3037, 'daughters': 3038, 'paint': 3039, 'photograph': 3040, 'poignant': 3041, 'movieit': 3042, 'realized': 3043, 'closed': 3044, 'alert': 3045, 'decipher': 3046, 'meanings': 3047, 'matrix': 3048, 'sequels': 3049, 'mindblowing': 3050, 'dream': 3051, 'rickman': 3052, 'stowe': 3053, 'hilt': 3054, 'childrens': 3055, 'subversive': 3056, 'tract': 3057, 'gloriously': 3058, 'fairly': 3059, 'accurate': 3060, 'raver': 3061, 'idyllic': 3062, 'downs': 3063, 'groove': 3064, 'antithesis': 3065, 'traffic': 3066, 'crowes': 3067, 'wed': 3068, 'subpar': 3069, 'picked': 3070, 'government': 3071, 'scientist': 3072, 'argued': 3073, 'humanity': 3074, 'reasons': 3075, 'gadget': 3076, 'dwight': 3077, 'schultz': 3078, 'sincere': 3079, 'onscreen': 3080, 'critical': 3081, 'gorman': 3082, 'bechard': 3083, 'homework': 3084, 'characterage': 3085, 'appropriate': 3086, 'captures': 3087, 'essence': 3088, 'track': 3089, 'commands': 3090, 'contributing': 3091, 'seeing\\x85': 3092, 'threshold': 3093, 'hayao': 3094, 'latest': 3095, 'eighth': 3096, 'ghibili': 3097, 'gake': 3098, 'ue': 3099, 'cliff': 3100, 'dominated': 3101, 'disneypixars': 3102, 'cgi': 3103, 'refreshing': 3104, 'comforting': 3105, 'miyazaki': 3106, 'relying': 3107, 'traditional': 3108, 'handdrawn': 3109, 'enchanting': 3110, 'remarkable': 3111, 'crayonpencil': 3112, 'drawings': 3113, 'colorful': 3114, 'fanciful': 3115, 'drift': 3116, 'wants': 3117, 'surf': 3118, 'wave': 3119, '1998': 3120, 'deep': 3121, 'impact': 3122, 'armageddon': 3123, 'everywhere': 3124, 'choked': 3125, 'worthless': 3126, 'youve': 3127, 'yourself': 3128, 'vessel': 3129, 'taken': 3130, 'mighty': 3131, 'frost': 3132, 'added': 3133, 'bonuses': 3134, 'fest': 3135, 'spoiled': 3136, 'brat': 3137, 'babysitting': 3138, 'sundays': 3139, 'march': 3140, '2005': 3141, 'judith': 3142, 'favorite': 3143, 'sad': 3144, 'cutie': 3145, 'confidence': 3146, 'wellbalanced': 3147, 'riot': 3148, 'hugo': 3149, 'weaving': 3150, 'sexobsessed': 3151, 'gay': 3152, 'estate': 3153, 'salesman': 3154, 'clients': 3155, 'houses': 3156, 'trysts': 3157, 'flaming': 3158, 'darren': 3159, 'hollander': 3160, 'anyway': 3161, 'flowed': 3162, 'smoothly': 3163, 'malebonding': 3164, 'hoot': 3165, 'cat': 3166, 'n': 3167, 'genre': 3168, 'faster': 3169, 'jessice': 3170, 'clothes': 3171, 'virtue': 3172, 'regrettable': 3173, 'exceptionally': 3174}\n"
     ]
    }
   ],
   "source": [
    "#print word index\n",
    "print(tokenizer.word_index)"
   ]
  },
  {
   "cell_type": "code",
   "execution_count": 19,
   "id": "288410ac-b1d2-4d3f-ba69-37ea18b9cea7",
   "metadata": {},
   "outputs": [],
   "source": [
    "#Tokenize\n",
    "from tensorflow.keras.preprocessing.text import Tokenizer\n",
    "from tensorflow.keras.preprocessing.sequence import pad_sequences\n",
    "tokenizer = Tokenizer(oov_token=\"<OOV>\")"
   ]
  },
  {
   "cell_type": "code",
   "execution_count": 20,
   "id": "82a2da04-01a0-439f-aa31-21cba219a8c7",
   "metadata": {},
   "outputs": [],
   "source": [
    "#Splitting the data set\n",
    "split = round(len(df)*0.8)\n",
    "X_train = df['review'][:split]\n",
    "y_train = df['sentiment'][:split]\n",
    "X_test = df['review'][split:]\n",
    "y_test = df['sentiment'][split:]"
   ]
  },
  {
   "cell_type": "code",
   "execution_count": 21,
   "id": "72cd432d-03ed-4729-b411-b169c0e76c72",
   "metadata": {},
   "outputs": [],
   "source": [
    "#Convert reviews to string\n",
    "#If there are any reviews that are not strings, we will get errors later on\n",
    "training_sentences = []\n",
    "training_labels = []\n",
    "testing_sentences = []\n",
    "testing_labels = []\n",
    "for row in X_train:\n",
    "    training_sentences.append(str(row))\n",
    "for row in y_train:\n",
    "    training_labels.append(row)\n",
    "for row in X_test:\n",
    "    testing_sentences.append(str(row))\n",
    "for row in y_test:\n",
    "    testing_labels.append(row)"
   ]
  },
  {
   "cell_type": "code",
   "execution_count": 22,
   "id": "56665699-1980-40e0-b1d5-6b4bf5619a13",
   "metadata": {},
   "outputs": [],
   "source": [
    "#Padding\n",
    "vocab_size = 3175\n",
    "embedding_dim = 8\n",
    "max_length = 22\n",
    "trunc_type = 'post'\n",
    "oov_tok = '<OOV>'\n",
    "padding_type = 'post'"
   ]
  },
  {
   "cell_type": "code",
   "execution_count": 23,
   "id": "cdc95bda-c814-46cc-b50e-ae3f85dc8722",
   "metadata": {},
   "outputs": [],
   "source": [
    "#Tokenization\n",
    "tokenizer = Tokenizer(num_words=vocab_size, oov_token=oov_tok)\n",
    "tokenizer.fit_on_texts(training_sentences)\n",
    "word_index = tokenizer.word_index"
   ]
  },
  {
   "cell_type": "code",
   "execution_count": 24,
   "id": "6aa52d84-806d-487d-8012-5db1f92ee6bc",
   "metadata": {},
   "outputs": [],
   "source": [
    "#Convert sentences into the sequences of words & then pads\n",
    "sequences = tokenizer.texts_to_sequences(training_sentences)\n",
    "padded = pad_sequences(sequences, maxlen=max_length, truncating=trunc_type)\n",
    "testing_sentences = tokenizer.texts_to_sequences(testing_sentences)\n",
    "testing_padded = pad_sequences(testing_sentences, maxlen=max_length)"
   ]
  },
  {
   "cell_type": "code",
   "execution_count": 38,
   "id": "de79679c-8df0-4797-bc54-2445cf42715c",
   "metadata": {},
   "outputs": [],
   "source": [
    "#Save data sets\n",
    "pd.DataFrame(df).to_csv('D213TaskTwo_df.csv')\n",
    "pd.DataFrame(training_sentences).to_csv('training_sentences.csv')\n",
    "pd.DataFrame(training_labels).to_csv('train_labels.csv')\n",
    "pd.DataFrame(testing_sentences).to_csv('test_sentences.csv')\n",
    "pd.DataFrame(testing_labels).to_csv('testing_labels.csv')"
   ]
  },
  {
   "cell_type": "code",
   "execution_count": 25,
   "id": "3b66aa19-035b-4b4a-aee7-742da1bc0407",
   "metadata": {
    "tags": []
   },
   "outputs": [
    {
     "name": "stderr",
     "output_type": "stream",
     "text": [
      "2022-09-24 11:51:04.119630: I tensorflow/core/platform/cpu_feature_guard.cc:193] This TensorFlow binary is optimized with oneAPI Deep Neural Network Library (oneDNN) to use the following CPU instructions in performance-critical operations:  AVX2 FMA\n",
      "To enable them in other operations, rebuild TensorFlow with the appropriate compiler flags.\n"
     ]
    }
   ],
   "source": [
    "#Model Development\n",
    "model = tf.keras.Sequential([\n",
    "    tf.keras.layers.Embedding(vocab_size, embedding_dim, input_length=max_length),\n",
    "    tf.keras.layers.GlobalAveragePooling1D(),\n",
    "    tf.keras.layers.Dense(6, activation='relu'),\n",
    "    tf.keras.layers.Dense(1, activation='sigmoid')\n",
    "])"
   ]
  },
  {
   "cell_type": "code",
   "execution_count": 26,
   "id": "b841062e-6ee1-4c63-91f0-ff1cfd6cc731",
   "metadata": {},
   "outputs": [],
   "source": [
    "#Compile the model\n",
    "model.compile(loss='binary_crossentropy', optimizer='adam', metrics=['accuracy'])"
   ]
  },
  {
   "cell_type": "code",
   "execution_count": 27,
   "id": "3ac76641-0662-4968-8e66-5a559a674841",
   "metadata": {},
   "outputs": [
    {
     "name": "stdout",
     "output_type": "stream",
     "text": [
      "Model: \"sequential\"\n",
      "_________________________________________________________________\n",
      " Layer (type)                Output Shape              Param #   \n",
      "=================================================================\n",
      " embedding (Embedding)       (None, 22, 8)             25400     \n",
      "                                                                 \n",
      " global_average_pooling1d (G  (None, 8)                0         \n",
      " lobalAveragePooling1D)                                          \n",
      "                                                                 \n",
      " dense (Dense)               (None, 6)                 54        \n",
      "                                                                 \n",
      " dense_1 (Dense)             (None, 1)                 7         \n",
      "                                                                 \n",
      "=================================================================\n",
      "Total params: 25,461\n",
      "Trainable params: 25,461\n",
      "Non-trainable params: 0\n",
      "_________________________________________________________________\n"
     ]
    }
   ],
   "source": [
    "#View model summary\n",
    "model.summary()"
   ]
  },
  {
   "cell_type": "code",
   "execution_count": 28,
   "id": "b980a149-bc4c-479b-b85a-ba121d242024",
   "metadata": {},
   "outputs": [],
   "source": [
    "#Model\n",
    "training_labels_final = np.array(training_labels)\n",
    "testing_labels_final = np.array(testing_labels)"
   ]
  },
  {
   "cell_type": "code",
   "execution_count": 29,
   "id": "8399c592-20bf-48e5-9654-3e7773f1857a",
   "metadata": {},
   "outputs": [
    {
     "name": "stdout",
     "output_type": "stream",
     "text": [
      "Epoch 1/50\n",
      "19/19 [==============================] - 2s 15ms/step - loss: 0.6928 - accuracy: 0.5084 - val_loss: 0.6957 - val_accuracy: 0.3267\n",
      "Epoch 2/50\n",
      "19/19 [==============================] - 0s 6ms/step - loss: 0.6913 - accuracy: 0.5234 - val_loss: 0.6953 - val_accuracy: 0.3333\n",
      "Epoch 3/50\n",
      "19/19 [==============================] - 0s 7ms/step - loss: 0.6893 - accuracy: 0.5468 - val_loss: 0.6957 - val_accuracy: 0.3467\n",
      "Epoch 4/50\n",
      "19/19 [==============================] - 0s 11ms/step - loss: 0.6863 - accuracy: 0.5903 - val_loss: 0.6945 - val_accuracy: 0.4200\n",
      "Epoch 5/50\n",
      "19/19 [==============================] - 0s 8ms/step - loss: 0.6832 - accuracy: 0.7074 - val_loss: 0.6931 - val_accuracy: 0.4600\n",
      "Epoch 6/50\n",
      "19/19 [==============================] - 0s 9ms/step - loss: 0.6786 - accuracy: 0.6973 - val_loss: 0.6928 - val_accuracy: 0.4533\n",
      "Epoch 7/50\n",
      "19/19 [==============================] - 0s 10ms/step - loss: 0.6729 - accuracy: 0.7425 - val_loss: 0.6888 - val_accuracy: 0.5467\n",
      "Epoch 8/50\n",
      "19/19 [==============================] - 0s 7ms/step - loss: 0.6658 - accuracy: 0.7776 - val_loss: 0.6857 - val_accuracy: 0.5800\n",
      "Epoch 9/50\n",
      "19/19 [==============================] - 0s 7ms/step - loss: 0.6573 - accuracy: 0.8077 - val_loss: 0.6810 - val_accuracy: 0.6067\n",
      "Epoch 10/50\n",
      "19/19 [==============================] - 0s 7ms/step - loss: 0.6475 - accuracy: 0.8344 - val_loss: 0.6750 - val_accuracy: 0.6333\n",
      "Epoch 11/50\n",
      "19/19 [==============================] - 0s 7ms/step - loss: 0.6359 - accuracy: 0.8278 - val_loss: 0.6717 - val_accuracy: 0.6267\n",
      "Epoch 12/50\n",
      "19/19 [==============================] - 0s 10ms/step - loss: 0.6219 - accuracy: 0.8696 - val_loss: 0.6605 - val_accuracy: 0.6733\n",
      "Epoch 13/50\n",
      "19/19 [==============================] - 0s 8ms/step - loss: 0.6064 - accuracy: 0.8813 - val_loss: 0.6547 - val_accuracy: 0.6800\n",
      "Epoch 14/50\n",
      "19/19 [==============================] - 0s 8ms/step - loss: 0.5896 - accuracy: 0.8896 - val_loss: 0.6436 - val_accuracy: 0.7067\n",
      "Epoch 15/50\n",
      "19/19 [==============================] - 0s 8ms/step - loss: 0.5710 - accuracy: 0.8963 - val_loss: 0.6349 - val_accuracy: 0.7200\n",
      "Epoch 16/50\n",
      "19/19 [==============================] - 0s 8ms/step - loss: 0.5508 - accuracy: 0.9197 - val_loss: 0.6275 - val_accuracy: 0.7200\n",
      "Epoch 17/50\n",
      "19/19 [==============================] - 0s 10ms/step - loss: 0.5297 - accuracy: 0.9181 - val_loss: 0.6178 - val_accuracy: 0.7267\n",
      "Epoch 18/50\n",
      "19/19 [==============================] - 0s 8ms/step - loss: 0.5076 - accuracy: 0.9231 - val_loss: 0.6039 - val_accuracy: 0.7533\n",
      "Epoch 19/50\n",
      "19/19 [==============================] - 0s 11ms/step - loss: 0.4859 - accuracy: 0.9431 - val_loss: 0.5986 - val_accuracy: 0.7667\n",
      "Epoch 20/50\n",
      "19/19 [==============================] - 0s 11ms/step - loss: 0.4628 - accuracy: 0.9365 - val_loss: 0.5865 - val_accuracy: 0.7600\n",
      "Epoch 21/50\n",
      "19/19 [==============================] - 0s 10ms/step - loss: 0.4404 - accuracy: 0.9465 - val_loss: 0.5766 - val_accuracy: 0.7667\n",
      "Epoch 22/50\n",
      "19/19 [==============================] - 0s 7ms/step - loss: 0.4184 - accuracy: 0.9599 - val_loss: 0.5687 - val_accuracy: 0.7733\n",
      "Epoch 23/50\n",
      "19/19 [==============================] - 0s 10ms/step - loss: 0.3966 - accuracy: 0.9582 - val_loss: 0.5615 - val_accuracy: 0.7733\n",
      "Epoch 24/50\n",
      "19/19 [==============================] - 0s 7ms/step - loss: 0.3756 - accuracy: 0.9632 - val_loss: 0.5517 - val_accuracy: 0.7733\n",
      "Epoch 25/50\n",
      "19/19 [==============================] - 0s 9ms/step - loss: 0.3556 - accuracy: 0.9682 - val_loss: 0.5466 - val_accuracy: 0.7733\n",
      "Epoch 26/50\n",
      "19/19 [==============================] - 0s 11ms/step - loss: 0.3362 - accuracy: 0.9699 - val_loss: 0.5425 - val_accuracy: 0.7800\n",
      "Epoch 27/50\n",
      "19/19 [==============================] - 0s 8ms/step - loss: 0.3176 - accuracy: 0.9749 - val_loss: 0.5343 - val_accuracy: 0.7800\n",
      "Epoch 28/50\n",
      "19/19 [==============================] - 0s 9ms/step - loss: 0.3002 - accuracy: 0.9732 - val_loss: 0.5295 - val_accuracy: 0.7867\n",
      "Epoch 29/50\n",
      "19/19 [==============================] - 0s 8ms/step - loss: 0.2836 - accuracy: 0.9799 - val_loss: 0.5245 - val_accuracy: 0.7933\n",
      "Epoch 30/50\n",
      "19/19 [==============================] - 0s 7ms/step - loss: 0.2680 - accuracy: 0.9816 - val_loss: 0.5224 - val_accuracy: 0.7867\n",
      "Epoch 31/50\n",
      "19/19 [==============================] - 0s 7ms/step - loss: 0.2532 - accuracy: 0.9833 - val_loss: 0.5188 - val_accuracy: 0.7933\n",
      "Epoch 32/50\n",
      "19/19 [==============================] - 0s 9ms/step - loss: 0.2392 - accuracy: 0.9816 - val_loss: 0.5166 - val_accuracy: 0.7933\n",
      "Epoch 33/50\n",
      "19/19 [==============================] - 0s 7ms/step - loss: 0.2258 - accuracy: 0.9849 - val_loss: 0.5106 - val_accuracy: 0.7800\n",
      "Epoch 34/50\n",
      "19/19 [==============================] - 0s 9ms/step - loss: 0.2136 - accuracy: 0.9883 - val_loss: 0.5099 - val_accuracy: 0.7867\n",
      "Epoch 35/50\n",
      "19/19 [==============================] - 0s 9ms/step - loss: 0.2022 - accuracy: 0.9883 - val_loss: 0.5074 - val_accuracy: 0.7733\n",
      "Epoch 36/50\n",
      "19/19 [==============================] - 0s 8ms/step - loss: 0.1921 - accuracy: 0.9883 - val_loss: 0.5062 - val_accuracy: 0.7733\n",
      "Epoch 37/50\n",
      "19/19 [==============================] - 0s 10ms/step - loss: 0.1816 - accuracy: 0.9883 - val_loss: 0.5039 - val_accuracy: 0.7800\n",
      "Epoch 38/50\n",
      "19/19 [==============================] - 0s 8ms/step - loss: 0.1721 - accuracy: 0.9900 - val_loss: 0.5038 - val_accuracy: 0.7667\n",
      "Epoch 39/50\n",
      "19/19 [==============================] - 0s 10ms/step - loss: 0.1643 - accuracy: 0.9883 - val_loss: 0.5048 - val_accuracy: 0.7733\n",
      "Epoch 40/50\n",
      "19/19 [==============================] - 0s 6ms/step - loss: 0.1548 - accuracy: 0.9933 - val_loss: 0.5045 - val_accuracy: 0.7733\n",
      "Epoch 41/50\n",
      "19/19 [==============================] - 0s 7ms/step - loss: 0.1472 - accuracy: 0.9900 - val_loss: 0.5004 - val_accuracy: 0.7733\n",
      "Epoch 42/50\n",
      "19/19 [==============================] - 0s 7ms/step - loss: 0.1399 - accuracy: 0.9933 - val_loss: 0.5032 - val_accuracy: 0.7733\n",
      "Epoch 43/50\n",
      "19/19 [==============================] - 0s 7ms/step - loss: 0.1332 - accuracy: 0.9950 - val_loss: 0.5021 - val_accuracy: 0.7733\n",
      "Epoch 44/50\n",
      "19/19 [==============================] - 0s 20ms/step - loss: 0.1273 - accuracy: 0.9950 - val_loss: 0.5044 - val_accuracy: 0.7533\n"
     ]
    }
   ],
   "source": [
    "#Model\n",
    "early_stopping_monitor = EarlyStopping(patience=3)\n",
    "num_epochs = 50\n",
    "history = model.fit(padded, training_labels_final, epochs=num_epochs, \n",
    "                    validation_data=(testing_padded, testing_labels_final), \n",
    "                    callbacks=[early_stopping_monitor])"
   ]
  },
  {
   "cell_type": "code",
   "execution_count": 30,
   "id": "7ee6c06f-9bcb-4fed-b53e-2831e485bf4f",
   "metadata": {
    "tags": []
   },
   "outputs": [
    {
     "data": {
      "text/plain": [
       "<Figure size 432x288 with 0 Axes>"
      ]
     },
     "execution_count": 30,
     "metadata": {},
     "output_type": "execute_result"
    },
    {
     "data": {
      "image/png": "[encoded data removed]",
      "text/plain": [
       "<Figure size 432x288 with 1 Axes>"
      ]
     },
     "metadata": {
      "needs_background": "light"
     },
     "output_type": "display_data"
    },
    {
     "data": {
      "image/png": "[encoded data removed]",
      "text/plain": [
       "<Figure size 432x288 with 1 Axes>"
      ]
     },
     "metadata": {
      "needs_background": "light"
     },
     "output_type": "display_data"
    },
    {
     "data": {
      "text/plain": [
       "<Figure size 432x288 with 0 Axes>"
      ]
     },
     "metadata": {},
     "output_type": "display_data"
    }
   ],
   "source": [
    "#Plot training and validation accuracies\n",
    "%matplotlib inline\n",
    "import matplotlib.pyplot as plt\n",
    "import matplotlib.image as mpimg\n",
    "acc = history.history['accuracy']\n",
    "val_acc = history.history['val_accuracy']\n",
    "loss = history.history['loss']\n",
    "val_loss = history.history['val_loss']\n",
    "epochs=range(len(acc))\n",
    "plt.plot(epochs, acc, 'r', 'Training Accuracy')\n",
    "plt.plot(epochs, val_acc, 'b', 'Validation Accuracy')\n",
    "plt.title('Training and validation accuracy')\n",
    "plt.figure()\n",
    "plt.plot(epochs, loss, 'r', 'Training Loss')\n",
    "plt.plot(epochs, val_loss, 'b', 'Validation Loss')\n",
    "plt.title('Training and validation loss')\n",
    "plt.figure()"
   ]
  },
  {
   "cell_type": "code",
   "execution_count": 31,
   "id": "7fc86bef-b118-48eb-842e-3cad33174527",
   "metadata": {},
   "outputs": [
    {
     "name": "stdout",
     "output_type": "stream",
     "text": [
      "Test loss: 0.504411518573761 / Test accuracy: 0.753333330154419\n"
     ]
    }
   ],
   "source": [
    "#Verify Model/Evaluation Metric\n",
    "score = model.evaluate(testing_padded, testing_labels_final, verbose=0)\n",
    "print(f'Test loss: {score[0]} / Test accuracy: {score[1]}')"
   ]
  },
  {
   "cell_type": "code",
   "execution_count": 32,
   "id": "4f487d16-5b14-4d7e-bd3b-b50576f446df",
   "metadata": {},
   "outputs": [
    {
     "name": "stdout",
     "output_type": "stream",
     "text": [
      "5/5 [==============================] - 0s 5ms/step\n"
     ]
    }
   ],
   "source": [
    "#Making predictions\n",
    "predictions = model.predict(testing_padded)"
   ]
  },
  {
   "cell_type": "code",
   "execution_count": 33,
   "id": "75c41d48-5473-40fc-9997-95196639cce2",
   "metadata": {},
   "outputs": [],
   "source": [
    "#Making predictions cont.\n",
    "def predict_sentiment(text):\n",
    "    tw = tokenizer.texts_to_sequences([text])\n",
    "    tw = pad_sequences(tw,maxlen=200)\n",
    "    prediction = int(model.predict(tw).round().item())\n",
    "    print(\"Predicted label: \", 'sentiment'[1][prediction])"
   ]
  },
  {
   "cell_type": "code",
   "execution_count": 60,
   "id": "48097d32-9e21-4f85-9c7d-736e2959f8d2",
   "metadata": {},
   "outputs": [
    {
     "name": "stdout",
     "output_type": "stream",
     "text": [
      "Predicted review text: The best scene in the movie was when Gerardo is trying to find a song that keeps running through his head   \n",
      "\n",
      "Predicted:  Positive review\n",
      "Actual:  Positive review\n"
     ]
    }
   ],
   "source": [
    "#Testing the model\n",
    "i = 4\n",
    "\n",
    "print(\"Predicted review text:\", df['review'][i], \"\\n\")\n",
    "print(\"Predicted: \", \"Negative\" if predictions[i][0] >= 0.5 else \"Positive\" , \"review\")\n",
    "print(\"Actual: \", \"Negative\" if df['sentimentt'][i][1] == 0 else \"Positive\" , \"review\")"
   ]
  },
  {
   "cell_type": "code",
   "execution_count": 35,
   "id": "3234e7e8-2cb6-4421-9af1-835e8d524c3f",
   "metadata": {},
   "outputs": [],
   "source": [
    "#Saving the model\n",
    "model.save('SentimentalAnalysis.h5')"
   ]
  },
  {
   "cell_type": "code",
   "execution_count": null,
   "id": "0efbf9d4-dacb-4d65-8c27-36358311dd34",
   "metadata": {},
   "outputs": [],
   "source": []
  }
 ],
 "metadata": {
  "kernelspec": {
   "display_name": "Python 3 (ipykernel)",
   "language": "python",
   "name": "python3"
  },
  "language_info": {
   "codemirror_mode": {
    "name": "ipython",
    "version": 3
   },
   "file_extension": ".py",
   "mimetype": "text/x-python",
   "name": "python",
   "nbconvert_exporter": "python",
   "pygments_lexer": "ipython3",
   "version": "3.9.12"
  }
 },
 "nbformat": 4,
 "nbformat_minor": 5
}
